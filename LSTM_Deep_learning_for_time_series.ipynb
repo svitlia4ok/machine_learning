{
  "cells": [
    {
      "cell_type": "markdown",
      "metadata": {
        "id": "QVNVsLwJvV9S"
      },
      "source": [
        "Давайте подивимося, як LSTM можна використовувати для побудови нейронної мережі прогнозування часових.\n",
        "\n",
        "Будемо працювати з задачею прогнозування кількості пасажирів міжнародних авіаліній. З цим набором даних ми вже працювали в лекції \"Time Series Analysis\" і ви зможете порівняти результати :)\n",
        "\n",
        "Задача полягає в тому, щоб за заданими роком і місяцем передбачити кількість пасажирів міжнародних авіаліній в одиницях виміру 1,000. Дані охоплюють період з січня 1949 року по грудень 1960 року, тобто 12 років, зі 144 спостереженнями.\n",
        "\n",
        "Це регресійна задача. Тобто, знаючи кількість пасажирів (в тисячах) за останні місяці, можна передбачити, якою буде кількість пасажирів у наступному місяці. Набір даних має лише одну характеристику: \"Кількість пасажирів\" - `Passengers`.\n",
        "\n",
        "Далі вже наведений код для читання даних, але нам їх ще треба буде трошки обробити."
      ]
    },
    {
      "cell_type": "code",
      "execution_count": 138,
      "metadata": {},
      "outputs": [
        {
          "name": "stdout",
          "output_type": "stream",
          "text": [
            "Requirement already satisfied: torch in ./.venv/lib/python3.9/site-packages (2.4.1)\n",
            "Requirement already satisfied: filelock in ./.venv/lib/python3.9/site-packages (from torch) (3.16.1)\n",
            "Requirement already satisfied: typing-extensions>=4.8.0 in ./.venv/lib/python3.9/site-packages (from torch) (4.12.2)\n",
            "Requirement already satisfied: sympy in ./.venv/lib/python3.9/site-packages (from torch) (1.13.3)\n",
            "Requirement already satisfied: networkx in ./.venv/lib/python3.9/site-packages (from torch) (3.2.1)\n",
            "Requirement already satisfied: jinja2 in ./.venv/lib/python3.9/site-packages (from torch) (3.1.4)\n",
            "Requirement already satisfied: fsspec in ./.venv/lib/python3.9/site-packages (from torch) (2024.9.0)\n",
            "Requirement already satisfied: MarkupSafe>=2.0 in ./.venv/lib/python3.9/site-packages (from jinja2->torch) (2.1.5)\n",
            "Requirement already satisfied: mpmath<1.4,>=1.1.0 in ./.venv/lib/python3.9/site-packages (from sympy->torch) (1.3.0)\n"
          ]
        }
      ],
      "source": [
        "!pip install torch"
      ]
    },
    {
      "cell_type": "code",
      "execution_count": 139,
      "metadata": {},
      "outputs": [
        {
          "name": "stdout",
          "output_type": "stream",
          "text": [
            "Requirement already satisfied: scikit-learn in ./.venv/lib/python3.9/site-packages (1.5.2)\n",
            "Requirement already satisfied: scipy in ./.venv/lib/python3.9/site-packages (1.13.1)\n",
            "Requirement already satisfied: matplotlib in ./.venv/lib/python3.9/site-packages (3.9.2)\n",
            "Requirement already satisfied: numpy>=1.19.5 in ./.venv/lib/python3.9/site-packages (from scikit-learn) (1.26.4)\n",
            "Requirement already satisfied: joblib>=1.2.0 in ./.venv/lib/python3.9/site-packages (from scikit-learn) (1.4.2)\n",
            "Requirement already satisfied: threadpoolctl>=3.1.0 in ./.venv/lib/python3.9/site-packages (from scikit-learn) (3.5.0)\n",
            "Requirement already satisfied: contourpy>=1.0.1 in ./.venv/lib/python3.9/site-packages (from matplotlib) (1.2.1)\n",
            "Requirement already satisfied: cycler>=0.10 in ./.venv/lib/python3.9/site-packages (from matplotlib) (0.12.1)\n",
            "Requirement already satisfied: fonttools>=4.22.0 in ./.venv/lib/python3.9/site-packages (from matplotlib) (4.51.0)\n",
            "Requirement already satisfied: kiwisolver>=1.3.1 in ./.venv/lib/python3.9/site-packages (from matplotlib) (1.4.5)\n",
            "Requirement already satisfied: packaging>=20.0 in ./.venv/lib/python3.9/site-packages (from matplotlib) (24.0)\n",
            "Requirement already satisfied: pillow>=8 in ./.venv/lib/python3.9/site-packages (from matplotlib) (10.3.0)\n",
            "Requirement already satisfied: pyparsing>=2.3.1 in ./.venv/lib/python3.9/site-packages (from matplotlib) (3.1.2)\n",
            "Requirement already satisfied: python-dateutil>=2.7 in ./.venv/lib/python3.9/site-packages (from matplotlib) (2.9.0.post0)\n",
            "Requirement already satisfied: importlib-resources>=3.2.0 in ./.venv/lib/python3.9/site-packages (from matplotlib) (6.4.0)\n",
            "Requirement already satisfied: zipp>=3.1.0 in ./.venv/lib/python3.9/site-packages (from importlib-resources>=3.2.0->matplotlib) (3.18.1)\n",
            "Requirement already satisfied: six>=1.5 in ./.venv/lib/python3.9/site-packages (from python-dateutil>=2.7->matplotlib) (1.16.0)\n",
            "Note: you may need to restart the kernel to use updated packages.\n"
          ]
        }
      ],
      "source": [
        "pip install scikit-learn scipy matplotlib"
      ]
    },
    {
      "cell_type": "code",
      "execution_count": 140,
      "metadata": {},
      "outputs": [],
      "source": [
        "import torch\n",
        "from torch.utils.data import DataLoader, TensorDataset\n",
        "import torch.nn.functional as F\n",
        "from sklearn.metrics import root_mean_squared_error\n",
        "from  matplotlib import pyplot as plt"
      ]
    },
    {
      "cell_type": "code",
      "execution_count": 141,
      "metadata": {
        "colab": {
          "base_uri": "https://localhost:8080/",
          "height": 238
        },
        "id": "hw3dGYsyluYm",
        "outputId": "a3a3b30e-a1a9-4d28-dd1a-3e5b5e242206"
      },
      "outputs": [
        {
          "data": {
            "text/html": [
              "<div>\n",
              "<style scoped>\n",
              "    .dataframe tbody tr th:only-of-type {\n",
              "        vertical-align: middle;\n",
              "    }\n",
              "\n",
              "    .dataframe tbody tr th {\n",
              "        vertical-align: top;\n",
              "    }\n",
              "\n",
              "    .dataframe thead th {\n",
              "        text-align: right;\n",
              "    }\n",
              "</style>\n",
              "<table border=\"1\" class=\"dataframe\">\n",
              "  <thead>\n",
              "    <tr style=\"text-align: right;\">\n",
              "      <th></th>\n",
              "      <th>Passengers</th>\n",
              "    </tr>\n",
              "    <tr>\n",
              "      <th>Month</th>\n",
              "      <th></th>\n",
              "    </tr>\n",
              "  </thead>\n",
              "  <tbody>\n",
              "    <tr>\n",
              "      <th>1949-01</th>\n",
              "      <td>112</td>\n",
              "    </tr>\n",
              "    <tr>\n",
              "      <th>1949-02</th>\n",
              "      <td>118</td>\n",
              "    </tr>\n",
              "    <tr>\n",
              "      <th>1949-03</th>\n",
              "      <td>132</td>\n",
              "    </tr>\n",
              "    <tr>\n",
              "      <th>1949-04</th>\n",
              "      <td>129</td>\n",
              "    </tr>\n",
              "    <tr>\n",
              "      <th>1949-05</th>\n",
              "      <td>121</td>\n",
              "    </tr>\n",
              "  </tbody>\n",
              "</table>\n",
              "</div>"
            ],
            "text/plain": [
              "         Passengers\n",
              "Month              \n",
              "1949-01         112\n",
              "1949-02         118\n",
              "1949-03         132\n",
              "1949-04         129\n",
              "1949-05         121"
            ]
          },
          "metadata": {},
          "output_type": "display_data"
        }
      ],
      "source": [
        "import pandas as pd\n",
        "import numpy as np\n",
        "from matplotlib import pyplot as plt\n",
        "\n",
        "# Завантаження даних\n",
        "url = \"https://raw.githubusercontent.com/jbrownlee/Datasets/master/airline-passengers.csv\"\n",
        "df = pd.read_csv(url)\n",
        "df.set_index('Month', inplace=True)\n",
        "display(df.head())"
      ]
    },
    {
      "cell_type": "markdown",
      "metadata": {
        "id": "BCcNvF28wSH3"
      },
      "source": [
        "**Завдання 1.** Створіть змінну типу `numpy.ndarray`, яка містить значення кількості пасажирів в форматі `float32`. Такий формат даних нам треба для тренування нейромережі."
      ]
    },
    {
      "cell_type": "code",
      "execution_count": 142,
      "metadata": {
        "id": "7PcJkPAoBOH5"
      },
      "outputs": [
        {
          "name": "stdout",
          "output_type": "stream",
          "text": [
            "[112. 118. 132. 129. 121. 135. 148. 148. 136. 119. 104. 118. 115. 126.\n",
            " 141. 135. 125. 149. 170. 170. 158. 133. 114. 140. 145. 150. 178. 163.\n",
            " 172. 178. 199. 199. 184. 162. 146. 166. 171. 180. 193. 181. 183. 218.\n",
            " 230. 242. 209. 191. 172. 194. 196. 196. 236. 235. 229. 243. 264. 272.\n",
            " 237. 211. 180. 201. 204. 188. 235. 227. 234. 264. 302. 293. 259. 229.\n",
            " 203. 229. 242. 233. 267. 269. 270. 315. 364. 347. 312. 274. 237. 278.\n",
            " 284. 277. 317. 313. 318. 374. 413. 405. 355. 306. 271. 306. 315. 301.\n",
            " 356. 348. 355. 422. 465. 467. 404. 347. 305. 336. 340. 318. 362. 348.\n",
            " 363. 435. 491. 505. 404. 359. 310. 337. 360. 342. 406. 396. 420. 472.\n",
            " 548. 559. 463. 407. 362. 405. 417. 391. 419. 461. 472. 535. 622. 606.\n",
            " 508. 461. 390. 432.]\n"
          ]
        }
      ],
      "source": [
        "passengers = df.Passengers.astype('float32').to_numpy()\n",
        "print(passengers)"
      ]
    },
    {
      "cell_type": "markdown",
      "metadata": {
        "id": "Vms2Pxp1xCrB"
      },
      "source": [
        "Очікуваний результат:\n",
        "```array([112., 118., 132., 129., 121.], dtype=float32)```"
      ]
    },
    {
      "cell_type": "markdown",
      "metadata": {
        "id": "vESTxq-OxLRK"
      },
      "source": [
        "**Завдання 2**. Розбийте дані на тренувальні і валідаційні у співвідношенні 67% йде у тренування, 33 - у валідацію. Памʼятаємо, що ми працюємо з tim series, відповідно, навчаємось на давніших, валідуємось - на новіших."
      ]
    },
    {
      "cell_type": "code",
      "execution_count": 143,
      "metadata": {
        "id": "USpGte_tBPR1"
      },
      "outputs": [],
      "source": [
        "train_count = int(round(len(passengers)*0.67, 0))\n"
      ]
    },
    {
      "cell_type": "code",
      "execution_count": 144,
      "metadata": {},
      "outputs": [],
      "source": [
        "train = passengers[:train_count]\n",
        "test = passengers[train_count:]"
      ]
    },
    {
      "cell_type": "code",
      "execution_count": 145,
      "metadata": {},
      "outputs": [
        {
          "data": {
            "text/plain": [
              "(96, 48)"
            ]
          },
          "execution_count": 145,
          "metadata": {},
          "output_type": "execute_result"
        }
      ],
      "source": [
        "len(train), len(test)"
      ]
    },
    {
      "cell_type": "markdown",
      "metadata": {
        "id": "YB-e-vEDx3bn"
      },
      "source": [
        "**Завдання 3**.\n",
        "\n",
        "Реалізуйте функцію `create_dataset`, яка перетворить одномірний часовий ряд (набір даних) у формат, придатний для тренування нейромережі.\n",
        "\n",
        "Функція повинна приймати два аргументи:\n",
        "- `dataset` — numpy-масив часового ряду,\n",
        "- `lookback` — кількість попередніх кроків, які використовуватимуться для передбачення.\n",
        "\n",
        "Функція повинна повернути два **тензори** PyTorch:\n",
        "- `X` — набір ознак (вікно попередніх значень),\n",
        "- `y` — цільові значення (наступні після вікна кроки).\n",
        "\n",
        "Дані ми будемо подавати моделі в наступному форматі:\n",
        "`\n",
        "tensor([[112.],\n",
        "        [118.],\n",
        "        [132.],\n",
        "        [129.],\n",
        "        [121.]])\n",
        "`\n",
        "Відповідно першою розмірністю буде йти розмір вхідного батча, а другою - розмір вхіднизх даних і в нас це 1, бо лише одне значення на вході щоразу.\n",
        "\n",
        "Після виконання завдання запустіть код нижче. Ми будемо передбачати на основі кількості пасажирів в попередній день кількість пасажирів в наступний, тому `lookback == 1`."
      ]
    },
    {
      "cell_type": "code",
      "execution_count": 146,
      "metadata": {
        "id": "s5UXOiAHBVwe"
      },
      "outputs": [],
      "source": [
        "def create_dataset(dataset, lookback = 1):\n",
        "    # Initialize lists to hold the input sequences (X) and target values (y)\n",
        "    X, y = [], []\n",
        "    \n",
        "    # Loop over the dataset and create input sequences and corresponding targets\n",
        "    for i in range(len(dataset) - lookback):\n",
        "        X.append(dataset[i:(i + lookback)])\n",
        "        y.append(dataset[(i + lookback):(i + lookback + 1)])\n",
        "    \n",
        "    # Convert X and y to PyTorch tensors\n",
        "    X = torch.tensor(np.array(X), dtype=torch.float32)\n",
        "    y = torch.tensor(np.array(y), dtype=torch.float32)\n",
        "    \n",
        "    return X, y"
      ]
    },
    {
      "cell_type": "code",
      "execution_count": 147,
      "metadata": {
        "colab": {
          "base_uri": "https://localhost:8080/"
        },
        "id": "dA8FwOfwuPyl",
        "outputId": "b4bd6a9a-f611-4f81-eceb-7c9e17c8dab6"
      },
      "outputs": [
        {
          "name": "stdout",
          "output_type": "stream",
          "text": [
            "torch.Size([95, 1]) torch.Size([95, 1])\n",
            "torch.Size([47, 1]) torch.Size([47, 1])\n"
          ]
        }
      ],
      "source": [
        "lookback = 1\n",
        "X_train, y_train = create_dataset(train, lookback=lookback)\n",
        "X_test, y_test = create_dataset(test, lookback=lookback)\n",
        "print(X_train.shape, y_train.shape)\n",
        "print(X_test.shape, y_test.shape)"
      ]
    },
    {
      "cell_type": "markdown",
      "metadata": {
        "id": "dvEA-D-SzcWf"
      },
      "source": [
        "Очікуваний результат:\n",
        "```\n",
        "torch.Size([95, 1]) torch.Size([95, 1])\n",
        "torch.Size([47, 1]) torch.Size([47, 1])\n",
        "```"
      ]
    },
    {
      "cell_type": "markdown",
      "metadata": {
        "id": "eeiFJ-jDznj5"
      },
      "source": [
        "**Завдання 4**.\n",
        "\n",
        "Зверніть увагу на розмірності в попередньому завданні. Ми\n",
        "З допомогою модуля `torch.nn` опишіть клас `AirModel`, який є нейронною мережею для прогнозування кількості пасажирів за допомогою LSTM.\n",
        "\n",
        "1. **Конструктор класу** повинен приймати параметри `hidden_size`, `num_layers` та ініціювати шари:\n",
        "   - LSTM-шар з наступними параметрами:\n",
        "     - `input_size` — кожна точка часового ряду є окремим входом,,\n",
        "     - `hidden_size` — заданий в конструкторі класу мережі,\n",
        "     - `num_layers=1` — кількість шарів LSTM, задана в конструкторі мережі,\n",
        "     - `batch_first=True` — визначає, що першим виміром є розмір батчу.\n",
        "   - Лінійний шар (`nn.Linear`) для перетворення виходу LSTM на прогноз однієї точки.\n",
        "\n",
        "2. **Метод forward** повинен виконувати наступні дії:\n",
        "   - Передати вхідний тензор через LSTM-шар і отримати виходи (ігноруючи приховані стани).\n",
        "   - Пропустити вихід LSTM через лінійний шар для отримання остаточного прогнозу.\n",
        "\n",
        "Створіть об'єкт класу `AirModel` зі значеннями параметрів `hidden_size=50`, `num_layers=1` і протестуйте роботу моделі на вхідному тензорі `tensor([[112.]])`. На цьому етапі ми маємо переконатись, що модель здатна генерувати передбачення з рандомно ініційованими вагами."
      ]
    },
    {
      "cell_type": "code",
      "execution_count": 148,
      "metadata": {
        "id": "dcafrsmrDHsz"
      },
      "outputs": [],
      "source": [
        "class AirModel(torch.nn.Module):\n",
        "    def __init__(self, input_size, hidden_size, num_layers):\n",
        "        super(AirModel, self).__init__()\n",
        "        self.hidden_dim = hidden_size\n",
        "        self.layer_dim = num_layers\n",
        "        self.lstm = torch.nn.LSTM(input_size, hidden_size, num_layers, batch_first = True)\n",
        "        self.fc = torch.nn.Linear(hidden_size, 1)\n",
        "\n",
        "    def forward(self, x):\n",
        "        out, _ = self.lstm(x)\n",
        "        out = self.fc(out)\n",
        "        return out"
      ]
    },
    {
      "cell_type": "code",
      "execution_count": 149,
      "metadata": {},
      "outputs": [
        {
          "data": {
            "text/plain": [
              "tensor([[112.]])"
            ]
          },
          "execution_count": 149,
          "metadata": {},
          "output_type": "execute_result"
        }
      ],
      "source": [
        "air_model = AirModel(1, 50, 1)\n",
        "test_data = torch.tensor(np.array([112]), dtype=torch.float32).unsqueeze(1)\n",
        "test_data"
      ]
    },
    {
      "cell_type": "code",
      "execution_count": 150,
      "metadata": {},
      "outputs": [
        {
          "data": {
            "text/plain": [
              "tensor([[-0.1295]], grad_fn=<AddmmBackward0>)"
            ]
          },
          "execution_count": 150,
          "metadata": {},
          "output_type": "execute_result"
        }
      ],
      "source": [
        "air_model(test_data)"
      ]
    },
    {
      "cell_type": "markdown",
      "metadata": {
        "id": "-R6zv9nu2tWB"
      },
      "source": [
        "**Завдання 5**.\n",
        "\n",
        "Створіть об'єкт DataLoader для завантаження даних, використовуючи тренувальні вибірки `X_train` та `y_train`. Ваш DataLoader повинен виконувати наступні вимоги:\n",
        "\n",
        "1. Використовувати клас `TensorDataset`, щоб об'єднати тензори ознак `X_train` і цільових значень `y_train`.\n",
        "2. Дані повинні завантажуватися невеликими батчами розміром 8 за допомогою параметра `batch_size`.\n",
        "3. Використовувати параметр `shuffle=True`, щоб дані перемішувалися перед кожною епохою тренування.\n"
      ]
    },
    {
      "cell_type": "code",
      "execution_count": 151,
      "metadata": {
        "id": "WKdkptY7DMAc"
      },
      "outputs": [],
      "source": [
        "train_ds = TensorDataset(X_train, y_train)\n",
        "data_loader = DataLoader(dataset=train_ds, batch_size=8, shuffle=True)\n",
        "test_ds = TensorDataset(X_test, y_test)\n",
        "data_loader_test = DataLoader(dataset=test_ds, batch_size=8, shuffle=True)"
      ]
    },
    {
      "cell_type": "code",
      "execution_count": 152,
      "metadata": {},
      "outputs": [
        {
          "data": {
            "text/plain": [
              "[tensor([[229.],\n",
              "         [170.],\n",
              "         [317.],\n",
              "         [203.],\n",
              "         [135.],\n",
              "         [274.],\n",
              "         [374.],\n",
              "         [235.]]),\n",
              " tensor([[203.],\n",
              "         [170.],\n",
              "         [313.],\n",
              "         [229.],\n",
              "         [148.],\n",
              "         [237.],\n",
              "         [413.],\n",
              "         [227.]])]"
            ]
          },
          "execution_count": 152,
          "metadata": {},
          "output_type": "execute_result"
        }
      ],
      "source": [
        "next(iter(data_loader))"
      ]
    },
    {
      "cell_type": "markdown",
      "metadata": {
        "id": "6ZaGh7IF2nfT"
      },
      "source": [
        "**Завдання 6**.\n",
        "\n",
        "1. Реалізуйте навчання нейронної мережі `AirModel` для прогнозування часових рядів, використовуючи Adam-оптимізатор та функцію втрат MSE (середньоквадратичну похибку).\n",
        "2. Створіть цикл тренування для 2000 епох, у якому на кожній епосі:\n",
        "   - Виконуйте крок тренування моделі (прямий прохід, обчислення похибки, зворотний прохід і оновлення ваг).\n",
        "   - Підраховуйте середню похибку на кожному батчі даних і зберігайте її у списку `losses`.\n",
        "3. Раз на 100 епох проводьте валідацію моделі:\n",
        "   - Перевіряйте модель на тренувальних та тестових даних без оновлення ваг.\n",
        "   - Обчислюйте корінь середньоквадратичної похибки (RMSE) для тренувальної та тестової вибірок і виводьте результати на екран.\n",
        "   \n",
        "**Примітка:**\n",
        "- Використовуйте вже створений `DataLoader` для отримання батчів даних.\n",
        "- Валідацію виконуйте в режимі `eval()`, вимикаючи обчислення градієнтів з `torch.no_grad()`.\n",
        "\n",
        "**Приклад виходу:**\n",
        "```\n",
        "Epoch 0: train RMSE 12.3456, test RMSE 15.6789\n",
        "Epoch 100: train RMSE 9.8765, test RMSE 12.3456\n",
        "...\n",
        "```"
      ]
    },
    {
      "cell_type": "code",
      "execution_count": 153,
      "metadata": {},
      "outputs": [],
      "source": [
        "optimizer = torch.optim.Adam(air_model.parameters(), lr=0.01)\n",
        "loss_fn = F.mse_loss"
      ]
    },
    {
      "cell_type": "code",
      "execution_count": 154,
      "metadata": {
        "id": "pEVnWusrDNTt"
      },
      "outputs": [],
      "source": [
        "def train(model, data_loader, optimizer, loss_fn):\n",
        "    lossSum = 0\n",
        "    for X, y in data_loader:\n",
        "        optimizer.zero_grad()\n",
        "        output = model(X)\n",
        "        loss = loss_fn(output, y)\n",
        "        loss.backward()\n",
        "        optimizer.step()\n",
        "        lossSum += loss.item()\n",
        "    return lossSum/len(data_loader)\n",
        "    \n",
        "def validate(model, data_loader):\n",
        "    lossSum = 0\n",
        "    with torch.no_grad():\n",
        "        for X, y in data_loader:\n",
        "            output = model(X)\n",
        "            loss = root_mean_squared_error(output, y)\n",
        "            lossSum += loss\n",
        "    return lossSum/len(data_loader)"
      ]
    },
    {
      "cell_type": "code",
      "execution_count": 155,
      "metadata": {},
      "outputs": [
        {
          "name": "stdout",
          "output_type": "stream",
          "text": [
            "Epoch 0: train RMSE 221.69170761108398, test RMSE 418.52490234375\n",
            "Epoch 100: train RMSE 48.77292092641195, test RMSE 198.49339294433594\n",
            "Epoch 200: train RMSE 43.42183335622152, test RMSE 171.91290283203125\n",
            "Epoch 300: train RMSE 36.53908618291219, test RMSE 157.2401377360026\n",
            "Epoch 400: train RMSE 38.87797101338705, test RMSE 145.8138542175293\n",
            "Epoch 500: train RMSE 37.62205378214518, test RMSE 147.48418680826822\n",
            "Epoch 600: train RMSE 35.1569390296936, test RMSE 141.60072580973306\n",
            "Epoch 700: train RMSE 35.240143616994224, test RMSE 137.78111012776694\n",
            "Epoch 800: train RMSE 35.61797173817953, test RMSE 137.9154256184896\n",
            "Epoch 900: train RMSE 35.14783795674642, test RMSE 140.58971786499023\n",
            "Epoch 1000: train RMSE 36.48209730784098, test RMSE 141.3282699584961\n",
            "Epoch 1100: train RMSE 37.65431992212931, test RMSE 139.00487899780273\n",
            "Epoch 1200: train RMSE 32.06494720776876, test RMSE 138.4446004231771\n",
            "Epoch 1300: train RMSE 30.096516847610474, test RMSE 136.9911321004232\n",
            "Epoch 1400: train RMSE 34.746718406677246, test RMSE 135.05609766642252\n",
            "Epoch 1500: train RMSE 37.13519732157389, test RMSE 132.1173884073893\n",
            "Epoch 1600: train RMSE 38.11679951349894, test RMSE 140.98038228352866\n",
            "Epoch 1700: train RMSE 36.63323704401652, test RMSE 135.3282470703125\n",
            "Epoch 1800: train RMSE 37.378503481547035, test RMSE 136.9105707804362\n",
            "Epoch 1900: train RMSE 35.4557409286499, test RMSE 150.40479024251303\n"
          ]
        }
      ],
      "source": [
        "num_epochs = 2000\n",
        "losses = []\n",
        "for i in range(num_epochs):   \n",
        "    air_model.train()\n",
        "    mse = train(air_model, data_loader, optimizer, loss_fn)\n",
        "    losses.append(mse)\n",
        "    if i % 100 == 0:\n",
        "        air_model.eval()\n",
        "        rmse_train = validate(air_model, data_loader)\n",
        "        rmse_test = validate(air_model, data_loader_test)\n",
        "        print(f'Epoch {i}: train RMSE {rmse_train}, test RMSE {rmse_test}')\n",
        "    "
      ]
    },
    {
      "cell_type": "markdown",
      "metadata": {
        "id": "m0sIo4kp5X_s"
      },
      "source": [
        "**Завдання 7.** Побудуйте графік лосів. Зробіть висновок з графіку, чи навчилась модель?"
      ]
    },
    {
      "cell_type": "code",
      "execution_count": 156,
      "metadata": {},
      "outputs": [],
      "source": [
        "air_model.eval()\n",
        "t = air_model(X_train[0:5])"
      ]
    },
    {
      "cell_type": "code",
      "execution_count": 157,
      "metadata": {
        "id": "AS2USLRq76up"
      },
      "outputs": [
        {
          "data": {
            "text/plain": [
              "[<matplotlib.lines.Line2D at 0x17fb3d640>]"
            ]
          },
          "execution_count": 157,
          "metadata": {},
          "output_type": "execute_result"
        },
        {
          "data": {
            "image/png": "[encoded data removed]",
            "text/plain": [
              "<Figure size 640x480 with 1 Axes>"
            ]
          },
          "metadata": {},
          "output_type": "display_data"
        }
      ],
      "source": [
        "plt.plot(losses)"
      ]
    },
    {
      "cell_type": "markdown",
      "metadata": {
        "id": "8eBoUQVB5p0h"
      },
      "source": [
        "Модель навчилась, але не факт, що точно)"
      ]
    },
    {
      "cell_type": "markdown",
      "metadata": {
        "id": "-vCiGfQw7sEK"
      },
      "source": [
        "Доволі неочікувано, що середньоквадратичне відхилення тестового набору даних буде на порядок більшим за одиниці в нашому наборі даних. Середньоквадратичне відхилення 100 означає, що прогноз і фактичне значення будуть відрізнятися в середньому на 100 (тобто, 100 000 пасажирів у цьому наборі даних).\n",
        "\n"
      ]
    },
    {
      "cell_type": "markdown",
      "metadata": {
        "id": "bgtO7NZh77vU"
      },
      "source": [
        "Щоб краще зрозуміти якість прогнозу, ви можете побудувати графік з кодом нижче (а ще нижче - описано, що відбувається в цьому коді, бо це теж корисно зрозуміти):"
      ]
    },
    {
      "cell_type": "code",
      "execution_count": 184,
      "metadata": {
        "id": "ZznU2AK0vES5"
      },
      "outputs": [
        {
          "data": {
            "image/png": "[encoded data removed]",
            "text/plain": [
              "<Figure size 640x480 with 1 Axes>"
            ]
          },
          "metadata": {},
          "output_type": "display_data"
        }
      ],
      "source": [
        "timeseries = torch.tensor(np.array(passengers), dtype=torch.float32)\n",
        "def plot_predicts(air_model):\n",
        "  with torch.no_grad():\n",
        "      # Зсув прогнозів для тренувальних даних\n",
        "      train_plot = np.ones_like(timeseries) * np.nan\n",
        "      y_pred = air_model(X_train)\n",
        "      y_pred = y_pred[:, -1]\n",
        "      train_plot[lookback:train_count] = air_model(X_train)[:, -1]\n",
        "\n",
        "      # Зсув прогнозів для тестових даних\n",
        "      test_plot = np.ones_like(timeseries) * np.nan\n",
        "      test_plot[train_count+lookback:len(timeseries)] = air_model(X_test)[:, -1]\n",
        "\n",
        "  # Візуалізація результатів\n",
        "  plt.plot(timeseries, c='b')  # Реальні дані\n",
        "  plt.plot(train_plot, c='r')  # Прогнози на тренувальних даних\n",
        "  plt.plot(test_plot, c='g')   # Прогнози на тестових даних\n",
        "  plt.show()\n",
        "\n",
        "plot_predicts(air_model)"
      ]
    },
    {
      "cell_type": "markdown",
      "metadata": {
        "id": "ahPW3iiJDg1R"
      },
      "source": [
        "**Що відбувається в коді вище.** В цьому коді здійснюється процес прогнозування часових рядів за допомогою LSTM моделі, а також виведення графіку, який показує реальні значення, тренувальні та тестові прогнози. Ось що відбувається на кожному етапі:\n",
        "\n",
        "1. **`torch.no_grad()`**: Цей контекстний менеджер вимикає обчислення градієнтів, що означає, що під час прогнозування не будуть зберігатися проміжні обчислення для зворотного проходу (backpropagation). Це підвищує ефективність під час прогнозування і зменшує використання пам'яті.\n",
        "\n",
        "2. **Зсув прогнозів для тренувальних даних:**\n",
        "   - Створюється масив `train_plot`, який має такий самий розмір, як і часовий ряд (`timeseries`), і заповнюється значеннями NaN (`np.nan`), щоб залишити місце для реальних значень.\n",
        "   - Модель передбачає виходи для тренувальних даних `X_train`.\n",
        "   - Використовується лише останнє передбачене значення для кожного входу LSTM (`y_pred[:, -1]`).\n",
        "   - Прогнози зсуваються, починаючи з індексу `lookback` до кінця тренувальних даних (індекс `train_size`). Цей зсув потрібен, щоб зробити прогноз на основі попередніх даних і відобразити його на правильній частині графіку.\n",
        "\n",
        "3. **Зсув прогнозів для тестових даних:**\n",
        "   - Створюється масив `test_plot`, який також заповнюється NaN.\n",
        "   - Прогнози для тестових даних додаються з індексу `train_size + lookback` до кінця реальних даних, щоб відобразити, де модель починає прогнозувати тестову вибірку.\n",
        "\n",
        "4. **Побудова графіка:**\n",
        "   - `plt.plot(timeseries, c='b')`: Виводить реальні значення часового ряду (синя лінія).\n",
        "   - `plt.plot(train_plot, c='r')`: Виводить тренувальні прогнози (червона лінія).\n",
        "   - `plt.plot(test_plot, c='g')`: Виводить тестові прогнози (зелена лінія).\n",
        "\n",
        "**Чому це робиться:**\n",
        "- Зсув прогнозів для тренувальних і тестових даних дозволяє візуально зрівняти, наскільки добре модель прогнозує як на тренувальній, так і на тестовій вибірках. Зазвичай, червона лінія (тренувальні прогнози) повинна точно відповідати синій лінії (реальні дані), а зелена лінія (тестові прогнози) дає змогу побачити, наскільки модель добре працює на нових даних, яких вона раніше не бачила."
      ]
    },
    {
      "cell_type": "markdown",
      "metadata": {
        "id": "PhoeHLus-xIr"
      },
      "source": [
        "**Завдання 8**. Навчіть модель з hidden_size=100 та порівняйте результати прогнозів з попередніми."
      ]
    },
    {
      "cell_type": "code",
      "execution_count": 187,
      "metadata": {
        "id": "92032N_E_PxY"
      },
      "outputs": [
        {
          "name": "stdout",
          "output_type": "stream",
          "text": [
            "Epoch 0: train RMSE 223.7311045328776, test RMSE 421.2432810465495\n",
            "Epoch 100: train RMSE 129.5364195505778, test RMSE 320.61753845214844\n",
            "Epoch 200: train RMSE 81.47891934712727, test RMSE 258.0355707804362\n",
            "Epoch 300: train RMSE 53.13930622736613, test RMSE 213.06550089518228\n",
            "Epoch 400: train RMSE 38.30603233973185, test RMSE 174.76590855916342\n",
            "Epoch 500: train RMSE 30.823407014211018, test RMSE 149.7992909749349\n",
            "Epoch 600: train RMSE 30.213605880737305, test RMSE 132.80658976236978\n",
            "Epoch 700: train RMSE 26.495956420898438, test RMSE 117.06655248006184\n",
            "Epoch 800: train RMSE 27.370306968688965, test RMSE 103.38963572184245\n",
            "Epoch 900: train RMSE 22.356247425079346, test RMSE 99.8311996459961\n",
            "Epoch 1000: train RMSE 22.511658827463787, test RMSE 85.00835100809734\n",
            "Epoch 1100: train RMSE 22.81612428029378, test RMSE 84.44242159525554\n",
            "Epoch 1200: train RMSE 22.446134328842163, test RMSE 90.7138188680013\n",
            "Epoch 1300: train RMSE 23.703535556793213, test RMSE 82.05798467000325\n",
            "Epoch 1400: train RMSE 23.22114849090576, test RMSE 80.76271502176921\n",
            "Epoch 1500: train RMSE 22.886358658472698, test RMSE 84.26563453674316\n",
            "Epoch 1600: train RMSE 23.338242530822754, test RMSE 83.64698219299316\n",
            "Epoch 1700: train RMSE 24.460996230443318, test RMSE 80.6164665222168\n",
            "Epoch 1800: train RMSE 22.02780882517497, test RMSE 73.04173723856609\n",
            "Epoch 1900: train RMSE 22.14880347251892, test RMSE 75.49650382995605\n",
            "Epoch 2000: train RMSE 22.231500546137493, test RMSE 89.85071055094402\n",
            "Epoch 2100: train RMSE 22.511000553766888, test RMSE 85.54126739501953\n",
            "Epoch 2200: train RMSE 22.312468767166138, test RMSE 82.34012413024902\n",
            "Epoch 2300: train RMSE 24.943428834279377, test RMSE 81.00368245442708\n",
            "Epoch 2400: train RMSE 22.63910682996114, test RMSE 75.50835100809734\n",
            "Epoch 2500: train RMSE 22.098271290461224, test RMSE 86.63946342468262\n",
            "Epoch 2600: train RMSE 22.16150164604187, test RMSE 78.77665774027507\n",
            "Epoch 2700: train RMSE 23.14861234029134, test RMSE 73.75921249389648\n",
            "Epoch 2800: train RMSE 21.201744476954143, test RMSE 80.03528022766113\n",
            "Epoch 2900: train RMSE 22.664168993632, test RMSE 73.64675585428874\n",
            "Epoch 3000: train RMSE 24.292073488235474, test RMSE 81.11567115783691\n",
            "Epoch 3100: train RMSE 24.15753936767578, test RMSE 74.66808891296387\n",
            "Epoch 3200: train RMSE 21.509724696477253, test RMSE 81.32246271769206\n",
            "Epoch 3300: train RMSE 22.442811806996662, test RMSE 79.1049207051595\n",
            "Epoch 3400: train RMSE 22.634684880574543, test RMSE 76.16934331258138\n",
            "Epoch 3500: train RMSE 22.993125438690186, test RMSE 78.82908757527669\n",
            "Epoch 3600: train RMSE 22.394646724065144, test RMSE 73.84040514628093\n",
            "Epoch 3700: train RMSE 22.100526173909504, test RMSE 68.91857973734538\n",
            "Epoch 3800: train RMSE 23.255210399627686, test RMSE 64.5935230255127\n",
            "Epoch 3900: train RMSE 22.741479237874348, test RMSE 76.18890062967937\n",
            "Epoch 4000: train RMSE 23.15153129895528, test RMSE 72.99695714314778\n",
            "Epoch 4100: train RMSE 23.015512863794964, test RMSE 63.38309892018636\n",
            "Epoch 4200: train RMSE 22.640771865844727, test RMSE 71.23255729675293\n",
            "Epoch 4300: train RMSE 22.115387678146362, test RMSE 71.60507265726726\n",
            "Epoch 4400: train RMSE 23.125537236531574, test RMSE 79.49766540527344\n",
            "Epoch 4500: train RMSE 21.6002991994222, test RMSE 76.51802062988281\n",
            "Epoch 4600: train RMSE 23.86299157142639, test RMSE 72.0632775624593\n",
            "Epoch 4700: train RMSE 21.796541213989258, test RMSE 79.0950247446696\n",
            "Epoch 4800: train RMSE 22.61600120862325, test RMSE 78.27320671081543\n",
            "Epoch 4900: train RMSE 22.4097576936086, test RMSE 69.4362850189209\n",
            "Epoch 5000: train RMSE 22.982368389765423, test RMSE 72.35826365152995\n",
            "Epoch 5100: train RMSE 23.524586995442707, test RMSE 77.67336336771648\n",
            "Epoch 5200: train RMSE 22.632463852564495, test RMSE 79.33163515726726\n",
            "Epoch 5300: train RMSE 22.66714859008789, test RMSE 83.65000406901042\n",
            "Epoch 5400: train RMSE 22.7129963239034, test RMSE 86.39407539367676\n",
            "Epoch 5500: train RMSE 22.390307585398357, test RMSE 74.62147013346355\n",
            "Epoch 5600: train RMSE 21.603437185287476, test RMSE 75.6606388092041\n",
            "Epoch 5700: train RMSE 22.65379770596822, test RMSE 76.56721305847168\n",
            "Epoch 5800: train RMSE 23.012213309605915, test RMSE 78.86917114257812\n",
            "Epoch 5900: train RMSE 22.379735628763836, test RMSE 76.25123500823975\n",
            "Epoch 6000: train RMSE 22.296544233957928, test RMSE 80.8032652537028\n",
            "Epoch 6100: train RMSE 22.415289004643757, test RMSE 63.50194485982259\n",
            "Epoch 6200: train RMSE 23.198312997817993, test RMSE 69.05117098490398\n",
            "Epoch 6300: train RMSE 22.852636337280273, test RMSE 73.23389053344727\n",
            "Epoch 6400: train RMSE 22.20644172032674, test RMSE 74.47941907246907\n",
            "Epoch 6500: train RMSE 22.254687945048016, test RMSE 71.2026735941569\n",
            "Epoch 6600: train RMSE 21.854746222496033, test RMSE 77.38970184326172\n",
            "Epoch 6700: train RMSE 22.112346251805622, test RMSE 75.99167823791504\n",
            "Epoch 6800: train RMSE 23.05077608426412, test RMSE 67.44665845235188\n",
            "Epoch 6900: train RMSE 22.211138407389324, test RMSE 67.03137016296387\n",
            "Epoch 7000: train RMSE 23.7944442431132, test RMSE 83.57411066691081\n",
            "Epoch 7100: train RMSE 23.315144062042236, test RMSE 81.63141059875488\n",
            "Epoch 7200: train RMSE 23.010071516036987, test RMSE 72.44963645935059\n",
            "Epoch 7300: train RMSE 21.550768613815308, test RMSE 72.15466944376628\n",
            "Epoch 7400: train RMSE 22.126012881596882, test RMSE 71.10822168986003\n",
            "Epoch 7500: train RMSE 25.005221525828045, test RMSE 77.60275395711263\n",
            "Epoch 7600: train RMSE 21.906913836797077, test RMSE 75.36982154846191\n",
            "Epoch 7700: train RMSE 21.620696942011516, test RMSE 73.63038698832194\n",
            "Epoch 7800: train RMSE 22.352510531743366, test RMSE 78.81089528401692\n",
            "Epoch 7900: train RMSE 22.25793234507243, test RMSE 78.84150123596191\n",
            "Epoch 8000: train RMSE 22.45037817955017, test RMSE 73.82578913370769\n",
            "Epoch 8100: train RMSE 22.043583075205486, test RMSE 75.16659800211589\n",
            "Epoch 8200: train RMSE 22.1340233484904, test RMSE 77.24832661946614\n",
            "Epoch 8300: train RMSE 21.690112193425495, test RMSE 72.60065841674805\n",
            "Epoch 8400: train RMSE 22.67098395029704, test RMSE 74.77004051208496\n",
            "Epoch 8500: train RMSE 22.955106099446613, test RMSE 75.50223223368327\n",
            "Epoch 8600: train RMSE 22.459624767303467, test RMSE 71.58020973205566\n",
            "Epoch 8700: train RMSE 22.64888270696004, test RMSE 73.39174588521321\n",
            "Epoch 8800: train RMSE 20.956705729166668, test RMSE 77.03574307759602\n",
            "Epoch 8900: train RMSE 21.672290722529095, test RMSE 71.86181449890137\n",
            "Epoch 9000: train RMSE 22.420880158742268, test RMSE 81.8099536895752\n",
            "Epoch 9100: train RMSE 21.96513843536377, test RMSE 73.55135663350423\n",
            "Epoch 9200: train RMSE 21.84465789794922, test RMSE 70.90709559122722\n",
            "Epoch 9300: train RMSE 21.466957807540894, test RMSE 70.58571751912434\n",
            "Epoch 9400: train RMSE 22.213181575139362, test RMSE 71.76913515726726\n",
            "Epoch 9500: train RMSE 22.738723119099934, test RMSE 71.5420773824056\n",
            "Epoch 9600: train RMSE 21.721673885981243, test RMSE 77.45334498087566\n",
            "Epoch 9700: train RMSE 22.351935386657715, test RMSE 70.58651288350423\n",
            "Epoch 9800: train RMSE 22.81393337249756, test RMSE 74.03335762023926\n",
            "Epoch 9900: train RMSE 21.835035641988117, test RMSE 76.09018643697102\n",
            "Epoch 10000: train RMSE 22.334413369496662, test RMSE 72.59354496002197\n",
            "Epoch 10100: train RMSE 22.348620494206745, test RMSE 73.0036392211914\n",
            "Epoch 10200: train RMSE 21.85711661974589, test RMSE 72.41571553548177\n",
            "Epoch 10300: train RMSE 21.615535736083984, test RMSE 71.52157274881999\n",
            "Epoch 10400: train RMSE 22.162760337193806, test RMSE 75.4176820119222\n",
            "Epoch 10500: train RMSE 21.955145676930744, test RMSE 78.21295102437337\n",
            "Epoch 10600: train RMSE 21.650194724400837, test RMSE 80.00924173990886\n",
            "Epoch 10700: train RMSE 22.680437008539837, test RMSE 70.36036237080891\n",
            "Epoch 10800: train RMSE 21.70787485440572, test RMSE 77.5060666402181\n",
            "Epoch 10900: train RMSE 23.52456545829773, test RMSE 74.10592397054036\n",
            "Epoch 11000: train RMSE 23.493508497873943, test RMSE 74.16420046488444\n",
            "Epoch 11100: train RMSE 23.028196891148884, test RMSE 72.94620323181152\n",
            "Epoch 11200: train RMSE 24.245587905248005, test RMSE 76.3153247833252\n",
            "Epoch 11300: train RMSE 21.761831998825073, test RMSE 73.86925760904948\n",
            "Epoch 11400: train RMSE 21.625466346740723, test RMSE 72.08499844868977\n",
            "Epoch 11500: train RMSE 26.042768001556396, test RMSE 75.78844388326009\n",
            "Epoch 11600: train RMSE 20.809653838475544, test RMSE 74.80236689249675\n",
            "Epoch 11700: train RMSE 22.134766101837158, test RMSE 74.13124974568684\n",
            "Epoch 11800: train RMSE 21.4517556031545, test RMSE 77.18558247884114\n",
            "Epoch 11900: train RMSE 21.660579204559326, test RMSE 82.18888664245605\n",
            "Epoch 12000: train RMSE 22.076191504796345, test RMSE 75.75442059834798\n",
            "Epoch 12100: train RMSE 21.82046127319336, test RMSE 76.43096923828125\n",
            "Epoch 12200: train RMSE 21.563853979110718, test RMSE 77.51990604400635\n",
            "Epoch 12300: train RMSE 21.828996658325195, test RMSE 71.13024075826009\n",
            "Epoch 12400: train RMSE 22.065175930658977, test RMSE 73.38699404398601\n",
            "Epoch 12500: train RMSE 21.994608879089355, test RMSE 75.64008140563965\n",
            "Epoch 12600: train RMSE 21.391254822413128, test RMSE 79.48787498474121\n",
            "Epoch 12700: train RMSE 22.394991715749104, test RMSE 76.70330429077148\n",
            "Epoch 12800: train RMSE 22.517879883448284, test RMSE 80.84536234537761\n",
            "Epoch 12900: train RMSE 21.922428687413532, test RMSE 72.19621721903484\n",
            "Epoch 13000: train RMSE 21.500885725021362, test RMSE 71.8339360555013\n",
            "Epoch 13100: train RMSE 21.04081169764201, test RMSE 73.65267499287923\n",
            "Epoch 13200: train RMSE 22.057953119277954, test RMSE 71.24438730875652\n",
            "Epoch 13300: train RMSE 21.768586715062458, test RMSE 72.69627443949382\n",
            "Epoch 13400: train RMSE 21.8939315478007, test RMSE 74.3173287709554\n",
            "Epoch 13500: train RMSE 22.477009534835815, test RMSE 74.40209070841472\n",
            "Epoch 13600: train RMSE 21.25720238685608, test RMSE 70.4100996653239\n",
            "Epoch 13700: train RMSE 20.299157698949177, test RMSE 78.3895804087321\n",
            "Epoch 13800: train RMSE 22.56724937756856, test RMSE 70.4933573404948\n",
            "Epoch 13900: train RMSE 21.819523493448894, test RMSE 73.17393239339192\n",
            "Epoch 14000: train RMSE 21.362945397694904, test RMSE 68.9401429494222\n",
            "Epoch 14100: train RMSE 22.036901632944744, test RMSE 68.92299397786458\n",
            "Epoch 14200: train RMSE 21.337780872980755, test RMSE 73.37856992085774\n",
            "Epoch 14300: train RMSE 22.74477465947469, test RMSE 74.46359634399414\n",
            "Epoch 14400: train RMSE 21.583022912343342, test RMSE 72.33331934611003\n",
            "Epoch 14500: train RMSE 22.641411542892456, test RMSE 70.83408800760905\n",
            "Epoch 14600: train RMSE 21.017502307891846, test RMSE 73.83707110087077\n",
            "Epoch 14700: train RMSE 21.56105836232503, test RMSE 71.03710683186848\n",
            "Epoch 14800: train RMSE 21.75800387064616, test RMSE 68.68562507629395\n",
            "Epoch 14900: train RMSE 21.097063064575195, test RMSE 72.37865956624348\n",
            "Epoch 15000: train RMSE 21.425376733144123, test RMSE 68.29379653930664\n",
            "Epoch 15100: train RMSE 22.959436893463135, test RMSE 74.50658416748047\n",
            "Epoch 15200: train RMSE 21.93117419878642, test RMSE 70.35352897644043\n",
            "Epoch 15300: train RMSE 21.322908401489258, test RMSE 72.08802286783855\n",
            "Epoch 15400: train RMSE 22.277228832244873, test RMSE 74.54366874694824\n",
            "Epoch 15500: train RMSE 21.37126874923706, test RMSE 68.61262385050456\n",
            "Epoch 15600: train RMSE 21.763128121693928, test RMSE 75.98197682698567\n",
            "Epoch 15700: train RMSE 21.215394496917725, test RMSE 72.69983386993408\n",
            "Epoch 15800: train RMSE 22.92205826441447, test RMSE 72.14623705546062\n",
            "Epoch 15900: train RMSE 21.358790397644043, test RMSE 76.44094149271648\n",
            "Epoch 16000: train RMSE 22.5982080300649, test RMSE 77.37399101257324\n",
            "Epoch 16100: train RMSE 22.185848077138264, test RMSE 79.4638245900472\n",
            "Epoch 16200: train RMSE 21.66224940617879, test RMSE 78.00125821431477\n",
            "Epoch 16300: train RMSE 21.347347180048626, test RMSE 74.01385116577148\n",
            "Epoch 16400: train RMSE 21.195616881052654, test RMSE 67.07204564412434\n",
            "Epoch 16500: train RMSE 21.194050470987957, test RMSE 71.1433760325114\n",
            "Epoch 16600: train RMSE 20.66892687479655, test RMSE 74.35050137837727\n",
            "Epoch 16700: train RMSE 23.363324721654255, test RMSE 74.8461348215739\n",
            "Epoch 16800: train RMSE 20.918535153071087, test RMSE 72.38225173950195\n",
            "Epoch 16900: train RMSE 22.100139379501343, test RMSE 72.44360574086507\n",
            "Epoch 17000: train RMSE 21.168220043182373, test RMSE 77.20987701416016\n",
            "Epoch 17100: train RMSE 21.16068450609843, test RMSE 72.34020233154297\n",
            "Epoch 17200: train RMSE 21.248114824295044, test RMSE 70.76593526204427\n",
            "Epoch 17300: train RMSE 20.41994309425354, test RMSE 66.15681966145833\n",
            "Epoch 17400: train RMSE 21.66175905863444, test RMSE 76.80659993489583\n",
            "Epoch 17500: train RMSE 20.97649892171224, test RMSE 73.14487711588542\n",
            "Epoch 17600: train RMSE 22.029983520507812, test RMSE 72.89679272969563\n",
            "Epoch 17700: train RMSE 20.725486040115356, test RMSE 69.12931887308757\n",
            "Epoch 17800: train RMSE 21.471941868464153, test RMSE 71.92932065327962\n",
            "Epoch 17900: train RMSE 21.09862558046977, test RMSE 76.62747065226237\n",
            "Epoch 18000: train RMSE 21.028202533721924, test RMSE 76.94323984781902\n",
            "Epoch 18100: train RMSE 21.193759123484295, test RMSE 66.29061444600423\n",
            "Epoch 18200: train RMSE 21.719942172368366, test RMSE 74.28089078267415\n",
            "Epoch 18300: train RMSE 22.397247552871704, test RMSE 72.42424329121907\n",
            "Epoch 18400: train RMSE 20.82039761543274, test RMSE 75.58425585428874\n",
            "Epoch 18500: train RMSE 20.763356765111286, test RMSE 77.11796188354492\n",
            "Epoch 18600: train RMSE 22.170042673746746, test RMSE 74.12688446044922\n",
            "Epoch 18700: train RMSE 21.113378524780273, test RMSE 74.21814982096355\n",
            "Epoch 18800: train RMSE 22.495638291041057, test RMSE 72.67212740580241\n",
            "Epoch 18900: train RMSE 22.27021551132202, test RMSE 70.95845540364583\n",
            "Epoch 19000: train RMSE 22.337478001912434, test RMSE 73.10497283935547\n",
            "Epoch 19100: train RMSE 21.052196105321247, test RMSE 71.47242673238118\n",
            "Epoch 19200: train RMSE 21.40302260716756, test RMSE 71.42195510864258\n",
            "Epoch 19300: train RMSE 21.180496056874592, test RMSE 74.27484766642253\n",
            "Epoch 19400: train RMSE 20.831847429275513, test RMSE 73.58046754201253\n",
            "Epoch 19500: train RMSE 21.269456148147583, test RMSE 74.32530275980632\n",
            "Epoch 19600: train RMSE 21.44500160217285, test RMSE 74.88121350606282\n",
            "Epoch 19700: train RMSE 21.607897599538166, test RMSE 77.73617362976074\n",
            "Epoch 19800: train RMSE 21.261245648066204, test RMSE 73.52148946126302\n",
            "Epoch 19900: train RMSE 22.233642896016438, test RMSE 82.74300130208333\n"
          ]
        }
      ],
      "source": [
        "air_model_100 = AirModel(1, 100, 1)\n",
        "num_epochs = 20000\n",
        "losses_100 = []\n",
        "optimizer_100 = torch.optim.Adam(air_model_100.parameters(), lr=0.001)\n",
        "loss_fn_100 = F.mse_loss\n",
        "for i in range(num_epochs):   \n",
        "    air_model_100.train()\n",
        "    mse = train(air_model_100, data_loader, optimizer_100, loss_fn_100)\n",
        "    losses_100.append(mse)\n",
        "    if i % 100 == 0:\n",
        "        air_model_100.eval()\n",
        "        rmse_train = validate(air_model_100, data_loader)\n",
        "        rmse_test = validate(air_model_100, data_loader_test)\n",
        "        print(f'Epoch {i}: train RMSE {rmse_train}, test RMSE {rmse_test}')"
      ]
    },
    {
      "cell_type": "code",
      "execution_count": 195,
      "metadata": {},
      "outputs": [
        {
          "data": {
            "text/plain": [
              "[<matplotlib.lines.Line2D at 0x317a4d1c0>]"
            ]
          },
          "execution_count": 195,
          "metadata": {},
          "output_type": "execute_result"
        },
        {
          "data": {
            "image/png": "[encoded data removed]",
            "text/plain": [
              "<Figure size 640x480 with 1 Axes>"
            ]
          },
          "metadata": {},
          "output_type": "display_data"
        }
      ],
      "source": [
        "plt.plot(losses_100[200:])"
      ]
    },
    {
      "cell_type": "code",
      "execution_count": 196,
      "metadata": {},
      "outputs": [
        {
          "data": {
            "image/png": "[encoded data removed]",
            "text/plain": [
              "<Figure size 640x480 with 1 Axes>"
            ]
          },
          "metadata": {},
          "output_type": "display_data"
        }
      ],
      "source": [
        "plot_predicts(air_model_100)"
      ]
    },
    {
      "cell_type": "markdown",
      "metadata": {},
      "source": [
        "Збільшивши кількість епох навчання і зменшивши learning rate вдалося досягнути деякого покарщення результатів"
      ]
    }
  ],
  "metadata": {
    "colab": {
      "provenance": []
    },
    "kernelspec": {
      "display_name": ".venv",
      "language": "python",
      "name": "python3"
    },
    "language_info": {
      "codemirror_mode": {
        "name": "ipython",
        "version": 3
      },
      "file_extension": ".py",
      "mimetype": "text/x-python",
      "name": "python",
      "nbconvert_exporter": "python",
      "pygments_lexer": "ipython3",
      "version": "3.9.6"
    }
  },
  "nbformat": 4,
  "nbformat_minor": 0
}
