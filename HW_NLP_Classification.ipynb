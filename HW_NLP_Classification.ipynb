{
  "cells": [
    {
      "cell_type": "markdown",
      "metadata": {
        "id": "Zl1UHn4aRLMg"
      },
      "source": [
        "# Домашнє завдання: Побудова класифікатора сентименту на основі набору даних Tweet Sentiment Extraction\n",
        "\n",
        "**Мета:** Провести аналіз набору даних, виконати векторизацію текстових даних за допомогою методів bag-of-words та TF-IDF, порівняти їх, побудувати класифікатор та провести аналіз помилок.\n",
        "\n",
        "**Набір даних:**\n",
        "Дані беремо з цього змагання на Kaggle: https://www.kaggle.com/competitions/tweet-sentiment-extraction/data?select=train.csv\n",
        "\n",
        "Оригінальне змагання має дещо іншу задачу, але ми будемо поки будувати саме класифікатор.\n",
        "\n",
        "### Завдання 1. Завантаження та ознайомлення з набором даних\n",
        "\n",
        "- Завантажте набір даних `train.csv` з посилання та ознайомтеся з його структурою.\n",
        "- Виведіть перші 5 рядків та основну статистику: кількість записів, типи колонок, кількість пропущених значень.\n",
        "- Видаліть записи, в яких є пропущені значення.\n",
        "\n"
      ]
    },
    {
      "cell_type": "code",
      "execution_count": 208,
      "metadata": {
        "id": "z9PAZcZgddHT"
      },
      "outputs": [
        {
          "name": "stderr",
          "output_type": "stream",
          "text": [
            "[nltk_data] Downloading package stopwords to\n",
            "[nltk_data]     /Users/olgamordachova/nltk_data...\n",
            "[nltk_data]   Package stopwords is already up-to-date!\n",
            "[nltk_data] Downloading package punkt to\n",
            "[nltk_data]     /Users/olgamordachova/nltk_data...\n",
            "[nltk_data]   Package punkt is already up-to-date!\n"
          ]
        },
        {
          "data": {
            "text/plain": [
              "True"
            ]
          },
          "execution_count": 208,
          "metadata": {},
          "output_type": "execute_result"
        }
      ],
      "source": [
        "import pandas as pd\n",
        "import numpy as np\n",
        "import nltk\n",
        "from nltk.corpus import stopwords\n",
        "from nltk.tokenize import word_tokenize\n",
        "from nltk.stem.snowball import SnowballStemmer\n",
        "from sklearn.feature_extraction.text import CountVectorizer, TfidfVectorizer\n",
        "from sklearn.model_selection import train_test_split\n",
        "from sklearn.linear_model import LogisticRegression\n",
        "from sklearn.metrics import roc_auc_score, roc_curve, f1_score\n",
        "from matplotlib import pyplot as plt\n",
        "\n",
        "nltk.download('stopwords')\n",
        "nltk.download('punkt')"
      ]
    },
    {
      "cell_type": "code",
      "execution_count": 35,
      "metadata": {},
      "outputs": [],
      "source": [
        "df = pd.read_csv('data/nlp/tweet_sentiment_train.csv.zip')"
      ]
    },
    {
      "cell_type": "code",
      "execution_count": 36,
      "metadata": {},
      "outputs": [
        {
          "data": {
            "text/html": [
              "<div>\n",
              "<style scoped>\n",
              "    .dataframe tbody tr th:only-of-type {\n",
              "        vertical-align: middle;\n",
              "    }\n",
              "\n",
              "    .dataframe tbody tr th {\n",
              "        vertical-align: top;\n",
              "    }\n",
              "\n",
              "    .dataframe thead th {\n",
              "        text-align: right;\n",
              "    }\n",
              "</style>\n",
              "<table border=\"1\" class=\"dataframe\">\n",
              "  <thead>\n",
              "    <tr style=\"text-align: right;\">\n",
              "      <th></th>\n",
              "      <th>textID</th>\n",
              "      <th>text</th>\n",
              "      <th>selected_text</th>\n",
              "      <th>sentiment</th>\n",
              "    </tr>\n",
              "  </thead>\n",
              "  <tbody>\n",
              "    <tr>\n",
              "      <th>0</th>\n",
              "      <td>cb774db0d1</td>\n",
              "      <td>I`d have responded, if I were going</td>\n",
              "      <td>I`d have responded, if I were going</td>\n",
              "      <td>neutral</td>\n",
              "    </tr>\n",
              "    <tr>\n",
              "      <th>1</th>\n",
              "      <td>549e992a42</td>\n",
              "      <td>Sooo SAD I will miss you here in San Diego!!!</td>\n",
              "      <td>Sooo SAD</td>\n",
              "      <td>negative</td>\n",
              "    </tr>\n",
              "    <tr>\n",
              "      <th>2</th>\n",
              "      <td>088c60f138</td>\n",
              "      <td>my boss is bullying me...</td>\n",
              "      <td>bullying me</td>\n",
              "      <td>negative</td>\n",
              "    </tr>\n",
              "    <tr>\n",
              "      <th>3</th>\n",
              "      <td>9642c003ef</td>\n",
              "      <td>what interview! leave me alone</td>\n",
              "      <td>leave me alone</td>\n",
              "      <td>negative</td>\n",
              "    </tr>\n",
              "    <tr>\n",
              "      <th>4</th>\n",
              "      <td>358bd9e861</td>\n",
              "      <td>Sons of ****, why couldn`t they put them on t...</td>\n",
              "      <td>Sons of ****,</td>\n",
              "      <td>negative</td>\n",
              "    </tr>\n",
              "  </tbody>\n",
              "</table>\n",
              "</div>"
            ],
            "text/plain": [
              "       textID                                               text  \\\n",
              "0  cb774db0d1                I`d have responded, if I were going   \n",
              "1  549e992a42      Sooo SAD I will miss you here in San Diego!!!   \n",
              "2  088c60f138                          my boss is bullying me...   \n",
              "3  9642c003ef                     what interview! leave me alone   \n",
              "4  358bd9e861   Sons of ****, why couldn`t they put them on t...   \n",
              "\n",
              "                         selected_text sentiment  \n",
              "0  I`d have responded, if I were going   neutral  \n",
              "1                             Sooo SAD  negative  \n",
              "2                          bullying me  negative  \n",
              "3                       leave me alone  negative  \n",
              "4                        Sons of ****,  negative  "
            ]
          },
          "execution_count": 36,
          "metadata": {},
          "output_type": "execute_result"
        }
      ],
      "source": [
        "df.head()"
      ]
    },
    {
      "cell_type": "code",
      "execution_count": 37,
      "metadata": {},
      "outputs": [
        {
          "name": "stdout",
          "output_type": "stream",
          "text": [
            "<class 'pandas.core.frame.DataFrame'>\n",
            "RangeIndex: 27481 entries, 0 to 27480\n",
            "Data columns (total 4 columns):\n",
            " #   Column         Non-Null Count  Dtype \n",
            "---  ------         --------------  ----- \n",
            " 0   textID         27481 non-null  object\n",
            " 1   text           27480 non-null  object\n",
            " 2   selected_text  27480 non-null  object\n",
            " 3   sentiment      27481 non-null  object\n",
            "dtypes: object(4)\n",
            "memory usage: 858.9+ KB\n"
          ]
        }
      ],
      "source": [
        "df.info()"
      ]
    },
    {
      "cell_type": "code",
      "execution_count": 38,
      "metadata": {},
      "outputs": [
        {
          "data": {
            "text/html": [
              "<div>\n",
              "<style scoped>\n",
              "    .dataframe tbody tr th:only-of-type {\n",
              "        vertical-align: middle;\n",
              "    }\n",
              "\n",
              "    .dataframe tbody tr th {\n",
              "        vertical-align: top;\n",
              "    }\n",
              "\n",
              "    .dataframe thead th {\n",
              "        text-align: right;\n",
              "    }\n",
              "</style>\n",
              "<table border=\"1\" class=\"dataframe\">\n",
              "  <thead>\n",
              "    <tr style=\"text-align: right;\">\n",
              "      <th></th>\n",
              "      <th>textID</th>\n",
              "      <th>text</th>\n",
              "      <th>selected_text</th>\n",
              "      <th>sentiment</th>\n",
              "    </tr>\n",
              "  </thead>\n",
              "  <tbody>\n",
              "    <tr>\n",
              "      <th>314</th>\n",
              "      <td>fdb77c3752</td>\n",
              "      <td>NaN</td>\n",
              "      <td>NaN</td>\n",
              "      <td>neutral</td>\n",
              "    </tr>\n",
              "  </tbody>\n",
              "</table>\n",
              "</div>"
            ],
            "text/plain": [
              "         textID text selected_text sentiment\n",
              "314  fdb77c3752  NaN           NaN   neutral"
            ]
          },
          "execution_count": 38,
          "metadata": {},
          "output_type": "execute_result"
        }
      ],
      "source": [
        "df[df.text.isna()]"
      ]
    },
    {
      "cell_type": "markdown",
      "metadata": {},
      "source": [
        "Є лише один рядок з відсутніми даними, видаляємо його"
      ]
    },
    {
      "cell_type": "code",
      "execution_count": 39,
      "metadata": {},
      "outputs": [],
      "source": [
        "df.dropna(inplace=True)"
      ]
    },
    {
      "cell_type": "code",
      "execution_count": 40,
      "metadata": {},
      "outputs": [
        {
          "name": "stdout",
          "output_type": "stream",
          "text": [
            "<class 'pandas.core.frame.DataFrame'>\n",
            "Index: 27480 entries, 0 to 27480\n",
            "Data columns (total 4 columns):\n",
            " #   Column         Non-Null Count  Dtype \n",
            "---  ------         --------------  ----- \n",
            " 0   textID         27480 non-null  object\n",
            " 1   text           27480 non-null  object\n",
            " 2   selected_text  27480 non-null  object\n",
            " 3   sentiment      27480 non-null  object\n",
            "dtypes: object(4)\n",
            "memory usage: 1.0+ MB\n"
          ]
        }
      ],
      "source": [
        "df.info()"
      ]
    },
    {
      "cell_type": "markdown",
      "metadata": {
        "id": "BXox7UCZUU5J"
      },
      "source": [
        "### Завдання 2. Exploratory Data Analysis\n",
        "\n",
        "- Проведіть аналіз кількості класів та розподілу міток. Класи знаходяться в колонці `sentiment`.\n",
        "- Візуалізуйте розподіл довжин текстів в символах та зробіть висновок про довжини постів: якої довжини постів найбільше, що бачите з розподілу?\n",
        "\n"
      ]
    },
    {
      "cell_type": "code",
      "execution_count": 41,
      "metadata": {
        "id": "aPm_wCjpde0s"
      },
      "outputs": [
        {
          "data": {
            "text/plain": [
              "sentiment\n",
              "neutral     11117\n",
              "positive     8582\n",
              "negative     7781\n",
              "Name: count, dtype: int64"
            ]
          },
          "execution_count": 41,
          "metadata": {},
          "output_type": "execute_result"
        }
      ],
      "source": [
        "df.sentiment.value_counts()"
      ]
    },
    {
      "cell_type": "code",
      "execution_count": 42,
      "metadata": {},
      "outputs": [],
      "source": [
        "df['text_len'] = df.text.str.len().astype(int)"
      ]
    },
    {
      "cell_type": "code",
      "execution_count": 43,
      "metadata": {},
      "outputs": [
        {
          "data": {
            "text/html": [
              "<div>\n",
              "<style scoped>\n",
              "    .dataframe tbody tr th:only-of-type {\n",
              "        vertical-align: middle;\n",
              "    }\n",
              "\n",
              "    .dataframe tbody tr th {\n",
              "        vertical-align: top;\n",
              "    }\n",
              "\n",
              "    .dataframe thead th {\n",
              "        text-align: right;\n",
              "    }\n",
              "</style>\n",
              "<table border=\"1\" class=\"dataframe\">\n",
              "  <thead>\n",
              "    <tr style=\"text-align: right;\">\n",
              "      <th></th>\n",
              "      <th>textID</th>\n",
              "      <th>text</th>\n",
              "      <th>selected_text</th>\n",
              "      <th>sentiment</th>\n",
              "      <th>text_len</th>\n",
              "    </tr>\n",
              "  </thead>\n",
              "  <tbody>\n",
              "    <tr>\n",
              "      <th>0</th>\n",
              "      <td>cb774db0d1</td>\n",
              "      <td>I`d have responded, if I were going</td>\n",
              "      <td>I`d have responded, if I were going</td>\n",
              "      <td>neutral</td>\n",
              "      <td>36</td>\n",
              "    </tr>\n",
              "    <tr>\n",
              "      <th>1</th>\n",
              "      <td>549e992a42</td>\n",
              "      <td>Sooo SAD I will miss you here in San Diego!!!</td>\n",
              "      <td>Sooo SAD</td>\n",
              "      <td>negative</td>\n",
              "      <td>46</td>\n",
              "    </tr>\n",
              "    <tr>\n",
              "      <th>2</th>\n",
              "      <td>088c60f138</td>\n",
              "      <td>my boss is bullying me...</td>\n",
              "      <td>bullying me</td>\n",
              "      <td>negative</td>\n",
              "      <td>25</td>\n",
              "    </tr>\n",
              "    <tr>\n",
              "      <th>3</th>\n",
              "      <td>9642c003ef</td>\n",
              "      <td>what interview! leave me alone</td>\n",
              "      <td>leave me alone</td>\n",
              "      <td>negative</td>\n",
              "      <td>31</td>\n",
              "    </tr>\n",
              "    <tr>\n",
              "      <th>4</th>\n",
              "      <td>358bd9e861</td>\n",
              "      <td>Sons of ****, why couldn`t they put them on t...</td>\n",
              "      <td>Sons of ****,</td>\n",
              "      <td>negative</td>\n",
              "      <td>75</td>\n",
              "    </tr>\n",
              "    <tr>\n",
              "      <th>...</th>\n",
              "      <td>...</td>\n",
              "      <td>...</td>\n",
              "      <td>...</td>\n",
              "      <td>...</td>\n",
              "      <td>...</td>\n",
              "    </tr>\n",
              "    <tr>\n",
              "      <th>27471</th>\n",
              "      <td>15bb120f57</td>\n",
              "      <td>i`m defying gravity. and nobody in alll of oz,...</td>\n",
              "      <td>i`m defying gravity. and nobody in alll of oz,...</td>\n",
              "      <td>neutral</td>\n",
              "      <td>106</td>\n",
              "    </tr>\n",
              "    <tr>\n",
              "      <th>27472</th>\n",
              "      <td>8f5adc47ec</td>\n",
              "      <td>http://twitpic.com/663vr - Wanted to visit the...</td>\n",
              "      <td>were too late</td>\n",
              "      <td>negative</td>\n",
              "      <td>75</td>\n",
              "    </tr>\n",
              "    <tr>\n",
              "      <th>27473</th>\n",
              "      <td>a208770a32</td>\n",
              "      <td>in spoke to you yesterday and u didnt respond...</td>\n",
              "      <td>in spoke to you yesterday and u didnt respond ...</td>\n",
              "      <td>neutral</td>\n",
              "      <td>67</td>\n",
              "    </tr>\n",
              "    <tr>\n",
              "      <th>27474</th>\n",
              "      <td>8f14bb2715</td>\n",
              "      <td>So I get up early and I feel good about the da...</td>\n",
              "      <td>I feel good ab</td>\n",
              "      <td>positive</td>\n",
              "      <td>126</td>\n",
              "    </tr>\n",
              "    <tr>\n",
              "      <th>27475</th>\n",
              "      <td>b78ec00df5</td>\n",
              "      <td>enjoy ur night</td>\n",
              "      <td>enjoy</td>\n",
              "      <td>positive</td>\n",
              "      <td>16</td>\n",
              "    </tr>\n",
              "  </tbody>\n",
              "</table>\n",
              "<p>27475 rows × 5 columns</p>\n",
              "</div>"
            ],
            "text/plain": [
              "           textID                                               text  \\\n",
              "0      cb774db0d1                I`d have responded, if I were going   \n",
              "1      549e992a42      Sooo SAD I will miss you here in San Diego!!!   \n",
              "2      088c60f138                          my boss is bullying me...   \n",
              "3      9642c003ef                     what interview! leave me alone   \n",
              "4      358bd9e861   Sons of ****, why couldn`t they put them on t...   \n",
              "...           ...                                                ...   \n",
              "27471  15bb120f57  i`m defying gravity. and nobody in alll of oz,...   \n",
              "27472  8f5adc47ec  http://twitpic.com/663vr - Wanted to visit the...   \n",
              "27473  a208770a32   in spoke to you yesterday and u didnt respond...   \n",
              "27474  8f14bb2715  So I get up early and I feel good about the da...   \n",
              "27475  b78ec00df5                                     enjoy ur night   \n",
              "\n",
              "                                           selected_text sentiment  text_len  \n",
              "0                    I`d have responded, if I were going   neutral        36  \n",
              "1                                               Sooo SAD  negative        46  \n",
              "2                                            bullying me  negative        25  \n",
              "3                                         leave me alone  negative        31  \n",
              "4                                          Sons of ****,  negative        75  \n",
              "...                                                  ...       ...       ...  \n",
              "27471  i`m defying gravity. and nobody in alll of oz,...   neutral       106  \n",
              "27472                                      were too late  negative        75  \n",
              "27473  in spoke to you yesterday and u didnt respond ...   neutral        67  \n",
              "27474                                     I feel good ab  positive       126  \n",
              "27475                                              enjoy  positive        16  \n",
              "\n",
              "[27475 rows x 5 columns]"
            ]
          },
          "execution_count": 43,
          "metadata": {},
          "output_type": "execute_result"
        }
      ],
      "source": [
        "df.head(-5)"
      ]
    },
    {
      "cell_type": "markdown",
      "metadata": {},
      "source": [
        "Отже, є три таргет класи - neutral, positive, negative\n",
        "\n",
        "Класи мають приблизно однакову кількість даних"
      ]
    },
    {
      "cell_type": "code",
      "execution_count": 91,
      "metadata": {},
      "outputs": [
        {
          "data": {
            "text/plain": [
              "<Axes: >"
            ]
          },
          "execution_count": 91,
          "metadata": {},
          "output_type": "execute_result"
        },
        {
          "data": {
            "image/png": "[encoded data removed]",
            "text/plain": [
              "<Figure size 640x480 with 1 Axes>"
            ]
          },
          "metadata": {},
          "output_type": "display_data"
        }
      ],
      "source": [
        "df[df.sentiment=='neutral'].text_len.hist(bins=50)\n",
        "df[df.sentiment=='positive'].text_len.hist(bins=50)\n",
        "df[df.sentiment=='negative'].text_len.hist(bins=50)"
      ]
    },
    {
      "cell_type": "markdown",
      "metadata": {},
      "source": [
        "Розподіл лівоскошений, найбільше текстів з довжиною строки +-40 символів, тобто коротких текстів з 2-3 словами мало, найбільше текстів з приблизно 6-7 словами"
      ]
    },
    {
      "cell_type": "markdown",
      "metadata": {},
      "source": [
        "Нейтральні пости часто короткі - дуже багато на 20-40 символів"
      ]
    },
    {
      "cell_type": "markdown",
      "metadata": {
        "id": "KfiU4hNDWncB"
      },
      "source": [
        "### Завдання 3. Попередня обробка текстових даних та векторизація з bag of words\n",
        "\n",
        "\n",
        "Наша задача тут отримати вектори методом bag of words колонки `text`, виконавши попередню обробку тексту.\n",
        "Попередня обробка має включати\n",
        "- видалення stopwords необхідної мови\n",
        "- токенізація (розбиття текстів на фрагменти по 1 слову)\n",
        "- стеммінг слів зі `SnowballStemmer`.\n",
        "- самостійно задайте кількість слів в словнику для `sklearn.feature_extraction.text.CountVectorizer`. Можливо для цього доведеться виконати додатковий аналіз.\n",
        "\n",
        "Ви також можете додати сюди додаткові методи очистки текстів, наприклад, видалення деяких символів чи груп символів, якщо в процесі роботи побачите, що хочете щось видалити.\n",
        "\n",
        "Напишіть код аби виконати це завдання. Перед цим рекомендую детально ознайомитись з тим, що робить обʼєкт `sklearn.feature_extraction.text.CountVectorizer` за замовченням.\n",
        "\n",
        "Це завдання можна виконати двома способами - один - максимально подібно до того, як ми це робили в лекції, другий - дещо інакше перегрупувавши етапи обробки тексту.\n",
        "\n",
        "\n"
      ]
    },
    {
      "cell_type": "code",
      "execution_count": 57,
      "metadata": {
        "id": "BRUG111tdhB0"
      },
      "outputs": [
        {
          "name": "stdout",
          "output_type": "stream",
          "text": [
            "Requirement already satisfied: nltk in /opt/anaconda3/lib/python3.11/site-packages (3.8.1)\n",
            "Requirement already satisfied: click in /opt/anaconda3/lib/python3.11/site-packages (from nltk) (8.1.7)\n",
            "Requirement already satisfied: joblib in /opt/anaconda3/lib/python3.11/site-packages (from nltk) (1.2.0)\n",
            "Requirement already satisfied: regex>=2021.8.3 in /opt/anaconda3/lib/python3.11/site-packages (from nltk) (2023.10.3)\n",
            "Requirement already satisfied: tqdm in /opt/anaconda3/lib/python3.11/site-packages (from nltk) (4.65.0)\n"
          ]
        }
      ],
      "source": [
        "!pip install nltk"
      ]
    },
    {
      "cell_type": "code",
      "execution_count": 72,
      "metadata": {},
      "outputs": [],
      "source": [
        "english_stopwords = stopwords.words('english')\n",
        "stemmer = SnowballStemmer(language='english')"
      ]
    },
    {
      "cell_type": "code",
      "execution_count": 73,
      "metadata": {},
      "outputs": [],
      "source": [
        "def remove_stopwords(text):\n",
        "    words = word_tokenize(text)\n",
        "    filtered_words = [word for word in words if word.lower() not in english_stopwords]\n",
        "    return ' '.join(filtered_words)\n",
        "\n",
        "def stem_tokenize(text):\n",
        "    return [stemmer.stem(word) for word in word_tokenize(text)]\n"
      ]
    },
    {
      "cell_type": "code",
      "execution_count": 74,
      "metadata": {},
      "outputs": [],
      "source": [
        "df['text_tokenized'] = df['text'].apply(remove_stopwords)\n",
        "df['stemed_tokenized'] = df['text_tokenized'].apply(stem_tokenize)"
      ]
    },
    {
      "cell_type": "code",
      "execution_count": 78,
      "metadata": {},
      "outputs": [
        {
          "data": {
            "text/html": [
              "<div>\n",
              "<style scoped>\n",
              "    .dataframe tbody tr th:only-of-type {\n",
              "        vertical-align: middle;\n",
              "    }\n",
              "\n",
              "    .dataframe tbody tr th {\n",
              "        vertical-align: top;\n",
              "    }\n",
              "\n",
              "    .dataframe thead th {\n",
              "        text-align: right;\n",
              "    }\n",
              "</style>\n",
              "<table border=\"1\" class=\"dataframe\">\n",
              "  <thead>\n",
              "    <tr style=\"text-align: right;\">\n",
              "      <th></th>\n",
              "      <th>textID</th>\n",
              "      <th>text</th>\n",
              "      <th>selected_text</th>\n",
              "      <th>sentiment</th>\n",
              "      <th>text_len</th>\n",
              "      <th>text_tokenized</th>\n",
              "      <th>stemed_tokenized</th>\n",
              "    </tr>\n",
              "  </thead>\n",
              "  <tbody>\n",
              "    <tr>\n",
              "      <th>1</th>\n",
              "      <td>549e992a42</td>\n",
              "      <td>Sooo SAD I will miss you here in San Diego!!!</td>\n",
              "      <td>Sooo SAD</td>\n",
              "      <td>negative</td>\n",
              "      <td>46</td>\n",
              "      <td>Sooo SAD miss San Diego ! ! !</td>\n",
              "      <td>[sooo, sad, miss, san, diego, !, !, !]</td>\n",
              "    </tr>\n",
              "    <tr>\n",
              "      <th>2</th>\n",
              "      <td>088c60f138</td>\n",
              "      <td>my boss is bullying me...</td>\n",
              "      <td>bullying me</td>\n",
              "      <td>negative</td>\n",
              "      <td>25</td>\n",
              "      <td>boss bullying ...</td>\n",
              "      <td>[boss, bulli, ...]</td>\n",
              "    </tr>\n",
              "    <tr>\n",
              "      <th>3</th>\n",
              "      <td>9642c003ef</td>\n",
              "      <td>what interview! leave me alone</td>\n",
              "      <td>leave me alone</td>\n",
              "      <td>negative</td>\n",
              "      <td>31</td>\n",
              "      <td>interview ! leave alone</td>\n",
              "      <td>[interview, !, leav, alon]</td>\n",
              "    </tr>\n",
              "    <tr>\n",
              "      <th>4</th>\n",
              "      <td>358bd9e861</td>\n",
              "      <td>Sons of ****, why couldn`t they put them on t...</td>\n",
              "      <td>Sons of ****,</td>\n",
              "      <td>negative</td>\n",
              "      <td>75</td>\n",
              "      <td>Sons * * * * , ` put releases already bought</td>\n",
              "      <td>[son, *, *, *, *, ,, `, put, releas, alreadi, ...</td>\n",
              "    </tr>\n",
              "    <tr>\n",
              "      <th>12</th>\n",
              "      <td>74a76f6e0a</td>\n",
              "      <td>My Sharpie is running DANGERously low on ink</td>\n",
              "      <td>DANGERously</td>\n",
              "      <td>negative</td>\n",
              "      <td>44</td>\n",
              "      <td>Sharpie running DANGERously low ink</td>\n",
              "      <td>[sharpi, run, danger, low, ink]</td>\n",
              "    </tr>\n",
              "    <tr>\n",
              "      <th>...</th>\n",
              "      <td>...</td>\n",
              "      <td>...</td>\n",
              "      <td>...</td>\n",
              "      <td>...</td>\n",
              "      <td>...</td>\n",
              "      <td>...</td>\n",
              "      <td>...</td>\n",
              "    </tr>\n",
              "    <tr>\n",
              "      <th>27464</th>\n",
              "      <td>e7eecffdc8</td>\n",
              "      <td>rec game....trying not to cry...the pain is to...</td>\n",
              "      <td>breakingg</td>\n",
              "      <td>negative</td>\n",
              "      <td>108</td>\n",
              "      <td>rec game .... trying cry ... pain much .. need...</td>\n",
              "      <td>[rec, game, ...., tri, cri, ..., pain, much, ....</td>\n",
              "    </tr>\n",
              "    <tr>\n",
              "      <th>27470</th>\n",
              "      <td>778184dff1</td>\n",
              "      <td>lol i know  and haha..did you fall asleep?? o...</td>\n",
              "      <td>t bored</td>\n",
              "      <td>negative</td>\n",
              "      <td>79</td>\n",
              "      <td>lol know haha .. fall asleep ? ? get bored sha...</td>\n",
              "      <td>[lol, know, haha, .., fall, asleep, ?, ?, get,...</td>\n",
              "    </tr>\n",
              "    <tr>\n",
              "      <th>27472</th>\n",
              "      <td>8f5adc47ec</td>\n",
              "      <td>http://twitpic.com/663vr - Wanted to visit the...</td>\n",
              "      <td>were too late</td>\n",
              "      <td>negative</td>\n",
              "      <td>75</td>\n",
              "      <td>http : //twitpic.com/663vr - Wanted visit anim...</td>\n",
              "      <td>[http, :, //twitpic.com/663vr, -, want, visit,...</td>\n",
              "    </tr>\n",
              "    <tr>\n",
              "      <th>27476</th>\n",
              "      <td>4eac33d1c0</td>\n",
              "      <td>wish we could come see u on Denver  husband l...</td>\n",
              "      <td>d lost</td>\n",
              "      <td>negative</td>\n",
              "      <td>77</td>\n",
              "      <td>wish could come see u Denver husband lost job ...</td>\n",
              "      <td>[wish, could, come, see, u, denver, husband, l...</td>\n",
              "    </tr>\n",
              "    <tr>\n",
              "      <th>27477</th>\n",
              "      <td>4f4c4fc327</td>\n",
              "      <td>I`ve wondered about rake to.  The client has ...</td>\n",
              "      <td>, don`t force</td>\n",
              "      <td>negative</td>\n",
              "      <td>122</td>\n",
              "      <td>` wondered rake . client made clear .NET , ` f...</td>\n",
              "      <td>[`, wonder, rake, ., client, made, clear, .net...</td>\n",
              "    </tr>\n",
              "  </tbody>\n",
              "</table>\n",
              "<p>7781 rows × 7 columns</p>\n",
              "</div>"
            ],
            "text/plain": [
              "           textID                                               text  \\\n",
              "1      549e992a42      Sooo SAD I will miss you here in San Diego!!!   \n",
              "2      088c60f138                          my boss is bullying me...   \n",
              "3      9642c003ef                     what interview! leave me alone   \n",
              "4      358bd9e861   Sons of ****, why couldn`t they put them on t...   \n",
              "12     74a76f6e0a       My Sharpie is running DANGERously low on ink   \n",
              "...           ...                                                ...   \n",
              "27464  e7eecffdc8  rec game....trying not to cry...the pain is to...   \n",
              "27470  778184dff1   lol i know  and haha..did you fall asleep?? o...   \n",
              "27472  8f5adc47ec  http://twitpic.com/663vr - Wanted to visit the...   \n",
              "27476  4eac33d1c0   wish we could come see u on Denver  husband l...   \n",
              "27477  4f4c4fc327   I`ve wondered about rake to.  The client has ...   \n",
              "\n",
              "        selected_text sentiment  text_len  \\\n",
              "1            Sooo SAD  negative        46   \n",
              "2         bullying me  negative        25   \n",
              "3      leave me alone  negative        31   \n",
              "4       Sons of ****,  negative        75   \n",
              "12        DANGERously  negative        44   \n",
              "...               ...       ...       ...   \n",
              "27464       breakingg  negative       108   \n",
              "27470         t bored  negative        79   \n",
              "27472   were too late  negative        75   \n",
              "27476          d lost  negative        77   \n",
              "27477   , don`t force  negative       122   \n",
              "\n",
              "                                          text_tokenized  \\\n",
              "1                          Sooo SAD miss San Diego ! ! !   \n",
              "2                                      boss bullying ...   \n",
              "3                                interview ! leave alone   \n",
              "4           Sons * * * * , ` put releases already bought   \n",
              "12                   Sharpie running DANGERously low ink   \n",
              "...                                                  ...   \n",
              "27464  rec game .... trying cry ... pain much .. need...   \n",
              "27470  lol know haha .. fall asleep ? ? get bored sha...   \n",
              "27472  http : //twitpic.com/663vr - Wanted visit anim...   \n",
              "27476  wish could come see u Denver husband lost job ...   \n",
              "27477  ` wondered rake . client made clear .NET , ` f...   \n",
              "\n",
              "                                        stemed_tokenized  \n",
              "1                 [sooo, sad, miss, san, diego, !, !, !]  \n",
              "2                                     [boss, bulli, ...]  \n",
              "3                             [interview, !, leav, alon]  \n",
              "4      [son, *, *, *, *, ,, `, put, releas, alreadi, ...  \n",
              "12                       [sharpi, run, danger, low, ink]  \n",
              "...                                                  ...  \n",
              "27464  [rec, game, ...., tri, cri, ..., pain, much, ....  \n",
              "27470  [lol, know, haha, .., fall, asleep, ?, ?, get,...  \n",
              "27472  [http, :, //twitpic.com/663vr, -, want, visit,...  \n",
              "27476  [wish, could, come, see, u, denver, husband, l...  \n",
              "27477  [`, wonder, rake, ., client, made, clear, .net...  \n",
              "\n",
              "[7781 rows x 7 columns]"
            ]
          },
          "execution_count": 78,
          "metadata": {},
          "output_type": "execute_result"
        }
      ],
      "source": [
        "df[df.sentiment=='negative']"
      ]
    },
    {
      "cell_type": "markdown",
      "metadata": {},
      "source": [
        "На мою думку тут не варто видаляти знаки пунктуації, тому що деякі з них несуть негативний настрій (наприклад *) або позитивний (як комбінація ?! )"
      ]
    },
    {
      "cell_type": "code",
      "execution_count": 79,
      "metadata": {},
      "outputs": [],
      "source": [
        "df['text_len_stem'] = df.stemed_tokenized.str.len().astype(int)"
      ]
    },
    {
      "cell_type": "code",
      "execution_count": 90,
      "metadata": {},
      "outputs": [
        {
          "data": {
            "text/plain": [
              "<Axes: >"
            ]
          },
          "execution_count": 90,
          "metadata": {},
          "output_type": "execute_result"
        },
        {
          "data": {
            "image/png": "[encoded data removed]",
            "text/plain": [
              "<Figure size 640x480 with 1 Axes>"
            ]
          },
          "metadata": {},
          "output_type": "display_data"
        }
      ],
      "source": [
        "df[df.sentiment=='neutral'].text_len_stem.hist(bins=50)\n",
        "df[df.sentiment=='positive'].text_len_stem.hist(bins=50)\n",
        "df[df.sentiment=='negative'].text_len_stem.hist(bins=50)\n"
      ]
    },
    {
      "cell_type": "markdown",
      "metadata": {},
      "source": [
        "Після стемізації стала значно меншою довжина рядка"
      ]
    },
    {
      "cell_type": "code",
      "execution_count": 118,
      "metadata": {},
      "outputs": [],
      "source": [
        "english_stopwords.append('ï¿½')"
      ]
    },
    {
      "cell_type": "code",
      "execution_count": 119,
      "metadata": {},
      "outputs": [
        {
          "name": "stderr",
          "output_type": "stream",
          "text": [
            "/opt/anaconda3/lib/python3.11/site-packages/sklearn/feature_extraction/text.py:528: UserWarning: The parameter 'token_pattern' will not be used since 'tokenizer' is not None'\n",
            "  warnings.warn(\n",
            "/opt/anaconda3/lib/python3.11/site-packages/sklearn/feature_extraction/text.py:409: UserWarning: Your stop_words may be inconsistent with your preprocessing. Tokenizing the stop words generated tokens [\"'d\", \"'s\", 'abov', 'ani', 'becaus', 'befor', 'could', 'doe', 'dure', 'might', 'must', \"n't\", 'need', 'onc', 'onli', 'ourselv', 'sha', 'themselv', 'veri', 'whi', 'wo', 'would', 'yourselv'] not in stop_words.\n",
            "  warnings.warn(\n"
          ]
        },
        {
          "data": {
            "text/html": [
              "<style>#sk-container-id-4 {color: black;background-color: white;}#sk-container-id-4 pre{padding: 0;}#sk-container-id-4 div.sk-toggleable {background-color: white;}#sk-container-id-4 label.sk-toggleable__label {cursor: pointer;display: block;width: 100%;margin-bottom: 0;padding: 0.3em;box-sizing: border-box;text-align: center;}#sk-container-id-4 label.sk-toggleable__label-arrow:before {content: \"▸\";float: left;margin-right: 0.25em;color: #696969;}#sk-container-id-4 label.sk-toggleable__label-arrow:hover:before {color: black;}#sk-container-id-4 div.sk-estimator:hover label.sk-toggleable__label-arrow:before {color: black;}#sk-container-id-4 div.sk-toggleable__content {max-height: 0;max-width: 0;overflow: hidden;text-align: left;background-color: #f0f8ff;}#sk-container-id-4 div.sk-toggleable__content pre {margin: 0.2em;color: black;border-radius: 0.25em;background-color: #f0f8ff;}#sk-container-id-4 input.sk-toggleable__control:checked~div.sk-toggleable__content {max-height: 200px;max-width: 100%;overflow: auto;}#sk-container-id-4 input.sk-toggleable__control:checked~label.sk-toggleable__label-arrow:before {content: \"▾\";}#sk-container-id-4 div.sk-estimator input.sk-toggleable__control:checked~label.sk-toggleable__label {background-color: #d4ebff;}#sk-container-id-4 div.sk-label input.sk-toggleable__control:checked~label.sk-toggleable__label {background-color: #d4ebff;}#sk-container-id-4 input.sk-hidden--visually {border: 0;clip: rect(1px 1px 1px 1px);clip: rect(1px, 1px, 1px, 1px);height: 1px;margin: -1px;overflow: hidden;padding: 0;position: absolute;width: 1px;}#sk-container-id-4 div.sk-estimator {font-family: monospace;background-color: #f0f8ff;border: 1px dotted black;border-radius: 0.25em;box-sizing: border-box;margin-bottom: 0.5em;}#sk-container-id-4 div.sk-estimator:hover {background-color: #d4ebff;}#sk-container-id-4 div.sk-parallel-item::after {content: \"\";width: 100%;border-bottom: 1px solid gray;flex-grow: 1;}#sk-container-id-4 div.sk-label:hover label.sk-toggleable__label {background-color: #d4ebff;}#sk-container-id-4 div.sk-serial::before {content: \"\";position: absolute;border-left: 1px solid gray;box-sizing: border-box;top: 0;bottom: 0;left: 50%;z-index: 0;}#sk-container-id-4 div.sk-serial {display: flex;flex-direction: column;align-items: center;background-color: white;padding-right: 0.2em;padding-left: 0.2em;position: relative;}#sk-container-id-4 div.sk-item {position: relative;z-index: 1;}#sk-container-id-4 div.sk-parallel {display: flex;align-items: stretch;justify-content: center;background-color: white;position: relative;}#sk-container-id-4 div.sk-item::before, #sk-container-id-4 div.sk-parallel-item::before {content: \"\";position: absolute;border-left: 1px solid gray;box-sizing: border-box;top: 0;bottom: 0;left: 50%;z-index: -1;}#sk-container-id-4 div.sk-parallel-item {display: flex;flex-direction: column;z-index: 1;position: relative;background-color: white;}#sk-container-id-4 div.sk-parallel-item:first-child::after {align-self: flex-end;width: 50%;}#sk-container-id-4 div.sk-parallel-item:last-child::after {align-self: flex-start;width: 50%;}#sk-container-id-4 div.sk-parallel-item:only-child::after {width: 0;}#sk-container-id-4 div.sk-dashed-wrapped {border: 1px dashed gray;margin: 0 0.4em 0.5em 0.4em;box-sizing: border-box;padding-bottom: 0.4em;background-color: white;}#sk-container-id-4 div.sk-label label {font-family: monospace;font-weight: bold;display: inline-block;line-height: 1.2em;}#sk-container-id-4 div.sk-label-container {text-align: center;}#sk-container-id-4 div.sk-container {/* jupyter's `normalize.less` sets `[hidden] { display: none; }` but bootstrap.min.css set `[hidden] { display: none !important; }` so we also need the `!important` here to be able to override the default hidden behavior on the sphinx rendered scikit-learn.org. See: https://github.com/scikit-learn/scikit-learn/issues/21755 */display: inline-block !important;position: relative;}#sk-container-id-4 div.sk-text-repr-fallback {display: none;}</style><div id=\"sk-container-id-4\" class=\"sk-top-container\"><div class=\"sk-text-repr-fallback\"><pre>CountVectorizer(max_features=2700,\n",
              "                stop_words=[&#x27;i&#x27;, &#x27;me&#x27;, &#x27;my&#x27;, &#x27;myself&#x27;, &#x27;we&#x27;, &#x27;our&#x27;, &#x27;ours&#x27;,\n",
              "                            &#x27;ourselves&#x27;, &#x27;you&#x27;, &quot;you&#x27;re&quot;, &quot;you&#x27;ve&quot;, &quot;you&#x27;ll&quot;,\n",
              "                            &quot;you&#x27;d&quot;, &#x27;your&#x27;, &#x27;yours&#x27;, &#x27;yourself&#x27;, &#x27;yourselves&#x27;,\n",
              "                            &#x27;he&#x27;, &#x27;him&#x27;, &#x27;his&#x27;, &#x27;himself&#x27;, &#x27;she&#x27;, &quot;she&#x27;s&quot;,\n",
              "                            &#x27;her&#x27;, &#x27;hers&#x27;, &#x27;herself&#x27;, &#x27;it&#x27;, &quot;it&#x27;s&quot;, &#x27;its&#x27;,\n",
              "                            &#x27;itself&#x27;, ...],\n",
              "                tokenizer=&lt;function stem_tokenize at 0x16607c720&gt;)</pre><b>In a Jupyter environment, please rerun this cell to show the HTML representation or trust the notebook. <br />On GitHub, the HTML representation is unable to render, please try loading this page with nbviewer.org.</b></div><div class=\"sk-container\" hidden><div class=\"sk-item\"><div class=\"sk-estimator sk-toggleable\"><input class=\"sk-toggleable__control sk-hidden--visually\" id=\"sk-estimator-id-4\" type=\"checkbox\" checked><label for=\"sk-estimator-id-4\" class=\"sk-toggleable__label sk-toggleable__label-arrow\">CountVectorizer</label><div class=\"sk-toggleable__content\"><pre>CountVectorizer(max_features=2700,\n",
              "                stop_words=[&#x27;i&#x27;, &#x27;me&#x27;, &#x27;my&#x27;, &#x27;myself&#x27;, &#x27;we&#x27;, &#x27;our&#x27;, &#x27;ours&#x27;,\n",
              "                            &#x27;ourselves&#x27;, &#x27;you&#x27;, &quot;you&#x27;re&quot;, &quot;you&#x27;ve&quot;, &quot;you&#x27;ll&quot;,\n",
              "                            &quot;you&#x27;d&quot;, &#x27;your&#x27;, &#x27;yours&#x27;, &#x27;yourself&#x27;, &#x27;yourselves&#x27;,\n",
              "                            &#x27;he&#x27;, &#x27;him&#x27;, &#x27;his&#x27;, &#x27;himself&#x27;, &#x27;she&#x27;, &quot;she&#x27;s&quot;,\n",
              "                            &#x27;her&#x27;, &#x27;hers&#x27;, &#x27;herself&#x27;, &#x27;it&#x27;, &quot;it&#x27;s&quot;, &#x27;its&#x27;,\n",
              "                            &#x27;itself&#x27;, ...],\n",
              "                tokenizer=&lt;function stem_tokenize at 0x16607c720&gt;)</pre></div></div></div></div></div>"
            ],
            "text/plain": [
              "CountVectorizer(max_features=2700,\n",
              "                stop_words=['i', 'me', 'my', 'myself', 'we', 'our', 'ours',\n",
              "                            'ourselves', 'you', \"you're\", \"you've\", \"you'll\",\n",
              "                            \"you'd\", 'your', 'yours', 'yourself', 'yourselves',\n",
              "                            'he', 'him', 'his', 'himself', 'she', \"she's\",\n",
              "                            'her', 'hers', 'herself', 'it', \"it's\", 'its',\n",
              "                            'itself', ...],\n",
              "                tokenizer=<function stem_tokenize at 0x16607c720>)"
            ]
          },
          "execution_count": 119,
          "metadata": {},
          "output_type": "execute_result"
        }
      ],
      "source": [
        "vectorizer = CountVectorizer(max_features=2700,ngram_range=(1,1), tokenizer=stem_tokenize, stop_words=english_stopwords )\n",
        "vectorizer.fit(df['text'])"
      ]
    },
    {
      "cell_type": "code",
      "execution_count": null,
      "metadata": {},
      "outputs": [],
      "source": [
        "features_countVector = vectorizer.get_feature_names_out()\n",
        "transformed_text = vectorizer.transform(df['text'])\n"
      ]
    },
    {
      "cell_type": "code",
      "execution_count": 121,
      "metadata": {},
      "outputs": [],
      "source": [
        "transformed_df = pd.DataFrame(data=transformed_text.toarray(), columns=features_countVector)"
      ]
    },
    {
      "cell_type": "markdown",
      "metadata": {
        "id": "v0RHDwO7OBIJ"
      },
      "source": [
        "### Завдання 4. Побудова класифікатора\n",
        "\n",
        "- Розділіть індекси даних на навчальний та тестовий набори в обраному співвівдношенні. Використовуючи отримані індекси сфомуйте набори для тренування класифікатора `X_train_bow, X_test_bow, y_train, y_test`.\n",
        "- Навчіть класифікатор (наприклад, Logistic Regression, Decision Tree або один з алгоритмів бустингу) на даних, векторизованих методом bag-of-words. Спробуйте кілька моделей і оберіть найбільш точну :)\n",
        "- Виведіть інформацію, яка дає можливість оцінити якість класифікації.\n",
        "- Оцініть якість фінальної класифікації: вона хороша чи не дуже?\n",
        "\n"
      ]
    },
    {
      "cell_type": "code",
      "execution_count": 131,
      "metadata": {},
      "outputs": [],
      "source": [
        "target = (df.sentiment=='negative').astype(int)"
      ]
    },
    {
      "cell_type": "code",
      "execution_count": 170,
      "metadata": {
        "id": "NVdpanFFdkyo"
      },
      "outputs": [],
      "source": [
        "X_train_bow, X_test_bow, y_train_bow, y_test_bow = train_test_split(transformed_df, target, test_size=0.2, random_state=12, stratify=target)"
      ]
    },
    {
      "cell_type": "code",
      "execution_count": 171,
      "metadata": {},
      "outputs": [
        {
          "name": "stdout",
          "output_type": "stream",
          "text": [
            "Train roc_auc_score 0.8024434153900964\n",
            "Test roc_auc_score 0.7734497540224187\n",
            "Train f1 0.7356903879193417\n"
          ]
        },
        {
          "data": {
            "text/plain": [
              "[<matplotlib.lines.Line2D at 0x1760d5a10>]"
            ]
          },
          "execution_count": 171,
          "metadata": {},
          "output_type": "execute_result"
        },
        {
          "data": {
            "image/png": "[encoded data removed]",
            "text/plain": [
              "<Figure size 640x480 with 1 Axes>"
            ]
          },
          "metadata": {},
          "output_type": "display_data"
        }
      ],
      "source": [
        "lr_model = LogisticRegression(penalty='l1', random_state=12, solver='liblinear')\n",
        "lr_model.fit(X_train_bow, y_train_bow)\n",
        "preds_train = lr_model.predict(X_train_bow)\n",
        "train_score_lr = roc_auc_score(y_train_bow, preds_train)\n",
        "preds_test = lr_model.predict(X_test_bow)\n",
        "pred_test_proba = lr_model.predict_proba(X_test_bow)\n",
        "test_score_lr = roc_auc_score(y_test_bow, preds_test)\n",
        "print(\"Train roc_auc_score {}\".format(train_score_lr))\n",
        "print(\"Test roc_auc_score {}\".format(test_score_lr))\n",
        "f1_score_lr_train = f1_score(y_train_bow, preds_train)\n",
        "print(\"Train f1 {}\".format(f1_score_lr_train))\n",
        "fpr, tpr, thresholds = roc_curve(y_test_bow, pred_test_proba[:, 1])\n",
        "plt.plot(fpr, tpr)"
      ]
    },
    {
      "cell_type": "code",
      "execution_count": 172,
      "metadata": {},
      "outputs": [],
      "source": [
        "train_index = X_train_bow.index\n",
        "test_index = X_test_bow.index"
      ]
    },
    {
      "cell_type": "markdown",
      "metadata": {},
      "source": [
        "Хороший результат модельки"
      ]
    },
    {
      "cell_type": "markdown",
      "metadata": {
        "id": "53hZa4bKP5Cx"
      },
      "source": [
        "### Завдання 5. Аналіз впливовості слів в отриманого класифікатора\n",
        "\n",
        "- Для обраної вами моделі проведіть аналіз важливості слів (ознак): які слова (токени) найбільше впливають для визначення сентименту? Чи це логічно на ваш погляд, що саме ці символи впливають найбільше/найменще?\n"
      ]
    },
    {
      "cell_type": "code",
      "execution_count": 179,
      "metadata": {
        "id": "z0YBHvG4dmKb"
      },
      "outputs": [],
      "source": [
        "coefs_lr_df = pd.DataFrame({\n",
        "    'feature_name':lr_model.feature_names_in_,\n",
        "    'feature_value':lr_model.coef_[0]\n",
        "    })"
      ]
    },
    {
      "cell_type": "code",
      "execution_count": 181,
      "metadata": {},
      "outputs": [
        {
          "data": {
            "text/html": [
              "<div>\n",
              "<style scoped>\n",
              "    .dataframe tbody tr th:only-of-type {\n",
              "        vertical-align: middle;\n",
              "    }\n",
              "\n",
              "    .dataframe tbody tr th {\n",
              "        vertical-align: top;\n",
              "    }\n",
              "\n",
              "    .dataframe thead th {\n",
              "        text-align: right;\n",
              "    }\n",
              "</style>\n",
              "<table border=\"1\" class=\"dataframe\">\n",
              "  <thead>\n",
              "    <tr style=\"text-align: right;\">\n",
              "      <th></th>\n",
              "      <th>feature_value</th>\n",
              "    </tr>\n",
              "    <tr>\n",
              "      <th>feature_name</th>\n",
              "      <th></th>\n",
              "    </tr>\n",
              "  </thead>\n",
              "  <tbody>\n",
              "    <tr>\n",
              "      <th>!</th>\n",
              "      <td>0.013977</td>\n",
              "    </tr>\n",
              "    <tr>\n",
              "      <th>#</th>\n",
              "      <td>0.017773</td>\n",
              "    </tr>\n",
              "    <tr>\n",
              "      <th>$</th>\n",
              "      <td>0.400166</td>\n",
              "    </tr>\n",
              "    <tr>\n",
              "      <th>%</th>\n",
              "      <td>0.397952</td>\n",
              "    </tr>\n",
              "    <tr>\n",
              "      <th>&amp;</th>\n",
              "      <td>-0.091581</td>\n",
              "    </tr>\n",
              "    <tr>\n",
              "      <th>...</th>\n",
              "      <td>...</td>\n",
              "    </tr>\n",
              "    <tr>\n",
              "      <th>zoo</th>\n",
              "      <td>0.000000</td>\n",
              "    </tr>\n",
              "    <tr>\n",
              "      <th>{</th>\n",
              "      <td>0.000000</td>\n",
              "    </tr>\n",
              "    <tr>\n",
              "      <th>|</th>\n",
              "      <td>0.000000</td>\n",
              "    </tr>\n",
              "    <tr>\n",
              "      <th>}</th>\n",
              "      <td>0.000000</td>\n",
              "    </tr>\n",
              "    <tr>\n",
              "      <th>~</th>\n",
              "      <td>0.375890</td>\n",
              "    </tr>\n",
              "  </tbody>\n",
              "</table>\n",
              "<p>2700 rows × 1 columns</p>\n",
              "</div>"
            ],
            "text/plain": [
              "              feature_value\n",
              "feature_name               \n",
              "!                  0.013977\n",
              "#                  0.017773\n",
              "$                  0.400166\n",
              "%                  0.397952\n",
              "&                 -0.091581\n",
              "...                     ...\n",
              "zoo                0.000000\n",
              "{                  0.000000\n",
              "|                  0.000000\n",
              "}                  0.000000\n",
              "~                  0.375890\n",
              "\n",
              "[2700 rows x 1 columns]"
            ]
          },
          "execution_count": 181,
          "metadata": {},
          "output_type": "execute_result"
        }
      ],
      "source": [
        "coefs_lr_df.set_index('feature_name')"
      ]
    },
    {
      "cell_type": "code",
      "execution_count": 186,
      "metadata": {},
      "outputs": [],
      "source": [
        "coefs_lr_df['feature_value'] = coefs_lr_df['feature_value'].apply('abs')"
      ]
    },
    {
      "cell_type": "code",
      "execution_count": 207,
      "metadata": {},
      "outputs": [
        {
          "name": "stdout",
          "output_type": "stream",
          "text": [
            "['glad' 'worst' 'awesom' 'fail' 'terribl' 'amaz' 'suck' 'dammit' 'thank'\n",
            " 'wtf' 'welcom' 'sad' 'exhaust' 'frustrat' 'hate' 'headach' 'stupid'\n",
            " 'disappoint' 'curs' 'bore' 'tummi' 'rubbish' 'love' 'lame' 'scari'\n",
            " 'yucki' 'idiot' 'miss' 'ughh' 'blah' 'cute' 'weird' 'burnt' 'sick'\n",
            " 'beauti' 'unfortun' 'upset' 'bummer' 'broken' 'depress' 'wors' 'hurt'\n",
            " 'wrong' '[' 'afraid' 'annoy' 'crappi' 'yummi' 'fantast' 'sorri' 'ignor'\n",
            " 'poor' 'yum' 'r.i.p' 'awsom' 'wick' 'idol' 'urgh' 'mistak' 'congrat'\n",
            " 'lone' 'dirti' 'fine' 'stress' 'standard' 'horribl' 'tire' 'hope' 'bruis'\n",
            " 'clip' 'unfair' 'win' 'weak' 'disgust' 'useless' 'jam' 'nooo' 'hmph'\n",
            " 'noo' 'damnit' 'mess' 'miser' 'sunburn' 'luckili' 'enjoy' 'metal'\n",
            " 'jealous' 'hehe' 'twilight' 'great' 'ugh' 'scratch' 'forum' 'pain'\n",
            " 'stink' 'ach' 'meh' 'shame' 'gorgeous' 'migrain' 'burn' 'cri' 'excit'\n",
            " 'otherwis' 'fault' 'die' 'lost' 'ador' 'ugli' 'broke' 'cool' 'hard' 'nt'\n",
            " 'bleh' 'sux' 'bad' 'smile' 'suffer' 'bah' 'kill' 'death' 'mental'\n",
            " 'instant' 'nice' 'juss' 'heaven' 'luv' 'bless' 'thanx' 'troubl' 'mon'\n",
            " 'shatter' 'shock' 'piss' 'goodnight' 'gut' 'darn' 'england' 'plain' '4am'\n",
            " 'best' 'rip' 'safe' 'jona' 'thunder' 'stuck' 'fabul' 'singer' 'happi'\n",
            " 'david' 'health' 'tough' 'gud' 'yay' 'drama' 'whether' 'wet' 'sunburnt'\n",
            " 'regard' 'wast' 'spill' 'guilt' 'sexi' 'delay' 'dang' 'complic' 'toy'\n",
            " 'scare' 'slow' 'accident' 'confus' 'greatest' 'special' 'loser' 'lose'\n",
            " 'reject' 'traffic' 'hide' 'sore' 'ad' 'bum' 'angri' 'problem' 'smart'\n",
            " 'winter' 'fever' 'cheer' 'e-mail' 'gift' 'howev' 'everytim' 'shift'\n",
            " 'mcfli' 'dead' 'better' 'oop' 'truck' 'prefer' 'cancel' 'chris' 'flick'\n",
            " 'nose' 'struggl' 'previous' 'bell' 'ruin' 'regret' ']' 'woo' 'mad' 'bump'\n",
            " 'garag' 'forc' 'episod' 'spam' 'honest' 'differ' 'bloodi' 'starv' 'fli'\n",
            " 'giant' 'funer' 'noon' 'lack' 'warn' 'talent' 'glorious' 'feel' 'funni'\n",
            " 'st' 'stack' 'shape' 'arm' 'throat' 'improv' 'kitchen' 'qualiti' 'updat'\n",
            " 'nervous' 'retard' 'lucki' 'smack' 'whenev' 'fair' 'star' 'interest'\n",
            " 'wave' 'fit' 'outta' 'couch' 'mouth' 'younger' 'haha' 'breakfast' 'drum'\n",
            " 'yu' 'famous' 'anymor' 'handl' 'known' '26' 'theme' 'report' 'grrr'\n",
            " 'lovin' 'mr.' 'wouldnt' 'argh' 'error' 'screw' 'mmm' 'spin' 'wit' 'heavi'\n",
            " 'massag' 'wifi' 'rock' 'imposs' 'hell' 'film' 'good' 'bare' 'th' '^^'\n",
            " 'attack' 'prison' 'accid' 'ahead' 'stop' 'hunt' 'doc' 'nooooo' 'church'\n",
            " 'tabl' 'holli' 'msg' 'fanci' 'cant' 'late' 'omfg']\n"
          ]
        }
      ],
      "source": [
        "first_300_feat = coefs_lr_df.sort_values('feature_value', ascending=False).feature_name.iloc[:300]\n",
        "print(first_300_feat.to_numpy())"
      ]
    },
    {
      "cell_type": "markdown",
      "metadata": {},
      "source": [
        "Деякі слова явно впливають на тип коментаря (наприклад ruin, regret, bless), проте інші на мою думку не дуже - film, wifi, msg"
      ]
    },
    {
      "cell_type": "markdown",
      "metadata": {
        "id": "FvJlvr9JRhzq"
      },
      "source": [
        "### Завдання 6. Векторизація текстів з допомогою TF-IDF. Тренування класифікатора, аналіз точності і впливовості слів.\n",
        "\n",
        "- Проведіть векторизацію текстів з векторизатором TfidfVectorizer. Реалізуйте векторизацію так, аби препроцесинг включав всі ті самі кроки, що і в випадку використання векторизації Bag of Words.\n",
        "\n",
        "- Натренуйте той самий класифікатор на TF-IDF векторах, виконавши розбивку набору даних на train, test так, аби в трейні були всі ті самі записи, що і були в попередньому завданні (це важливо для порівняння результатів).\n",
        "\n",
        "- Проаналізуйте якість класифікації вивівши потрібні для цього метрики. Чи стала якість класифікації кращою?\n",
        "\n",
        "- Які токени найбільше впливають на результат при тренуваннні класифікатора з TF-IDF векторами? Порівняйте з найважливішими токенами при Bag of Words векторизації. Яку векторизацію ви б обрали для фінальної імплементації рішення? Обґрунтуйте свій вибір.\n",
        "\n"
      ]
    },
    {
      "cell_type": "code",
      "execution_count": 211,
      "metadata": {
        "id": "huUPpVhMdodx"
      },
      "outputs": [
        {
          "name": "stderr",
          "output_type": "stream",
          "text": [
            "/opt/anaconda3/lib/python3.11/site-packages/sklearn/feature_extraction/text.py:528: UserWarning: The parameter 'token_pattern' will not be used since 'tokenizer' is not None'\n",
            "  warnings.warn(\n",
            "/opt/anaconda3/lib/python3.11/site-packages/sklearn/feature_extraction/text.py:409: UserWarning: Your stop_words may be inconsistent with your preprocessing. Tokenizing the stop words generated tokens [\"'d\", \"'s\", 'abov', 'ani', 'becaus', 'befor', 'could', 'doe', 'dure', 'might', 'must', \"n't\", 'need', 'onc', 'onli', 'ourselv', 'sha', 'themselv', 'veri', 'whi', 'wo', 'would', 'yourselv'] not in stop_words.\n",
            "  warnings.warn(\n"
          ]
        }
      ],
      "source": [
        "tf_idfVectorizer = TfidfVectorizer(\n",
        "    tokenizer=stem_tokenize, \n",
        "    stop_words=english_stopwords, \n",
        "    max_features=2700)\n",
        "tf_idf_data = tf_idfVectorizer.fit_transform(df['text'])"
      ]
    },
    {
      "cell_type": "code",
      "execution_count": 213,
      "metadata": {},
      "outputs": [],
      "source": [
        "features_tfidfVector = tf_idfVectorizer.get_feature_names_out()\n",
        "transformed_df_tfidf = pd.DataFrame(data=tf_idf_data.toarray(), columns=features_countVector)"
      ]
    },
    {
      "cell_type": "code",
      "execution_count": 214,
      "metadata": {},
      "outputs": [],
      "source": [
        "X_train_tfidf, X_test_tfidf, y_train_tfidf, y_test_tfidf = train_test_split(transformed_df_tfidf, target, test_size=0.2, random_state=12, stratify=target)"
      ]
    },
    {
      "cell_type": "code",
      "execution_count": 215,
      "metadata": {},
      "outputs": [],
      "source": [
        "train_index_tfidf = X_train_tfidf.index\n",
        "test_index_tfidf = X_test_tfidf.index"
      ]
    },
    {
      "cell_type": "code",
      "execution_count": 219,
      "metadata": {},
      "outputs": [
        {
          "data": {
            "text/plain": [
              "0"
            ]
          },
          "execution_count": 219,
          "metadata": {},
          "output_type": "execute_result"
        }
      ],
      "source": [
        "sum(train_index_tfidf!=train_index) #на всякий випадок перевірка чи дійсно дані розило так само"
      ]
    },
    {
      "cell_type": "code",
      "execution_count": 220,
      "metadata": {},
      "outputs": [
        {
          "data": {
            "text/html": [
              "<div>\n",
              "<style scoped>\n",
              "    .dataframe tbody tr th:only-of-type {\n",
              "        vertical-align: middle;\n",
              "    }\n",
              "\n",
              "    .dataframe tbody tr th {\n",
              "        vertical-align: top;\n",
              "    }\n",
              "\n",
              "    .dataframe thead th {\n",
              "        text-align: right;\n",
              "    }\n",
              "</style>\n",
              "<table border=\"1\" class=\"dataframe\">\n",
              "  <thead>\n",
              "    <tr style=\"text-align: right;\">\n",
              "      <th></th>\n",
              "      <th>!</th>\n",
              "      <th>#</th>\n",
              "      <th>$</th>\n",
              "      <th>%</th>\n",
              "      <th>&amp;</th>\n",
              "      <th>'</th>\n",
              "      <th>(</th>\n",
              "      <th>)</th>\n",
              "      <th>*</th>\n",
              "      <th>+</th>\n",
              "      <th>...</th>\n",
              "      <th>yummi</th>\n",
              "      <th>yup</th>\n",
              "      <th>zero</th>\n",
              "      <th>zombi</th>\n",
              "      <th>zone</th>\n",
              "      <th>zoo</th>\n",
              "      <th>{</th>\n",
              "      <th>|</th>\n",
              "      <th>}</th>\n",
              "      <th>~</th>\n",
              "    </tr>\n",
              "  </thead>\n",
              "  <tbody>\n",
              "    <tr>\n",
              "      <th>15257</th>\n",
              "      <td>0.000000</td>\n",
              "      <td>0.0</td>\n",
              "      <td>0.0</td>\n",
              "      <td>0.0</td>\n",
              "      <td>0.0</td>\n",
              "      <td>0.0</td>\n",
              "      <td>0.00000</td>\n",
              "      <td>0.000000</td>\n",
              "      <td>0.0</td>\n",
              "      <td>0.0</td>\n",
              "      <td>...</td>\n",
              "      <td>0.0</td>\n",
              "      <td>0.0</td>\n",
              "      <td>0.0</td>\n",
              "      <td>0.0</td>\n",
              "      <td>0.0</td>\n",
              "      <td>0.0</td>\n",
              "      <td>0.0</td>\n",
              "      <td>0.0</td>\n",
              "      <td>0.0</td>\n",
              "      <td>0.0</td>\n",
              "    </tr>\n",
              "    <tr>\n",
              "      <th>4226</th>\n",
              "      <td>0.000000</td>\n",
              "      <td>0.0</td>\n",
              "      <td>0.0</td>\n",
              "      <td>0.0</td>\n",
              "      <td>0.0</td>\n",
              "      <td>0.0</td>\n",
              "      <td>0.00000</td>\n",
              "      <td>0.000000</td>\n",
              "      <td>0.0</td>\n",
              "      <td>0.0</td>\n",
              "      <td>...</td>\n",
              "      <td>0.0</td>\n",
              "      <td>0.0</td>\n",
              "      <td>0.0</td>\n",
              "      <td>0.0</td>\n",
              "      <td>0.0</td>\n",
              "      <td>0.0</td>\n",
              "      <td>0.0</td>\n",
              "      <td>0.0</td>\n",
              "      <td>0.0</td>\n",
              "      <td>0.0</td>\n",
              "    </tr>\n",
              "    <tr>\n",
              "      <th>767</th>\n",
              "      <td>0.000000</td>\n",
              "      <td>0.0</td>\n",
              "      <td>0.0</td>\n",
              "      <td>0.0</td>\n",
              "      <td>0.0</td>\n",
              "      <td>0.0</td>\n",
              "      <td>0.00000</td>\n",
              "      <td>0.000000</td>\n",
              "      <td>0.0</td>\n",
              "      <td>0.0</td>\n",
              "      <td>...</td>\n",
              "      <td>0.0</td>\n",
              "      <td>0.0</td>\n",
              "      <td>0.0</td>\n",
              "      <td>0.0</td>\n",
              "      <td>0.0</td>\n",
              "      <td>0.0</td>\n",
              "      <td>0.0</td>\n",
              "      <td>0.0</td>\n",
              "      <td>0.0</td>\n",
              "      <td>0.0</td>\n",
              "    </tr>\n",
              "    <tr>\n",
              "      <th>19841</th>\n",
              "      <td>0.000000</td>\n",
              "      <td>0.0</td>\n",
              "      <td>0.0</td>\n",
              "      <td>0.0</td>\n",
              "      <td>0.0</td>\n",
              "      <td>0.0</td>\n",
              "      <td>0.00000</td>\n",
              "      <td>0.000000</td>\n",
              "      <td>0.0</td>\n",
              "      <td>0.0</td>\n",
              "      <td>...</td>\n",
              "      <td>0.0</td>\n",
              "      <td>0.0</td>\n",
              "      <td>0.0</td>\n",
              "      <td>0.0</td>\n",
              "      <td>0.0</td>\n",
              "      <td>0.0</td>\n",
              "      <td>0.0</td>\n",
              "      <td>0.0</td>\n",
              "      <td>0.0</td>\n",
              "      <td>0.0</td>\n",
              "    </tr>\n",
              "    <tr>\n",
              "      <th>1979</th>\n",
              "      <td>0.000000</td>\n",
              "      <td>0.0</td>\n",
              "      <td>0.0</td>\n",
              "      <td>0.0</td>\n",
              "      <td>0.0</td>\n",
              "      <td>0.0</td>\n",
              "      <td>0.00000</td>\n",
              "      <td>0.000000</td>\n",
              "      <td>0.0</td>\n",
              "      <td>0.0</td>\n",
              "      <td>...</td>\n",
              "      <td>0.0</td>\n",
              "      <td>0.0</td>\n",
              "      <td>0.0</td>\n",
              "      <td>0.0</td>\n",
              "      <td>0.0</td>\n",
              "      <td>0.0</td>\n",
              "      <td>0.0</td>\n",
              "      <td>0.0</td>\n",
              "      <td>0.0</td>\n",
              "      <td>0.0</td>\n",
              "    </tr>\n",
              "    <tr>\n",
              "      <th>...</th>\n",
              "      <td>...</td>\n",
              "      <td>...</td>\n",
              "      <td>...</td>\n",
              "      <td>...</td>\n",
              "      <td>...</td>\n",
              "      <td>...</td>\n",
              "      <td>...</td>\n",
              "      <td>...</td>\n",
              "      <td>...</td>\n",
              "      <td>...</td>\n",
              "      <td>...</td>\n",
              "      <td>...</td>\n",
              "      <td>...</td>\n",
              "      <td>...</td>\n",
              "      <td>...</td>\n",
              "      <td>...</td>\n",
              "      <td>...</td>\n",
              "      <td>...</td>\n",
              "      <td>...</td>\n",
              "      <td>...</td>\n",
              "      <td>...</td>\n",
              "    </tr>\n",
              "    <tr>\n",
              "      <th>23719</th>\n",
              "      <td>0.118227</td>\n",
              "      <td>0.0</td>\n",
              "      <td>0.0</td>\n",
              "      <td>0.0</td>\n",
              "      <td>0.0</td>\n",
              "      <td>0.0</td>\n",
              "      <td>0.00000</td>\n",
              "      <td>0.000000</td>\n",
              "      <td>0.0</td>\n",
              "      <td>0.0</td>\n",
              "      <td>...</td>\n",
              "      <td>0.0</td>\n",
              "      <td>0.0</td>\n",
              "      <td>0.0</td>\n",
              "      <td>0.0</td>\n",
              "      <td>0.0</td>\n",
              "      <td>0.0</td>\n",
              "      <td>0.0</td>\n",
              "      <td>0.0</td>\n",
              "      <td>0.0</td>\n",
              "      <td>0.0</td>\n",
              "    </tr>\n",
              "    <tr>\n",
              "      <th>16329</th>\n",
              "      <td>0.107287</td>\n",
              "      <td>0.0</td>\n",
              "      <td>0.0</td>\n",
              "      <td>0.0</td>\n",
              "      <td>0.0</td>\n",
              "      <td>0.0</td>\n",
              "      <td>0.00000</td>\n",
              "      <td>0.000000</td>\n",
              "      <td>0.0</td>\n",
              "      <td>0.0</td>\n",
              "      <td>...</td>\n",
              "      <td>0.0</td>\n",
              "      <td>0.0</td>\n",
              "      <td>0.0</td>\n",
              "      <td>0.0</td>\n",
              "      <td>0.0</td>\n",
              "      <td>0.0</td>\n",
              "      <td>0.0</td>\n",
              "      <td>0.0</td>\n",
              "      <td>0.0</td>\n",
              "      <td>0.0</td>\n",
              "    </tr>\n",
              "    <tr>\n",
              "      <th>14613</th>\n",
              "      <td>0.000000</td>\n",
              "      <td>0.0</td>\n",
              "      <td>0.0</td>\n",
              "      <td>0.0</td>\n",
              "      <td>0.0</td>\n",
              "      <td>0.0</td>\n",
              "      <td>0.21204</td>\n",
              "      <td>0.206519</td>\n",
              "      <td>0.0</td>\n",
              "      <td>0.0</td>\n",
              "      <td>...</td>\n",
              "      <td>0.0</td>\n",
              "      <td>0.0</td>\n",
              "      <td>0.0</td>\n",
              "      <td>0.0</td>\n",
              "      <td>0.0</td>\n",
              "      <td>0.0</td>\n",
              "      <td>0.0</td>\n",
              "      <td>0.0</td>\n",
              "      <td>0.0</td>\n",
              "      <td>0.0</td>\n",
              "    </tr>\n",
              "    <tr>\n",
              "      <th>10256</th>\n",
              "      <td>0.000000</td>\n",
              "      <td>0.0</td>\n",
              "      <td>0.0</td>\n",
              "      <td>0.0</td>\n",
              "      <td>0.0</td>\n",
              "      <td>0.0</td>\n",
              "      <td>0.00000</td>\n",
              "      <td>0.000000</td>\n",
              "      <td>0.0</td>\n",
              "      <td>0.0</td>\n",
              "      <td>...</td>\n",
              "      <td>0.0</td>\n",
              "      <td>0.0</td>\n",
              "      <td>0.0</td>\n",
              "      <td>0.0</td>\n",
              "      <td>0.0</td>\n",
              "      <td>0.0</td>\n",
              "      <td>0.0</td>\n",
              "      <td>0.0</td>\n",
              "      <td>0.0</td>\n",
              "      <td>0.0</td>\n",
              "    </tr>\n",
              "    <tr>\n",
              "      <th>15763</th>\n",
              "      <td>0.000000</td>\n",
              "      <td>0.0</td>\n",
              "      <td>0.0</td>\n",
              "      <td>0.0</td>\n",
              "      <td>0.0</td>\n",
              "      <td>0.0</td>\n",
              "      <td>0.00000</td>\n",
              "      <td>0.000000</td>\n",
              "      <td>0.0</td>\n",
              "      <td>0.0</td>\n",
              "      <td>...</td>\n",
              "      <td>0.0</td>\n",
              "      <td>0.0</td>\n",
              "      <td>0.0</td>\n",
              "      <td>0.0</td>\n",
              "      <td>0.0</td>\n",
              "      <td>0.0</td>\n",
              "      <td>0.0</td>\n",
              "      <td>0.0</td>\n",
              "      <td>0.0</td>\n",
              "      <td>0.0</td>\n",
              "    </tr>\n",
              "  </tbody>\n",
              "</table>\n",
              "<p>21984 rows × 2700 columns</p>\n",
              "</div>"
            ],
            "text/plain": [
              "              !    #    $    %    &    '        (         )    *    +  ...  \\\n",
              "15257  0.000000  0.0  0.0  0.0  0.0  0.0  0.00000  0.000000  0.0  0.0  ...   \n",
              "4226   0.000000  0.0  0.0  0.0  0.0  0.0  0.00000  0.000000  0.0  0.0  ...   \n",
              "767    0.000000  0.0  0.0  0.0  0.0  0.0  0.00000  0.000000  0.0  0.0  ...   \n",
              "19841  0.000000  0.0  0.0  0.0  0.0  0.0  0.00000  0.000000  0.0  0.0  ...   \n",
              "1979   0.000000  0.0  0.0  0.0  0.0  0.0  0.00000  0.000000  0.0  0.0  ...   \n",
              "...         ...  ...  ...  ...  ...  ...      ...       ...  ...  ...  ...   \n",
              "23719  0.118227  0.0  0.0  0.0  0.0  0.0  0.00000  0.000000  0.0  0.0  ...   \n",
              "16329  0.107287  0.0  0.0  0.0  0.0  0.0  0.00000  0.000000  0.0  0.0  ...   \n",
              "14613  0.000000  0.0  0.0  0.0  0.0  0.0  0.21204  0.206519  0.0  0.0  ...   \n",
              "10256  0.000000  0.0  0.0  0.0  0.0  0.0  0.00000  0.000000  0.0  0.0  ...   \n",
              "15763  0.000000  0.0  0.0  0.0  0.0  0.0  0.00000  0.000000  0.0  0.0  ...   \n",
              "\n",
              "       yummi  yup  zero  zombi  zone  zoo    {    |    }    ~  \n",
              "15257    0.0  0.0   0.0    0.0   0.0  0.0  0.0  0.0  0.0  0.0  \n",
              "4226     0.0  0.0   0.0    0.0   0.0  0.0  0.0  0.0  0.0  0.0  \n",
              "767      0.0  0.0   0.0    0.0   0.0  0.0  0.0  0.0  0.0  0.0  \n",
              "19841    0.0  0.0   0.0    0.0   0.0  0.0  0.0  0.0  0.0  0.0  \n",
              "1979     0.0  0.0   0.0    0.0   0.0  0.0  0.0  0.0  0.0  0.0  \n",
              "...      ...  ...   ...    ...   ...  ...  ...  ...  ...  ...  \n",
              "23719    0.0  0.0   0.0    0.0   0.0  0.0  0.0  0.0  0.0  0.0  \n",
              "16329    0.0  0.0   0.0    0.0   0.0  0.0  0.0  0.0  0.0  0.0  \n",
              "14613    0.0  0.0   0.0    0.0   0.0  0.0  0.0  0.0  0.0  0.0  \n",
              "10256    0.0  0.0   0.0    0.0   0.0  0.0  0.0  0.0  0.0  0.0  \n",
              "15763    0.0  0.0   0.0    0.0   0.0  0.0  0.0  0.0  0.0  0.0  \n",
              "\n",
              "[21984 rows x 2700 columns]"
            ]
          },
          "execution_count": 220,
          "metadata": {},
          "output_type": "execute_result"
        }
      ],
      "source": [
        "X_train_tfidf"
      ]
    },
    {
      "cell_type": "code",
      "execution_count": 238,
      "metadata": {},
      "outputs": [
        {
          "name": "stdout",
          "output_type": "stream",
          "text": [
            "Train roc_auc_score 0.7770450238035714\n",
            "Test roc_auc_score 0.7599558936750487\n",
            "Train f1 0.698510242085661\n"
          ]
        },
        {
          "data": {
            "text/plain": [
              "[<matplotlib.lines.Line2D at 0x33503e210>]"
            ]
          },
          "execution_count": 238,
          "metadata": {},
          "output_type": "execute_result"
        },
        {
          "data": {
            "image/png": "[encoded data removed]",
            "text/plain": [
              "<Figure size 640x480 with 1 Axes>"
            ]
          },
          "metadata": {},
          "output_type": "display_data"
        }
      ],
      "source": [
        "lr_model_tfidf = LogisticRegression(penalty='l1', random_state=12, solver='liblinear')\n",
        "lr_model_tfidf.fit(X_train_tfidf, y_train_tfidf)\n",
        "preds_train_tfidf = lr_model_tfidf.predict(X_train_tfidf)\n",
        "train_score_lr_tfidf = roc_auc_score(y_train_tfidf, preds_train_tfidf)\n",
        "preds_test_tfidf = lr_model_tfidf.predict(X_test_tfidf)\n",
        "pred_test_proba_tfidf = lr_model_tfidf.predict_proba(X_test_tfidf)\n",
        "pred_train_proba_tfidf = lr_model_tfidf.predict_proba(X_train_tfidf)\n",
        "test_score_lr_tfidf = roc_auc_score(y_test_tfidf, preds_test_tfidf)\n",
        "print(\"Train roc_auc_score {}\".format(train_score_lr_tfidf))\n",
        "print(\"Test roc_auc_score {}\".format(test_score_lr_tfidf))\n",
        "f1_score_lr_train_tfidf = f1_score(y_train_tfidf, preds_train_tfidf)\n",
        "print(\"Train f1 {}\".format(f1_score_lr_train_tfidf))\n",
        "fpr_tfidf, tpr_tfidf, thresholds_tfidf = roc_curve(y_test_tfidf, pred_test_proba_tfidf[:, 1])\n",
        "plt.plot(fpr_tfidf, tpr_tfidf)"
      ]
    },
    {
      "cell_type": "markdown",
      "metadata": {},
      "source": [
        "На жаль, тут показиники трохи погіршилися"
      ]
    },
    {
      "cell_type": "markdown",
      "metadata": {
        "id": "3zsp9KftOqyS"
      },
      "source": [
        "### Завдання 7. Аналіз помилок класифікації з векторизацією TF-IDF.\n",
        "\n",
        "- Проаналізуйте, на яких екземплярах помиляється класифікатор при векторизації TF-IDF.\n",
        "- На основі аналізу запропонуйте 3 шляхи поліпшення якості класифікації."
      ]
    },
    {
      "cell_type": "code",
      "execution_count": 243,
      "metadata": {
        "id": "RbnvtiL8Y-D-"
      },
      "outputs": [],
      "source": [
        "preds_train_tfidf, y_train_tfidf\n",
        "train_target_comparing_df = pd.DataFrame(\n",
        "    {\n",
        "        'target':y_train_tfidf,\n",
        "        'pred_target':preds_train_tfidf,\n",
        "        'proba':pred_train_proba_tfidf[:,1]\n",
        "    }\n",
        ")"
      ]
    },
    {
      "cell_type": "code",
      "execution_count": 244,
      "metadata": {},
      "outputs": [],
      "source": [
        "wrong_pred_tfidf = train_target_comparing_df[train_target_comparing_df['target']!=train_target_comparing_df['pred_target']].index"
      ]
    },
    {
      "cell_type": "code",
      "execution_count": 247,
      "metadata": {},
      "outputs": [
        {
          "data": {
            "text/html": [
              "<div>\n",
              "<style scoped>\n",
              "    .dataframe tbody tr th:only-of-type {\n",
              "        vertical-align: middle;\n",
              "    }\n",
              "\n",
              "    .dataframe tbody tr th {\n",
              "        vertical-align: top;\n",
              "    }\n",
              "\n",
              "    .dataframe thead th {\n",
              "        text-align: right;\n",
              "    }\n",
              "</style>\n",
              "<table border=\"1\" class=\"dataframe\">\n",
              "  <thead>\n",
              "    <tr style=\"text-align: right;\">\n",
              "      <th></th>\n",
              "      <th>target</th>\n",
              "      <th>pred_target</th>\n",
              "      <th>proba</th>\n",
              "    </tr>\n",
              "  </thead>\n",
              "  <tbody>\n",
              "    <tr>\n",
              "      <th>768</th>\n",
              "      <td>1</td>\n",
              "      <td>0</td>\n",
              "      <td>0.200211</td>\n",
              "    </tr>\n",
              "    <tr>\n",
              "      <th>23303</th>\n",
              "      <td>1</td>\n",
              "      <td>0</td>\n",
              "      <td>0.134684</td>\n",
              "    </tr>\n",
              "    <tr>\n",
              "      <th>17828</th>\n",
              "      <td>1</td>\n",
              "      <td>0</td>\n",
              "      <td>0.359070</td>\n",
              "    </tr>\n",
              "    <tr>\n",
              "      <th>8216</th>\n",
              "      <td>1</td>\n",
              "      <td>0</td>\n",
              "      <td>0.209393</td>\n",
              "    </tr>\n",
              "    <tr>\n",
              "      <th>26762</th>\n",
              "      <td>0</td>\n",
              "      <td>1</td>\n",
              "      <td>0.859250</td>\n",
              "    </tr>\n",
              "    <tr>\n",
              "      <th>...</th>\n",
              "      <td>...</td>\n",
              "      <td>...</td>\n",
              "      <td>...</td>\n",
              "    </tr>\n",
              "    <tr>\n",
              "      <th>19588</th>\n",
              "      <td>0</td>\n",
              "      <td>1</td>\n",
              "      <td>0.812579</td>\n",
              "    </tr>\n",
              "    <tr>\n",
              "      <th>8085</th>\n",
              "      <td>1</td>\n",
              "      <td>0</td>\n",
              "      <td>0.495232</td>\n",
              "    </tr>\n",
              "    <tr>\n",
              "      <th>21922</th>\n",
              "      <td>1</td>\n",
              "      <td>0</td>\n",
              "      <td>0.198611</td>\n",
              "    </tr>\n",
              "    <tr>\n",
              "      <th>10812</th>\n",
              "      <td>1</td>\n",
              "      <td>0</td>\n",
              "      <td>0.187325</td>\n",
              "    </tr>\n",
              "    <tr>\n",
              "      <th>267</th>\n",
              "      <td>0</td>\n",
              "      <td>1</td>\n",
              "      <td>0.774466</td>\n",
              "    </tr>\n",
              "  </tbody>\n",
              "</table>\n",
              "<p>3238 rows × 3 columns</p>\n",
              "</div>"
            ],
            "text/plain": [
              "       target  pred_target     proba\n",
              "768         1            0  0.200211\n",
              "23303       1            0  0.134684\n",
              "17828       1            0  0.359070\n",
              "8216        1            0  0.209393\n",
              "26762       0            1  0.859250\n",
              "...       ...          ...       ...\n",
              "19588       0            1  0.812579\n",
              "8085        1            0  0.495232\n",
              "21922       1            0  0.198611\n",
              "10812       1            0  0.187325\n",
              "267         0            1  0.774466\n",
              "\n",
              "[3238 rows x 3 columns]"
            ]
          },
          "execution_count": 247,
          "metadata": {},
          "output_type": "execute_result"
        }
      ],
      "source": [
        "train_target_comparing_df.loc[wrong_pred_tfidf]"
      ]
    },
    {
      "cell_type": "code",
      "execution_count": 235,
      "metadata": {},
      "outputs": [
        {
          "data": {
            "text/html": [
              "<div>\n",
              "<style scoped>\n",
              "    .dataframe tbody tr th:only-of-type {\n",
              "        vertical-align: middle;\n",
              "    }\n",
              "\n",
              "    .dataframe tbody tr th {\n",
              "        vertical-align: top;\n",
              "    }\n",
              "\n",
              "    .dataframe thead th {\n",
              "        text-align: right;\n",
              "    }\n",
              "</style>\n",
              "<table border=\"1\" class=\"dataframe\">\n",
              "  <thead>\n",
              "    <tr style=\"text-align: right;\">\n",
              "      <th></th>\n",
              "      <th>textID</th>\n",
              "      <th>text</th>\n",
              "      <th>selected_text</th>\n",
              "      <th>sentiment</th>\n",
              "      <th>text_len</th>\n",
              "      <th>text_tokenized</th>\n",
              "      <th>stemed_tokenized</th>\n",
              "      <th>text_len_stem</th>\n",
              "    </tr>\n",
              "  </thead>\n",
              "  <tbody>\n",
              "    <tr>\n",
              "      <th>768</th>\n",
              "      <td>49e24a4501</td>\n",
              "      <td>nooooo its raining......had 2 leave the beach</td>\n",
              "      <td>nooooo its raining..</td>\n",
              "      <td>negative</td>\n",
              "      <td>45</td>\n",
              "      <td>nooooo raining ...... 2 leave beach</td>\n",
              "      <td>[nooooo, rain, ......, 2, leav, beach]</td>\n",
              "      <td>6</td>\n",
              "    </tr>\n",
              "    <tr>\n",
              "      <th>23303</th>\n",
              "      <td>34902d475c</td>\n",
              "      <td>To Lisa: Yes I know who ur talking about and y...</td>\n",
              "      <td>he is an ****.</td>\n",
              "      <td>negative</td>\n",
              "      <td>133</td>\n",
              "      <td>Lisa : Yes know ur talking yes * * * * . Dont ...</td>\n",
              "      <td>[lisa, :, yes, know, ur, talk, yes, *, *, *, *...</td>\n",
              "      <td>21</td>\n",
              "    </tr>\n",
              "    <tr>\n",
              "      <th>17828</th>\n",
              "      <td>abfb47f0b8</td>\n",
              "      <td>i have nothing to do except right a eassy due ...</td>\n",
              "      <td>i have nothing to do except right a eassy due ...</td>\n",
              "      <td>negative</td>\n",
              "      <td>71</td>\n",
              "      <td>nothing except right eassy due monday : : [ : ...</td>\n",
              "      <td>[noth, except, right, eassi, due, monday, :, :...</td>\n",
              "      <td>15</td>\n",
              "    </tr>\n",
              "    <tr>\n",
              "      <th>8216</th>\n",
              "      <td>cb9aaf07ff</td>\n",
              "      <td>you should see the Morning Rush Forum`s shout...</td>\n",
              "      <td>Overheat</td>\n",
              "      <td>negative</td>\n",
              "      <td>94</td>\n",
              "      <td>see Morning Rush Forum ` shoutbox . Overheat b...</td>\n",
              "      <td>[see, morn, rush, forum, `, shoutbox, ., overh...</td>\n",
              "      <td>16</td>\n",
              "    </tr>\n",
              "    <tr>\n",
              "      <th>26762</th>\n",
              "      <td>76d03aa370</td>\n",
              "      <td>so my friends are coming to see you on NYC......</td>\n",
              "      <td>.but im on stupid vaca in the stupid cayman is...</td>\n",
              "      <td>neutral</td>\n",
              "      <td>120</td>\n",
              "      <td>friends coming see NYC ... im stupid vaca stup...</td>\n",
              "      <td>[friend, come, see, nyc, ..., im, stupid, vaca...</td>\n",
              "      <td>16</td>\n",
              "    </tr>\n",
              "    <tr>\n",
              "      <th>...</th>\n",
              "      <td>...</td>\n",
              "      <td>...</td>\n",
              "      <td>...</td>\n",
              "      <td>...</td>\n",
              "      <td>...</td>\n",
              "      <td>...</td>\n",
              "      <td>...</td>\n",
              "      <td>...</td>\n",
              "    </tr>\n",
              "    <tr>\n",
              "      <th>19588</th>\n",
              "      <td>6f955b0236</td>\n",
              "      <td>- Yeah I know they are **** annoying with tha...</td>\n",
              "      <td>- Yeah I know they are **** annoying with that...</td>\n",
              "      <td>positive</td>\n",
              "      <td>121</td>\n",
              "      <td>- Yeah know * * * * annoying ... , good promo ...</td>\n",
              "      <td>[-, yeah, know, *, *, *, *, annoy, ..., ,, goo...</td>\n",
              "      <td>16</td>\n",
              "    </tr>\n",
              "    <tr>\n",
              "      <th>8085</th>\n",
              "      <td>5da55949f3</td>\n",
              "      <td>I`m bummed...you`re gonna be only 30 minutes ...</td>\n",
              "      <td>I`m bummed.</td>\n",
              "      <td>negative</td>\n",
              "      <td>87</td>\n",
              "      <td>` bummed ... ` gon na 30 minutes Sunday &amp; ` co...</td>\n",
              "      <td>[`, bum, ..., `, gon, na, 30, minut, sunday, &amp;...</td>\n",
              "      <td>15</td>\n",
              "    </tr>\n",
              "    <tr>\n",
              "      <th>21922</th>\n",
              "      <td>832c4aadf3</td>\n",
              "      <td>A sweltering afternoon no wonder the creepy, s...</td>\n",
              "      <td>creepy, slithering snakes are heading to the c...</td>\n",
              "      <td>negative</td>\n",
              "      <td>135</td>\n",
              "      <td>sweltering afternoon wonder creepy , slitherin...</td>\n",
              "      <td>[swelter, afternoon, wonder, creepi, ,, slithe...</td>\n",
              "      <td>17</td>\n",
              "    </tr>\n",
              "    <tr>\n",
              "      <th>10812</th>\n",
              "      <td>bbad99f9e8</td>\n",
              "      <td>POOOOOOOOR SHEEEEP!!!</td>\n",
              "      <td>POOOOOOOOR SHEEEEP!!!</td>\n",
              "      <td>negative</td>\n",
              "      <td>22</td>\n",
              "      <td>POOOOOOOOR SHEEEEP ! ! !</td>\n",
              "      <td>[poooooooor, sheeeep, !, !, !]</td>\n",
              "      <td>5</td>\n",
              "    </tr>\n",
              "    <tr>\n",
              "      <th>267</th>\n",
              "      <td>ba309a37d1</td>\n",
              "      <td>can`t school just be done already? it hurts to...</td>\n",
              "      <td>it hurts too much...</td>\n",
              "      <td>positive</td>\n",
              "      <td>76</td>\n",
              "      <td>` school done already ? hurts much ... seeing ...</td>\n",
              "      <td>[`, school, done, alreadi, ?, hurt, much, ...,...</td>\n",
              "      <td>11</td>\n",
              "    </tr>\n",
              "  </tbody>\n",
              "</table>\n",
              "<p>3238 rows × 8 columns</p>\n",
              "</div>"
            ],
            "text/plain": [
              "           textID                                               text  \\\n",
              "768    49e24a4501      nooooo its raining......had 2 leave the beach   \n",
              "23303  34902d475c  To Lisa: Yes I know who ur talking about and y...   \n",
              "17828  abfb47f0b8  i have nothing to do except right a eassy due ...   \n",
              "8216   cb9aaf07ff   you should see the Morning Rush Forum`s shout...   \n",
              "26762  76d03aa370   so my friends are coming to see you on NYC......   \n",
              "...           ...                                                ...   \n",
              "19588  6f955b0236   - Yeah I know they are **** annoying with tha...   \n",
              "8085   5da55949f3   I`m bummed...you`re gonna be only 30 minutes ...   \n",
              "21922  832c4aadf3  A sweltering afternoon no wonder the creepy, s...   \n",
              "10812  bbad99f9e8                              POOOOOOOOR SHEEEEP!!!   \n",
              "267    ba309a37d1  can`t school just be done already? it hurts to...   \n",
              "\n",
              "                                           selected_text sentiment  text_len  \\\n",
              "768                                 nooooo its raining..  negative        45   \n",
              "23303                                     he is an ****.  negative       133   \n",
              "17828  i have nothing to do except right a eassy due ...  negative        71   \n",
              "8216                                            Overheat  negative        94   \n",
              "26762  .but im on stupid vaca in the stupid cayman is...   neutral       120   \n",
              "...                                                  ...       ...       ...   \n",
              "19588  - Yeah I know they are **** annoying with that...  positive       121   \n",
              "8085                                         I`m bummed.  negative        87   \n",
              "21922  creepy, slithering snakes are heading to the c...  negative       135   \n",
              "10812                              POOOOOOOOR SHEEEEP!!!  negative        22   \n",
              "267                                 it hurts too much...  positive        76   \n",
              "\n",
              "                                          text_tokenized  \\\n",
              "768                  nooooo raining ...... 2 leave beach   \n",
              "23303  Lisa : Yes know ur talking yes * * * * . Dont ...   \n",
              "17828  nothing except right eassy due monday : : [ : ...   \n",
              "8216   see Morning Rush Forum ` shoutbox . Overheat b...   \n",
              "26762  friends coming see NYC ... im stupid vaca stup...   \n",
              "...                                                  ...   \n",
              "19588  - Yeah know * * * * annoying ... , good promo ...   \n",
              "8085   ` bummed ... ` gon na 30 minutes Sunday & ` co...   \n",
              "21922  sweltering afternoon wonder creepy , slitherin...   \n",
              "10812                           POOOOOOOOR SHEEEEP ! ! !   \n",
              "267    ` school done already ? hurts much ... seeing ...   \n",
              "\n",
              "                                        stemed_tokenized  text_len_stem  \n",
              "768               [nooooo, rain, ......, 2, leav, beach]              6  \n",
              "23303  [lisa, :, yes, know, ur, talk, yes, *, *, *, *...             21  \n",
              "17828  [noth, except, right, eassi, due, monday, :, :...             15  \n",
              "8216   [see, morn, rush, forum, `, shoutbox, ., overh...             16  \n",
              "26762  [friend, come, see, nyc, ..., im, stupid, vaca...             16  \n",
              "...                                                  ...            ...  \n",
              "19588  [-, yeah, know, *, *, *, *, annoy, ..., ,, goo...             16  \n",
              "8085   [`, bum, ..., `, gon, na, 30, minut, sunday, &...             15  \n",
              "21922  [swelter, afternoon, wonder, creepi, ,, slithe...             17  \n",
              "10812                     [poooooooor, sheeeep, !, !, !]              5  \n",
              "267    [`, school, done, alreadi, ?, hurt, much, ...,...             11  \n",
              "\n",
              "[3238 rows x 8 columns]"
            ]
          },
          "execution_count": 235,
          "metadata": {},
          "output_type": "execute_result"
        }
      ],
      "source": [
        "df.loc[wrong_pred_tfidf]"
      ]
    },
    {
      "cell_type": "markdown",
      "metadata": {},
      "source": [
        "Шляхи покращення класифікації - можливо деяким словам збільшити вагу, використати беггінг, додати довжину тексту як ще одну фічу"
      ]
    },
    {
      "cell_type": "markdown",
      "metadata": {
        "id": "lFi4VWwjRS3h"
      },
      "source": [
        "І на фінал кернел для натхнення і ознайомлення з рішенням оригінальної задачі. Багато цікавих візуалізацій і аналізу є тут, а також тут розвʼязується саме проблема named entitty recognition і можна ознайомитись як це робиться - вона дещо складніша по своїй суті ніж класифікація, подумайте, чому:\n",
        "\n",
        "https://www.kaggle.com/code/tanulsingh077/twitter-sentiment-extaction-analysis-eda-and-model"
      ]
    }
  ],
  "metadata": {
    "colab": {
      "provenance": []
    },
    "kernelspec": {
      "display_name": "Python 3",
      "name": "python3"
    },
    "language_info": {
      "codemirror_mode": {
        "name": "ipython",
        "version": 3
      },
      "file_extension": ".py",
      "mimetype": "text/x-python",
      "name": "python",
      "nbconvert_exporter": "python",
      "pygments_lexer": "ipython3",
      "version": "3.11.8"
    }
  },
  "nbformat": 4,
  "nbformat_minor": 0
}
