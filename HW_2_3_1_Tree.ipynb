{
  "cells": [
    {
      "cell_type": "markdown",
      "metadata": {
        "id": "8J0vzsqQfZlU"
      },
      "source": [
        "В цьому домашньому завданні ми знову працюємо з даними з нашого змагання [\"Bank Customer Churn Prediction (DLU Course)\"](https://www.kaggle.com/t/7c080c5d8ec64364a93cf4e8f880b6a0).\n",
        "\n",
        "Тут ми побудуємо рішення задачі класифікації з використанням Decision Trees і зробимо новий submission на змагання на Kaggle.\n",
        "\n",
        "В цьому ДЗ ми працюємо без pipelines, бо так буде зручніше для візуалізації і інтерпретації моделі дерева прийняття рішень. Так буває і в робочих проєктах: іноді зручніше використати sklearn.Pipelines, іноді зручніше без них. На етапі пошуку рішення (research) зручніше без пайплайнів, а з пайплайнами - коли ви відлагодили процес обробки даних і хочете поекспериментувати з різними моделями і гіперпараметрами."
      ]
    },
    {
      "cell_type": "markdown",
      "metadata": {
        "id": "NQ2RvQ9G6H_v"
      },
      "source": [
        "**Завдання 1.**\n",
        "\n",
        "У попередньому домашньому завданні, `HW 2.7 Логістична регресія з scikit learn.ipynb`, ми писали обробку даних для змагання. Ваше завдання зараз - за прикладом, наведеним в лекції `Майстер-клас з перенесення коду з jupyter notebook у Python модуль`, перенести попередню обробку сирих даних з вашого розв'язку ДЗ 2.7 у файл `process_bank_churn.py` в функцію `preprocess_data(...)`.\n",
        "\n",
        "Функція `preprocess_data()` має приймати `raw_df` і вертати `X_train`, `train_targets`, `X_val`, `val_targets`, `input_cols`(перелік назв колонок, які Ви використовуєте в X), `scaler`, `encoder`, які ми потім будемо використовувати для тренування дерева прийняття рішень.\n",
        "\n",
        "\n",
        "### Кроки попередньої обробки:\n",
        "\n",
        "1. Обираємо колонки для роботи. В цьому завдання для чистоти експериментів рекомендую прибрати колонку `Surname`, так буде простіше інтрепретувати модель. Ви можете її додати вже за самостійних подальших експериментів.\n",
        "2. Розбиття сирих даних на тренувальні і валідаційні.\n",
        "3. Обробка категоріальних даних (one hot encoding).\n",
        "4. Масштабування числових даних (було частиною попередньої обробки в попередніх завданнях). Для дерев нам не обовʼязково масштабувати ознаки, тож в коді можна зробити цю частину опціональною, додавши в `preprocess_data` параметр `scaler_numeric`, який приймає значення `True` або `False`. Це дозволить використовувати код попередньоъ обробки з різними моделями.\n",
        "\n",
        "\n",
        "### Інструкції:\n",
        "1. Перенесіть попередню обробку даних у файл `process_bank_churn.py`.\n",
        "2. Забезпечте модулярну структуру функцій: кожна функція повинна виконувати лише одну дію, наприклад, масштабувати ознаки.\n",
        "3. Додайте докстрінги до кожної функції.\n",
        "4. Використовуйте typing для аргументів та значень, що повертаються функціями.\n",
        "5. Передбачте обробку нових даних. Додайте спеціальну функцію `preprocess_new_data(...)`, яка приймає на вхід нові дані в вигляді pandas DataFrame та використовує вже навчені скейлер та енкодер (передані теж як аргументи фукнціх) для їх обробки. Ця функція буде корисною для обробки нових даних перед передбаченням або оцінкою моделі, коли оброблятимемо `test.csv`.\n",
        "\n",
        "Можна і рекомендовано виконувати це завдання з ChatGPT (бажано, новіше, ніж 3.5) як було наведено у відео-прикладі, тільки **ваше додаткове завдання - розібратись з кодом, який вам згенерувала мовна модель :)**.\n",
        "\n",
        "## В результаті цього завдання\n",
        "\n",
        "1. Завантажте ваш готовий `process_bank_churn.py` файл на GitHub у свій репозиторій.\n",
        "2. Додайте посилання на файл в репозиторії тут у ноутбуці.\n",
        "3. Нижче зробіть імпорт функції `preprocess_data` з вашого модуля `process_bank_churn.py`.\n",
        "\n"
      ]
    },
    {
      "cell_type": "code",
      "execution_count": 57,
      "metadata": {},
      "outputs": [
        {
          "name": "stdout",
          "output_type": "stream",
          "text": [
            "The autoreload extension is already loaded. To reload it, use:\n",
            "  %reload_ext autoreload\n"
          ]
        }
      ],
      "source": [
        "import pandas as pd\n",
        "from scripts.process_bank_churn import *\n",
        "from sklearn.tree import DecisionTreeClassifier, plot_tree, export_text\n",
        "from sklearn.metrics import roc_auc_score, roc_curve, auc\n",
        "from matplotlib import pyplot as plt\n",
        "%load_ext autoreload\n",
        "%autoreload 2"
      ]
    },
    {
      "cell_type": "code",
      "execution_count": 56,
      "metadata": {
        "id": "gJKP4iL38AEL"
      },
      "outputs": [
        {
          "name": "stdout",
          "output_type": "stream",
          "text": [
            "<class 'pandas.core.frame.DataFrame'>\n",
            "RangeIndex: 15000 entries, 0 to 14999\n",
            "Data columns (total 14 columns):\n",
            " #   Column           Non-Null Count  Dtype  \n",
            "---  ------           --------------  -----  \n",
            " 0   id               15000 non-null  int64  \n",
            " 1   CustomerId       15000 non-null  float64\n",
            " 2   Surname          15000 non-null  object \n",
            " 3   CreditScore      15000 non-null  float64\n",
            " 4   Geography        15000 non-null  object \n",
            " 5   Gender           15000 non-null  object \n",
            " 6   Age              15000 non-null  float64\n",
            " 7   Tenure           15000 non-null  float64\n",
            " 8   Balance          15000 non-null  float64\n",
            " 9   NumOfProducts    15000 non-null  float64\n",
            " 10  HasCrCard        15000 non-null  float64\n",
            " 11  IsActiveMember   15000 non-null  float64\n",
            " 12  EstimatedSalary  15000 non-null  float64\n",
            " 13  Exited           15000 non-null  float64\n",
            "dtypes: float64(10), int64(1), object(3)\n",
            "memory usage: 1.6+ MB\n"
          ]
        },
        {
          "data": {
            "text/html": [
              "<div>\n",
              "<style scoped>\n",
              "    .dataframe tbody tr th:only-of-type {\n",
              "        vertical-align: middle;\n",
              "    }\n",
              "\n",
              "    .dataframe tbody tr th {\n",
              "        vertical-align: top;\n",
              "    }\n",
              "\n",
              "    .dataframe thead th {\n",
              "        text-align: right;\n",
              "    }\n",
              "</style>\n",
              "<table border=\"1\" class=\"dataframe\">\n",
              "  <thead>\n",
              "    <tr style=\"text-align: right;\">\n",
              "      <th></th>\n",
              "      <th>id</th>\n",
              "      <th>CustomerId</th>\n",
              "      <th>Surname</th>\n",
              "      <th>CreditScore</th>\n",
              "      <th>Geography</th>\n",
              "      <th>Gender</th>\n",
              "      <th>Age</th>\n",
              "      <th>Tenure</th>\n",
              "      <th>Balance</th>\n",
              "      <th>NumOfProducts</th>\n",
              "      <th>HasCrCard</th>\n",
              "      <th>IsActiveMember</th>\n",
              "      <th>EstimatedSalary</th>\n",
              "      <th>Exited</th>\n",
              "    </tr>\n",
              "  </thead>\n",
              "  <tbody>\n",
              "    <tr>\n",
              "      <th>0</th>\n",
              "      <td>0</td>\n",
              "      <td>15779985.0</td>\n",
              "      <td>Nwankwo</td>\n",
              "      <td>678.0</td>\n",
              "      <td>France</td>\n",
              "      <td>Male</td>\n",
              "      <td>29.0</td>\n",
              "      <td>4.0</td>\n",
              "      <td>0.00</td>\n",
              "      <td>3.0</td>\n",
              "      <td>1.0</td>\n",
              "      <td>0.0</td>\n",
              "      <td>180626.36</td>\n",
              "      <td>0.0</td>\n",
              "    </tr>\n",
              "    <tr>\n",
              "      <th>1</th>\n",
              "      <td>1</td>\n",
              "      <td>15650086.0</td>\n",
              "      <td>Ch'in</td>\n",
              "      <td>687.0</td>\n",
              "      <td>France</td>\n",
              "      <td>Female</td>\n",
              "      <td>34.0</td>\n",
              "      <td>1.0</td>\n",
              "      <td>0.00</td>\n",
              "      <td>2.0</td>\n",
              "      <td>0.0</td>\n",
              "      <td>1.0</td>\n",
              "      <td>63736.17</td>\n",
              "      <td>0.0</td>\n",
              "    </tr>\n",
              "    <tr>\n",
              "      <th>2</th>\n",
              "      <td>2</td>\n",
              "      <td>15733602.0</td>\n",
              "      <td>Thompson</td>\n",
              "      <td>682.0</td>\n",
              "      <td>France</td>\n",
              "      <td>Female</td>\n",
              "      <td>52.0</td>\n",
              "      <td>6.0</td>\n",
              "      <td>0.00</td>\n",
              "      <td>3.0</td>\n",
              "      <td>0.0</td>\n",
              "      <td>0.0</td>\n",
              "      <td>179655.87</td>\n",
              "      <td>1.0</td>\n",
              "    </tr>\n",
              "    <tr>\n",
              "      <th>3</th>\n",
              "      <td>3</td>\n",
              "      <td>15645794.0</td>\n",
              "      <td>Macleod</td>\n",
              "      <td>753.0</td>\n",
              "      <td>Germany</td>\n",
              "      <td>Male</td>\n",
              "      <td>44.0</td>\n",
              "      <td>6.0</td>\n",
              "      <td>83347.25</td>\n",
              "      <td>2.0</td>\n",
              "      <td>1.0</td>\n",
              "      <td>0.0</td>\n",
              "      <td>161407.48</td>\n",
              "      <td>0.0</td>\n",
              "    </tr>\n",
              "    <tr>\n",
              "      <th>4</th>\n",
              "      <td>4</td>\n",
              "      <td>15633840.0</td>\n",
              "      <td>Hsia</td>\n",
              "      <td>544.0</td>\n",
              "      <td>Germany</td>\n",
              "      <td>Female</td>\n",
              "      <td>55.0</td>\n",
              "      <td>0.0</td>\n",
              "      <td>107747.57</td>\n",
              "      <td>1.0</td>\n",
              "      <td>1.0</td>\n",
              "      <td>0.0</td>\n",
              "      <td>176580.86</td>\n",
              "      <td>1.0</td>\n",
              "    </tr>\n",
              "  </tbody>\n",
              "</table>\n",
              "</div>"
            ],
            "text/plain": [
              "   id  CustomerId   Surname  CreditScore Geography  Gender   Age  Tenure  \\\n",
              "0   0  15779985.0   Nwankwo        678.0    France    Male  29.0     4.0   \n",
              "1   1  15650086.0     Ch'in        687.0    France  Female  34.0     1.0   \n",
              "2   2  15733602.0  Thompson        682.0    France  Female  52.0     6.0   \n",
              "3   3  15645794.0   Macleod        753.0   Germany    Male  44.0     6.0   \n",
              "4   4  15633840.0      Hsia        544.0   Germany  Female  55.0     0.0   \n",
              "\n",
              "     Balance  NumOfProducts  HasCrCard  IsActiveMember  EstimatedSalary  \\\n",
              "0       0.00            3.0        1.0             0.0        180626.36   \n",
              "1       0.00            2.0        0.0             1.0         63736.17   \n",
              "2       0.00            3.0        0.0             0.0        179655.87   \n",
              "3   83347.25            2.0        1.0             0.0        161407.48   \n",
              "4  107747.57            1.0        1.0             0.0        176580.86   \n",
              "\n",
              "   Exited  \n",
              "0     0.0  \n",
              "1     0.0  \n",
              "2     1.0  \n",
              "3     0.0  \n",
              "4     1.0  "
            ]
          },
          "execution_count": 56,
          "metadata": {},
          "output_type": "execute_result"
        }
      ],
      "source": [
        "df = pd.read_csv('data/bank-customer-churn-prediction-dlu/train.csv')\n",
        "df.info()\n",
        "df.head()"
      ]
    },
    {
      "cell_type": "code",
      "execution_count": 55,
      "metadata": {},
      "outputs": [
        {
          "data": {
            "text/html": [
              "<div>\n",
              "<style scoped>\n",
              "    .dataframe tbody tr th:only-of-type {\n",
              "        vertical-align: middle;\n",
              "    }\n",
              "\n",
              "    .dataframe tbody tr th {\n",
              "        vertical-align: top;\n",
              "    }\n",
              "\n",
              "    .dataframe thead th {\n",
              "        text-align: right;\n",
              "    }\n",
              "</style>\n",
              "<table border=\"1\" class=\"dataframe\">\n",
              "  <thead>\n",
              "    <tr style=\"text-align: right;\">\n",
              "      <th></th>\n",
              "      <th>id</th>\n",
              "      <th>CustomerId</th>\n",
              "      <th>Surname</th>\n",
              "      <th>CreditScore</th>\n",
              "      <th>Geography</th>\n",
              "      <th>Gender</th>\n",
              "      <th>Age</th>\n",
              "      <th>Tenure</th>\n",
              "      <th>Balance</th>\n",
              "      <th>NumOfProducts</th>\n",
              "      <th>HasCrCard</th>\n",
              "      <th>IsActiveMember</th>\n",
              "      <th>EstimatedSalary</th>\n",
              "      <th>Geography_France</th>\n",
              "      <th>Geography_Germany</th>\n",
              "      <th>Geography_Spain</th>\n",
              "      <th>Gender_Female</th>\n",
              "      <th>Gender_Male</th>\n",
              "    </tr>\n",
              "  </thead>\n",
              "  <tbody>\n",
              "    <tr>\n",
              "      <th>0</th>\n",
              "      <td>15000</td>\n",
              "      <td>15594796.0</td>\n",
              "      <td>Chu</td>\n",
              "      <td>0.365155</td>\n",
              "      <td>Germany</td>\n",
              "      <td>Male</td>\n",
              "      <td>0.214286</td>\n",
              "      <td>2.0</td>\n",
              "      <td>0.696265</td>\n",
              "      <td>1.0</td>\n",
              "      <td>1.0</td>\n",
              "      <td>1.0</td>\n",
              "      <td>0.789477</td>\n",
              "      <td>0.0</td>\n",
              "      <td>1.0</td>\n",
              "      <td>0.0</td>\n",
              "      <td>0.0</td>\n",
              "      <td>1.0</td>\n",
              "    </tr>\n",
              "    <tr>\n",
              "      <th>1</th>\n",
              "      <td>15001</td>\n",
              "      <td>15642821.0</td>\n",
              "      <td>Mazzi</td>\n",
              "      <td>0.286396</td>\n",
              "      <td>France</td>\n",
              "      <td>Male</td>\n",
              "      <td>0.375000</td>\n",
              "      <td>5.0</td>\n",
              "      <td>0.000000</td>\n",
              "      <td>2.0</td>\n",
              "      <td>1.0</td>\n",
              "      <td>1.0</td>\n",
              "      <td>0.337131</td>\n",
              "      <td>1.0</td>\n",
              "      <td>0.0</td>\n",
              "      <td>0.0</td>\n",
              "      <td>0.0</td>\n",
              "      <td>1.0</td>\n",
              "    </tr>\n",
              "    <tr>\n",
              "      <th>2</th>\n",
              "      <td>15002</td>\n",
              "      <td>15716284.0</td>\n",
              "      <td>Onyekachi</td>\n",
              "      <td>0.656325</td>\n",
              "      <td>France</td>\n",
              "      <td>Male</td>\n",
              "      <td>0.446429</td>\n",
              "      <td>8.0</td>\n",
              "      <td>0.000000</td>\n",
              "      <td>2.0</td>\n",
              "      <td>1.0</td>\n",
              "      <td>0.0</td>\n",
              "      <td>0.783859</td>\n",
              "      <td>1.0</td>\n",
              "      <td>0.0</td>\n",
              "      <td>0.0</td>\n",
              "      <td>0.0</td>\n",
              "      <td>1.0</td>\n",
              "    </tr>\n",
              "    <tr>\n",
              "      <th>3</th>\n",
              "      <td>15003</td>\n",
              "      <td>15785078.0</td>\n",
              "      <td>Martin</td>\n",
              "      <td>0.682578</td>\n",
              "      <td>Spain</td>\n",
              "      <td>Male</td>\n",
              "      <td>0.482143</td>\n",
              "      <td>3.0</td>\n",
              "      <td>0.000000</td>\n",
              "      <td>1.0</td>\n",
              "      <td>1.0</td>\n",
              "      <td>1.0</td>\n",
              "      <td>0.834571</td>\n",
              "      <td>0.0</td>\n",
              "      <td>0.0</td>\n",
              "      <td>1.0</td>\n",
              "      <td>0.0</td>\n",
              "      <td>1.0</td>\n",
              "    </tr>\n",
              "    <tr>\n",
              "      <th>4</th>\n",
              "      <td>15004</td>\n",
              "      <td>15662955.0</td>\n",
              "      <td>Kenechukwu</td>\n",
              "      <td>0.384248</td>\n",
              "      <td>Spain</td>\n",
              "      <td>Male</td>\n",
              "      <td>0.446429</td>\n",
              "      <td>8.0</td>\n",
              "      <td>0.000000</td>\n",
              "      <td>2.0</td>\n",
              "      <td>1.0</td>\n",
              "      <td>1.0</td>\n",
              "      <td>0.718421</td>\n",
              "      <td>0.0</td>\n",
              "      <td>0.0</td>\n",
              "      <td>1.0</td>\n",
              "      <td>0.0</td>\n",
              "      <td>1.0</td>\n",
              "    </tr>\n",
              "    <tr>\n",
              "      <th>...</th>\n",
              "      <td>...</td>\n",
              "      <td>...</td>\n",
              "      <td>...</td>\n",
              "      <td>...</td>\n",
              "      <td>...</td>\n",
              "      <td>...</td>\n",
              "      <td>...</td>\n",
              "      <td>...</td>\n",
              "      <td>...</td>\n",
              "      <td>...</td>\n",
              "      <td>...</td>\n",
              "      <td>...</td>\n",
              "      <td>...</td>\n",
              "      <td>...</td>\n",
              "      <td>...</td>\n",
              "      <td>...</td>\n",
              "      <td>...</td>\n",
              "      <td>...</td>\n",
              "    </tr>\n",
              "    <tr>\n",
              "      <th>9995</th>\n",
              "      <td>24995</td>\n",
              "      <td>15642997.0</td>\n",
              "      <td>Chukwumaobim</td>\n",
              "      <td>0.496420</td>\n",
              "      <td>Spain</td>\n",
              "      <td>Male</td>\n",
              "      <td>0.357143</td>\n",
              "      <td>10.0</td>\n",
              "      <td>0.000000</td>\n",
              "      <td>2.0</td>\n",
              "      <td>1.0</td>\n",
              "      <td>1.0</td>\n",
              "      <td>0.248154</td>\n",
              "      <td>0.0</td>\n",
              "      <td>0.0</td>\n",
              "      <td>1.0</td>\n",
              "      <td>0.0</td>\n",
              "      <td>1.0</td>\n",
              "    </tr>\n",
              "    <tr>\n",
              "      <th>9996</th>\n",
              "      <td>24996</td>\n",
              "      <td>15739271.0</td>\n",
              "      <td>Clements</td>\n",
              "      <td>0.589499</td>\n",
              "      <td>Spain</td>\n",
              "      <td>Male</td>\n",
              "      <td>0.375000</td>\n",
              "      <td>9.0</td>\n",
              "      <td>0.000000</td>\n",
              "      <td>2.0</td>\n",
              "      <td>1.0</td>\n",
              "      <td>1.0</td>\n",
              "      <td>0.712578</td>\n",
              "      <td>0.0</td>\n",
              "      <td>0.0</td>\n",
              "      <td>1.0</td>\n",
              "      <td>0.0</td>\n",
              "      <td>1.0</td>\n",
              "    </tr>\n",
              "    <tr>\n",
              "      <th>9997</th>\n",
              "      <td>24997</td>\n",
              "      <td>15756743.0</td>\n",
              "      <td>Chidiebere</td>\n",
              "      <td>0.818616</td>\n",
              "      <td>France</td>\n",
              "      <td>Male</td>\n",
              "      <td>0.214286</td>\n",
              "      <td>9.0</td>\n",
              "      <td>0.000000</td>\n",
              "      <td>2.0</td>\n",
              "      <td>1.0</td>\n",
              "      <td>0.0</td>\n",
              "      <td>0.024253</td>\n",
              "      <td>1.0</td>\n",
              "      <td>0.0</td>\n",
              "      <td>0.0</td>\n",
              "      <td>0.0</td>\n",
              "      <td>1.0</td>\n",
              "    </tr>\n",
              "    <tr>\n",
              "      <th>9998</th>\n",
              "      <td>24998</td>\n",
              "      <td>15680167.0</td>\n",
              "      <td>Yermakova</td>\n",
              "      <td>0.391408</td>\n",
              "      <td>France</td>\n",
              "      <td>Male</td>\n",
              "      <td>0.357143</td>\n",
              "      <td>6.0</td>\n",
              "      <td>0.690650</td>\n",
              "      <td>1.0</td>\n",
              "      <td>1.0</td>\n",
              "      <td>0.0</td>\n",
              "      <td>0.632348</td>\n",
              "      <td>1.0</td>\n",
              "      <td>0.0</td>\n",
              "      <td>0.0</td>\n",
              "      <td>0.0</td>\n",
              "      <td>1.0</td>\n",
              "    </tr>\n",
              "    <tr>\n",
              "      <th>9999</th>\n",
              "      <td>24999</td>\n",
              "      <td>15662901.0</td>\n",
              "      <td>Ting</td>\n",
              "      <td>0.546539</td>\n",
              "      <td>France</td>\n",
              "      <td>Male</td>\n",
              "      <td>0.214286</td>\n",
              "      <td>3.0</td>\n",
              "      <td>0.000000</td>\n",
              "      <td>1.0</td>\n",
              "      <td>1.0</td>\n",
              "      <td>0.0</td>\n",
              "      <td>0.528917</td>\n",
              "      <td>1.0</td>\n",
              "      <td>0.0</td>\n",
              "      <td>0.0</td>\n",
              "      <td>0.0</td>\n",
              "      <td>1.0</td>\n",
              "    </tr>\n",
              "  </tbody>\n",
              "</table>\n",
              "<p>10000 rows × 18 columns</p>\n",
              "</div>"
            ],
            "text/plain": [
              "         id  CustomerId       Surname  CreditScore Geography Gender       Age  \\\n",
              "0     15000  15594796.0           Chu     0.365155   Germany   Male  0.214286   \n",
              "1     15001  15642821.0         Mazzi     0.286396    France   Male  0.375000   \n",
              "2     15002  15716284.0     Onyekachi     0.656325    France   Male  0.446429   \n",
              "3     15003  15785078.0        Martin     0.682578     Spain   Male  0.482143   \n",
              "4     15004  15662955.0    Kenechukwu     0.384248     Spain   Male  0.446429   \n",
              "...     ...         ...           ...          ...       ...    ...       ...   \n",
              "9995  24995  15642997.0  Chukwumaobim     0.496420     Spain   Male  0.357143   \n",
              "9996  24996  15739271.0      Clements     0.589499     Spain   Male  0.375000   \n",
              "9997  24997  15756743.0    Chidiebere     0.818616    France   Male  0.214286   \n",
              "9998  24998  15680167.0     Yermakova     0.391408    France   Male  0.357143   \n",
              "9999  24999  15662901.0          Ting     0.546539    France   Male  0.214286   \n",
              "\n",
              "      Tenure   Balance  NumOfProducts  HasCrCard  IsActiveMember  \\\n",
              "0        2.0  0.696265            1.0        1.0             1.0   \n",
              "1        5.0  0.000000            2.0        1.0             1.0   \n",
              "2        8.0  0.000000            2.0        1.0             0.0   \n",
              "3        3.0  0.000000            1.0        1.0             1.0   \n",
              "4        8.0  0.000000            2.0        1.0             1.0   \n",
              "...      ...       ...            ...        ...             ...   \n",
              "9995    10.0  0.000000            2.0        1.0             1.0   \n",
              "9996     9.0  0.000000            2.0        1.0             1.0   \n",
              "9997     9.0  0.000000            2.0        1.0             0.0   \n",
              "9998     6.0  0.690650            1.0        1.0             0.0   \n",
              "9999     3.0  0.000000            1.0        1.0             0.0   \n",
              "\n",
              "      EstimatedSalary  Geography_France  Geography_Germany  Geography_Spain  \\\n",
              "0            0.789477               0.0                1.0              0.0   \n",
              "1            0.337131               1.0                0.0              0.0   \n",
              "2            0.783859               1.0                0.0              0.0   \n",
              "3            0.834571               0.0                0.0              1.0   \n",
              "4            0.718421               0.0                0.0              1.0   \n",
              "...               ...               ...                ...              ...   \n",
              "9995         0.248154               0.0                0.0              1.0   \n",
              "9996         0.712578               0.0                0.0              1.0   \n",
              "9997         0.024253               1.0                0.0              0.0   \n",
              "9998         0.632348               1.0                0.0              0.0   \n",
              "9999         0.528917               1.0                0.0              0.0   \n",
              "\n",
              "      Gender_Female  Gender_Male  \n",
              "0               0.0          1.0  \n",
              "1               0.0          1.0  \n",
              "2               0.0          1.0  \n",
              "3               0.0          1.0  \n",
              "4               0.0          1.0  \n",
              "...             ...          ...  \n",
              "9995            0.0          1.0  \n",
              "9996            0.0          1.0  \n",
              "9997            0.0          1.0  \n",
              "9998            0.0          1.0  \n",
              "9999            0.0          1.0  \n",
              "\n",
              "[10000 rows x 18 columns]"
            ]
          },
          "execution_count": 55,
          "metadata": {},
          "output_type": "execute_result"
        }
      ],
      "source": [
        "df"
      ]
    },
    {
      "cell_type": "code",
      "execution_count": 59,
      "metadata": {},
      "outputs": [],
      "source": [
        "data_dict = preprocess_data(df)"
      ]
    },
    {
      "cell_type": "markdown",
      "metadata": {
        "id": "B4YZMqOqaAH1"
      },
      "source": [
        "**Завдання 2.**\n",
        "1. Натренуйте дерево прийняття рішень з зафіксованим `random_state` і з рештою аргументів за замовченням.\n",
        "2. Виведіть area under ROC для моделі на тренувальних і тестувальних даних. Нам потрібна ця метрика, бо вона основна в змаганні. Модель ок, чи є пере- або недотренування?\n",
        "3. Виведіть глибину дерева.\n",
        "4. Побудуйте дерево до глибини 2 включно. Напишіть, які ознаки бачите, що є найвпливовішими тут?\n",
        "5. Створіть датафрейм `importance_df` з feature importances, де в першому стовпчику `feature` - назва ознаки з нашого Х, а в другому `importance` - значення, наскільки ця ознака є важливою в побудованій моделі. Виведіть топ 10 найвпливовіших ознак разом з їх скором важливості (можна або у вигляді таблиці, або в вигляді barplot)."
      ]
    },
    {
      "cell_type": "code",
      "execution_count": 5,
      "metadata": {
        "id": "v2U2dJIaF_W4"
      },
      "outputs": [],
      "source": [
        "def trainModel(data_dict: dict, max_leaf_nodes = None, max_depth = None):\n",
        "    model = DecisionTreeClassifier(random_state = 42, max_depth = max_depth, max_leaf_nodes = max_leaf_nodes)\n",
        "    inputs_train = data_dict['inputs_train']\n",
        "    inputs_val = data_dict['inputs_val']\n",
        "    targets_train = data_dict['targets_train']\n",
        "    targets_val = data_dict['targets_val']\n",
        "\n",
        "    model.fit(inputs_train, targets_train)\n",
        "    train_pred = model.predict(inputs_train)\n",
        "    train_score = roc_auc_score(targets_train['Exited'], train_pred)\n",
        "\n",
        "    val_pred = model.predict(inputs_val)\n",
        "    val_score = roc_auc_score(targets_val['Exited'], val_pred)\n",
        "\n",
        "    #print(\"Max Depth {} Max Leaf nodes {} Train score id {} and validation score is {}\".format(max_depth, max_leaf_nodes, train_score, val_score))\n",
        "    return model, train_score, val_score"
      ]
    },
    {
      "cell_type": "code",
      "execution_count": 60,
      "metadata": {},
      "outputs": [
        {
          "name": "stdout",
          "output_type": "stream",
          "text": [
            "Глибина дерева 24\n"
          ]
        }
      ],
      "source": [
        "modelData = trainModel(data_dict)\n",
        "model = modelData[0]\n",
        "print(\"Глибина дерева {}\".format(model.tree_.max_depth))"
      ]
    },
    {
      "cell_type": "markdown",
      "metadata": {},
      "source": [
        "З параметрами по замовчуванню бачимо перенавчання"
      ]
    },
    {
      "cell_type": "code",
      "execution_count": 33,
      "metadata": {},
      "outputs": [
        {
          "data": {
            "text/plain": [
              "[Text(0.5, 0.8333333333333334, 'x[3] <= 0.455\\ngini = 0.324\\nsamples = 13500\\nvalue = [10753, 2747]'),\n",
              " Text(0.25, 0.5, 'x[6] <= 1.5\\ngini = 0.187\\nsamples = 10834\\nvalue = [9702, 1132]'),\n",
              " Text(0.125, 0.16666666666666666, 'gini = 0.342\\nsamples = 4108\\nvalue = [3209, 899]'),\n",
              " Text(0.375, 0.16666666666666666, 'gini = 0.067\\nsamples = 6726\\nvalue = [6493, 233]'),\n",
              " Text(0.75, 0.5, 'x[6] <= 1.5\\ngini = 0.478\\nsamples = 2666\\nvalue = [1051, 1615]'),\n",
              " Text(0.625, 0.16666666666666666, 'gini = 0.343\\nsamples = 1665\\nvalue = [366, 1299]'),\n",
              " Text(0.875, 0.16666666666666666, 'gini = 0.432\\nsamples = 1001\\nvalue = [685, 316]')]"
            ]
          },
          "execution_count": 33,
          "metadata": {},
          "output_type": "execute_result"
        },
        {
          "data": {
            "image/png": "[encoded data removed]",
            "text/plain": [
              "<Figure size 640x480 with 1 Axes>"
            ]
          },
          "metadata": {},
          "output_type": "display_data"
        }
      ],
      "source": [
        "model_2_depth_data = trainModel(data_dict, None, 2)\n",
        "model_2_depth = model_2_depth_data[0]\n",
        "plot_tree(model_2_depth)"
      ]
    },
    {
      "cell_type": "code",
      "execution_count": 34,
      "metadata": {},
      "outputs": [],
      "source": [
        "importance_df = pd.DataFrame({\n",
        "    'feature': data_dict['inputs_train'].columns,\n",
        "    'importance': model_2_depth.feature_importances_\n",
        "}).sort_values('importance', ascending=False)"
      ]
    },
    {
      "cell_type": "code",
      "execution_count": 36,
      "metadata": {},
      "outputs": [
        {
          "data": {
            "text/html": [
              "<div>\n",
              "<style scoped>\n",
              "    .dataframe tbody tr th:only-of-type {\n",
              "        vertical-align: middle;\n",
              "    }\n",
              "\n",
              "    .dataframe tbody tr th {\n",
              "        vertical-align: top;\n",
              "    }\n",
              "\n",
              "    .dataframe thead th {\n",
              "        text-align: right;\n",
              "    }\n",
              "</style>\n",
              "<table border=\"1\" class=\"dataframe\">\n",
              "  <thead>\n",
              "    <tr style=\"text-align: right;\">\n",
              "      <th></th>\n",
              "      <th>feature</th>\n",
              "      <th>importance</th>\n",
              "    </tr>\n",
              "  </thead>\n",
              "  <tbody>\n",
              "    <tr>\n",
              "      <th>3</th>\n",
              "      <td>Age</td>\n",
              "      <td>0.708305</td>\n",
              "    </tr>\n",
              "    <tr>\n",
              "      <th>6</th>\n",
              "      <td>NumOfProducts</td>\n",
              "      <td>0.291695</td>\n",
              "    </tr>\n",
              "    <tr>\n",
              "      <th>0</th>\n",
              "      <td>id</td>\n",
              "      <td>0.000000</td>\n",
              "    </tr>\n",
              "    <tr>\n",
              "      <th>1</th>\n",
              "      <td>CustomerId</td>\n",
              "      <td>0.000000</td>\n",
              "    </tr>\n",
              "    <tr>\n",
              "      <th>2</th>\n",
              "      <td>CreditScore</td>\n",
              "      <td>0.000000</td>\n",
              "    </tr>\n",
              "    <tr>\n",
              "      <th>4</th>\n",
              "      <td>Tenure</td>\n",
              "      <td>0.000000</td>\n",
              "    </tr>\n",
              "    <tr>\n",
              "      <th>5</th>\n",
              "      <td>Balance</td>\n",
              "      <td>0.000000</td>\n",
              "    </tr>\n",
              "    <tr>\n",
              "      <th>7</th>\n",
              "      <td>HasCrCard</td>\n",
              "      <td>0.000000</td>\n",
              "    </tr>\n",
              "    <tr>\n",
              "      <th>8</th>\n",
              "      <td>IsActiveMember</td>\n",
              "      <td>0.000000</td>\n",
              "    </tr>\n",
              "    <tr>\n",
              "      <th>9</th>\n",
              "      <td>EstimatedSalary</td>\n",
              "      <td>0.000000</td>\n",
              "    </tr>\n",
              "  </tbody>\n",
              "</table>\n",
              "</div>"
            ],
            "text/plain": [
              "           feature  importance\n",
              "3              Age    0.708305\n",
              "6    NumOfProducts    0.291695\n",
              "0               id    0.000000\n",
              "1       CustomerId    0.000000\n",
              "2      CreditScore    0.000000\n",
              "4           Tenure    0.000000\n",
              "5          Balance    0.000000\n",
              "7        HasCrCard    0.000000\n",
              "8   IsActiveMember    0.000000\n",
              "9  EstimatedSalary    0.000000"
            ]
          },
          "execution_count": 36,
          "metadata": {},
          "output_type": "execute_result"
        }
      ],
      "source": [
        "importance_df.head(10)"
      ]
    },
    {
      "cell_type": "markdown",
      "metadata": {},
      "source": [
        "Бачимо, що найвпливовішими ознаками є вік та кількість продуктів в користуванні"
      ]
    },
    {
      "cell_type": "markdown",
      "metadata": {
        "id": "F-qp7eROd2MF"
      },
      "source": [
        "**Завдання 3**. Спробуйте знайти такі параметри моделі `DecisionTree` аби модель генералізувала ліпше (був вищий показник AUROC на валідаційній вибірці). Проекспериментуйте з різними значеннями параметрів `max_leaf_nodes`, `max_depth` та лишіть ті, які дають найкращий результат, разом з відповідними AUROC на тренувальній і валідаційній вибірках.\n",
        "\n",
        "В цьому завданні спробуйте просто знайти параметри методом \"тика\" :)"
      ]
    },
    {
      "cell_type": "markdown",
      "metadata": {
        "id": "z4PK69GAGCsc"
      },
      "source": [
        "Я одразу тут почала писати цикл, випадково перейшовши до наступного пункту))"
      ]
    },
    {
      "cell_type": "markdown",
      "metadata": {
        "id": "F-g1OXxofYqC"
      },
      "source": [
        "**Завдання 4**. В циклі пройдіться по значенням max_depth від 1 до 20 включно, на кожній ітерації натренуйте DecisionTree модель і виміряйте AUROC на трейн і валідаційних даних.\n",
        "\n",
        "В кінці виведіть на графік залеєність між AUROC на трейн і валідаційних даних і номером ітерації."
      ]
    },
    {
      "cell_type": "code",
      "execution_count": 8,
      "metadata": {
        "id": "R6RVg0TvGDu1"
      },
      "outputs": [
        {
          "name": "stdout",
          "output_type": "stream",
          "text": [
            "0.7998010838 16 6 0.8145924076\n"
          ]
        }
      ],
      "source": [
        "max_val_score = 0;\n",
        "max_val_level_leafs = 0;\n",
        "max_val_level_depth = 0;\n",
        "train_score_for_val = 0;\n",
        "for l in range(2, 20):\n",
        "    for lc in range(2, 20):\n",
        "        result = trainModel(data_dict, l, lc)\n",
        "        train_score = round(result[1], 10)\n",
        "        val_score = round(result[2], 10)\n",
        "        if val_score > max_val_score:\n",
        "            max_val_score = val_score\n",
        "            max_val_level_leafs = l;\n",
        "            max_val_level_depth = lc;\n",
        "            train_score_for_val = train_score\n",
        "print(max_val_score,max_val_level_leafs, max_val_level_depth, train_score_for_val)\n"
      ]
    },
    {
      "cell_type": "markdown",
      "metadata": {},
      "source": [
        "Найкращі результати при максимальній глибині 6 і макс кількості листків 16"
      ]
    },
    {
      "cell_type": "code",
      "execution_count": 9,
      "metadata": {},
      "outputs": [
        {
          "data": {
            "text/plain": [
              "Text(0, 0.5, 'Score')"
            ]
          },
          "execution_count": 9,
          "metadata": {},
          "output_type": "execute_result"
        },
        {
          "data": {
            "image/png": "[encoded data removed]",
            "text/plain": [
              "<Figure size 640x480 with 1 Axes>"
            ]
          },
          "metadata": {},
          "output_type": "display_data"
        }
      ],
      "source": [
        "iterations = list(range(2, 20))\n",
        "scores = []\n",
        "for i in iterations:\n",
        "    result = trainModel(data_dict, None, i)\n",
        "    scores.append(round(result[2], 10))\n",
        "plt.plot(iterations, scores, marker = 'o', linestyle='-', color = 'b')\n",
        "plt.xlabel('Iteration')\n",
        "plt.xticks(iterations)\n",
        "plt.ylabel('Score')"
      ]
    },
    {
      "cell_type": "markdown",
      "metadata": {
        "id": "3cpULQtgiC5T"
      },
      "source": [
        "**Завдання 5**.\n",
        "1. Натренуйте модель `DecisionTree` з найкращим значенням `max_depth`, яке ви знайшли на попередній ітерації.\n",
        "2. Завантажте тестові дані змагання з `test.csv`.\n",
        "3. Зробіть попередню обробку даних з функцією `preprocess_new_data` з вашого модуля `process_bank_churn.py`.\n",
        "4. Зробіть передбачення використовуючи цю модель на тестових даних змагання.\n",
        "5. Сформуйте `submission.csv`.\n",
        "6. Зробіть новий Submission на Kaggle і додайте тут скріншот Вашого скору на паблік лідерборді :)\n"
      ]
    },
    {
      "cell_type": "code",
      "execution_count": 61,
      "metadata": {
        "id": "ht6fOjbQGH2D"
      },
      "outputs": [],
      "source": [
        "modelData = trainModel(data_dict, 16, 6)\n",
        "model = modelData[0]"
      ]
    },
    {
      "cell_type": "code",
      "execution_count": 68,
      "metadata": {},
      "outputs": [],
      "source": [
        "df = pd.read_csv('data/bank-customer-churn-prediction-dlu/test.csv')"
      ]
    },
    {
      "cell_type": "code",
      "execution_count": 48,
      "metadata": {},
      "outputs": [],
      "source": [
        "number_cols = data_dict['number_cols']\n",
        "number_cols_to_scale = data_dict['number_cols_to_scale']\n",
        "categorical_cols = data_dict['categorical_cols']\n",
        "scalerObj = data_dict['scalerObj']\n",
        "encoderObj = data_dict['encoderObj']"
      ]
    },
    {
      "cell_type": "code",
      "execution_count": 63,
      "metadata": {},
      "outputs": [],
      "source": [
        "test_df = preprocess_new_data(df, scalerObj, encoderObj, number_cols, number_cols_to_scale, categorical_cols)"
      ]
    },
    {
      "cell_type": "code",
      "execution_count": 50,
      "metadata": {},
      "outputs": [],
      "source": [
        "result = model.predict_proba(test_df)\n",
        "predicted = result[:,1].round(2)"
      ]
    },
    {
      "cell_type": "code",
      "execution_count": 51,
      "metadata": {},
      "outputs": [],
      "source": [
        "submission = pd.DataFrame({\n",
        "    'id':df['id'],\n",
        "    'Exited':predicted\n",
        "})\n",
        "submission.to_csv(\"data/bank-customer-churn-prediction-dlu/submission_tree.csv\",index=False)"
      ]
    },
    {
      "cell_type": "markdown",
      "metadata": {},
      "source": [
        "![alt text](image.png)"
      ]
    },
    {
      "attachments": {
        "image.png": {
          "image/png": "[encoded data removed]"
        }
      },
      "cell_type": "markdown",
      "metadata": {},
      "source": [
        "Проте це результат логістичної регресії, в деревах в мене результат \n",
        "![image.png](attachment:image.png)"
      ]
    },
    {
      "cell_type": "markdown",
      "metadata": {},
      "source": []
    }
  ],
  "metadata": {
    "colab": {
      "provenance": []
    },
    "kernelspec": {
      "display_name": "Python 3",
      "name": "python3"
    },
    "language_info": {
      "codemirror_mode": {
        "name": "ipython",
        "version": 3
      },
      "file_extension": ".py",
      "mimetype": "text/x-python",
      "name": "python",
      "nbconvert_exporter": "python",
      "pygments_lexer": "ipython3",
      "version": "3.11.7"
    }
  },
  "nbformat": 4,
  "nbformat_minor": 0
}
