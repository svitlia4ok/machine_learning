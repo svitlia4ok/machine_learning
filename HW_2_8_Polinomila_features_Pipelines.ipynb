{
  "cells": [
    {
      "cell_type": "markdown",
      "metadata": {
        "id": "gJ2A6t3mdEed"
      },
      "source": [
        "В цьому домашньому завданні ми проведемо додаткові експерименти для рішення задачі бінарної класифікації і створимо ваш новий submission на змагання на Kaggle.\n",
        "\n",
        "-----------\n",
        "\n",
        "\n",
        "**Завдання 0**. Завантажте дані `train.csv`, `test.csv`, `sample_submission.csv` зі змагання на Kaggle [\"Bank Customer Churn Prediction (DLU Course)\"](https://www.kaggle.com/t/7c080c5d8ec64364a93cf4e8f880b6a0). Для завантаження потрібно долучитись до змагання (натиснути кнопку \"Join\").\n",
        "\n",
        "**Завдання 1**. **Збираємо весь код з попереднього ДЗ в одному місці.** В лекційному ноутбуці `Логістична регресія з ScikitLearn. Повна ML задача.ipynb` ми познайомились з поняттям пайплайнів, а також я показала, як компактно виглядає рішення МЛ задачі, якщо ми зберемо весь код разом.\n",
        "\n",
        "Оскільки ми далі будемо робити експерименти, які включають ті самі етапи попередньої обробки, але інше моделювання - буде зручно мати весь код компактно і під рукою. Тому зараз ми займемось збором коду до купи :) Після цього завдання для подальших експериментів ви можете перенести частини розвʼязку взагалі в окремий `.py` файл, аби було зручно імпортувати функції.\n",
        "\n",
        "Зі свого рішення в попередньому домашньому завданні (`Логістична регресія з scikit learn.ipynb`) зберіть усі кроки розвʼязку задачі разом з використанням `sklearn.Pipeline` за прикладом з лекції.\n",
        "\n",
        "Ваш код нижче має містити\n",
        "1. Читання даних з файлу (поза пайплайном).\n",
        "2. Розбиття на тренувальний і валідаційний набори, де валідаційний містить 20% даних (поза пайплайном).\n",
        "3. Виділення категоріальних і числових колонок (поза пайплайном).\n",
        "4. Підготовку категоріальних і числових колонок (частина пайплайну). В прикладі в лекції ми оформлювали обробку числових і категоріальних колонок в окремі трансформери `numeric_transformer`, `categorical_cols`. Рекоемндую зробити саме так, так потім зручніше вносити зміни :)\n",
        "5. Тренування лог регресії (частина пайплайну).\n",
        "6. Запуск пайплайну на тренування на трен. даних (поза пайплайном).\n",
        "7. Запуск пайплайну на передбачення на трен і вал. даних і вимір метрик якості ROC-AUC + вивдення Confusion Matrix (поза пайплайном).\n",
        "8. Збереження моделі в формат joblib (поза пайплайном).\n",
        "\n",
        "Ви це все вже зробили в попереднтьому ДЗ! Тож, тут просто заадча все зібрати разом.\n",
        "\n",
        "Нижче я додала підказки, що покроково ви маєте зробити. Якщо ви почуваєтесь впевнено, можете видалити ці підказки і реалізувати все самостійно, або ж - просто заповнити пропуски.\n",
        "\n",
        "Завдання оцінюється в 10 балів. Головний результат - аби код в фіналі був робочий. Бо за не робочий нам гроші ніхто не заплатить :)"
      ]
    },
    {
      "cell_type": "code",
      "execution_count": 134,
      "metadata": {},
      "outputs": [],
      "source": [
        "import pandas as pd\n",
        "import numpy as np\n",
        "from sklearn.model_selection import train_test_split\n",
        "from sklearn.preprocessing import StandardScaler, MinMaxScaler, OneHotEncoder, PolynomialFeatures\n",
        "from sklearn.pipeline import Pipeline\n",
        "from sklearn.compose import ColumnTransformer\n",
        "from sklearn.linear_model import LinearRegression, LogisticRegression, Ridge, Lasso, ElasticNet\n",
        "from sklearn.metrics import auc, roc_auc_score, confusion_matrix, f1_score, mean_squared_error, r2_score\n",
        "from matplotlib import pyplot as plt\n",
        "import seaborn as sns\n",
        "import joblib"
      ]
    },
    {
      "cell_type": "code",
      "execution_count": 3,
      "metadata": {
        "id": "0LZialdo4IPZ"
      },
      "outputs": [
        {
          "data": {
            "text/html": [
              "<div>\n",
              "<style scoped>\n",
              "    .dataframe tbody tr th:only-of-type {\n",
              "        vertical-align: middle;\n",
              "    }\n",
              "\n",
              "    .dataframe tbody tr th {\n",
              "        vertical-align: top;\n",
              "    }\n",
              "\n",
              "    .dataframe thead th {\n",
              "        text-align: right;\n",
              "    }\n",
              "</style>\n",
              "<table border=\"1\" class=\"dataframe\">\n",
              "  <thead>\n",
              "    <tr style=\"text-align: right;\">\n",
              "      <th></th>\n",
              "      <th>id</th>\n",
              "      <th>CustomerId</th>\n",
              "      <th>Surname</th>\n",
              "      <th>CreditScore</th>\n",
              "      <th>Geography</th>\n",
              "      <th>Gender</th>\n",
              "      <th>Age</th>\n",
              "      <th>Tenure</th>\n",
              "      <th>Balance</th>\n",
              "      <th>NumOfProducts</th>\n",
              "      <th>HasCrCard</th>\n",
              "      <th>IsActiveMember</th>\n",
              "      <th>EstimatedSalary</th>\n",
              "      <th>Exited</th>\n",
              "    </tr>\n",
              "  </thead>\n",
              "  <tbody>\n",
              "    <tr>\n",
              "      <th>0</th>\n",
              "      <td>0</td>\n",
              "      <td>15779985.0</td>\n",
              "      <td>Nwankwo</td>\n",
              "      <td>678.0</td>\n",
              "      <td>France</td>\n",
              "      <td>Male</td>\n",
              "      <td>29.0</td>\n",
              "      <td>4.0</td>\n",
              "      <td>0.00</td>\n",
              "      <td>3.0</td>\n",
              "      <td>1.0</td>\n",
              "      <td>0.0</td>\n",
              "      <td>180626.36</td>\n",
              "      <td>0.0</td>\n",
              "    </tr>\n",
              "    <tr>\n",
              "      <th>1</th>\n",
              "      <td>1</td>\n",
              "      <td>15650086.0</td>\n",
              "      <td>Ch'in</td>\n",
              "      <td>687.0</td>\n",
              "      <td>France</td>\n",
              "      <td>Female</td>\n",
              "      <td>34.0</td>\n",
              "      <td>1.0</td>\n",
              "      <td>0.00</td>\n",
              "      <td>2.0</td>\n",
              "      <td>0.0</td>\n",
              "      <td>1.0</td>\n",
              "      <td>63736.17</td>\n",
              "      <td>0.0</td>\n",
              "    </tr>\n",
              "    <tr>\n",
              "      <th>2</th>\n",
              "      <td>2</td>\n",
              "      <td>15733602.0</td>\n",
              "      <td>Thompson</td>\n",
              "      <td>682.0</td>\n",
              "      <td>France</td>\n",
              "      <td>Female</td>\n",
              "      <td>52.0</td>\n",
              "      <td>6.0</td>\n",
              "      <td>0.00</td>\n",
              "      <td>3.0</td>\n",
              "      <td>0.0</td>\n",
              "      <td>0.0</td>\n",
              "      <td>179655.87</td>\n",
              "      <td>1.0</td>\n",
              "    </tr>\n",
              "    <tr>\n",
              "      <th>3</th>\n",
              "      <td>3</td>\n",
              "      <td>15645794.0</td>\n",
              "      <td>Macleod</td>\n",
              "      <td>753.0</td>\n",
              "      <td>Germany</td>\n",
              "      <td>Male</td>\n",
              "      <td>44.0</td>\n",
              "      <td>6.0</td>\n",
              "      <td>83347.25</td>\n",
              "      <td>2.0</td>\n",
              "      <td>1.0</td>\n",
              "      <td>0.0</td>\n",
              "      <td>161407.48</td>\n",
              "      <td>0.0</td>\n",
              "    </tr>\n",
              "    <tr>\n",
              "      <th>4</th>\n",
              "      <td>4</td>\n",
              "      <td>15633840.0</td>\n",
              "      <td>Hsia</td>\n",
              "      <td>544.0</td>\n",
              "      <td>Germany</td>\n",
              "      <td>Female</td>\n",
              "      <td>55.0</td>\n",
              "      <td>0.0</td>\n",
              "      <td>107747.57</td>\n",
              "      <td>1.0</td>\n",
              "      <td>1.0</td>\n",
              "      <td>0.0</td>\n",
              "      <td>176580.86</td>\n",
              "      <td>1.0</td>\n",
              "    </tr>\n",
              "  </tbody>\n",
              "</table>\n",
              "</div>"
            ],
            "text/plain": [
              "   id  CustomerId   Surname  CreditScore Geography  Gender   Age  Tenure  \\\n",
              "0   0  15779985.0   Nwankwo        678.0    France    Male  29.0     4.0   \n",
              "1   1  15650086.0     Ch'in        687.0    France  Female  34.0     1.0   \n",
              "2   2  15733602.0  Thompson        682.0    France  Female  52.0     6.0   \n",
              "3   3  15645794.0   Macleod        753.0   Germany    Male  44.0     6.0   \n",
              "4   4  15633840.0      Hsia        544.0   Germany  Female  55.0     0.0   \n",
              "\n",
              "     Balance  NumOfProducts  HasCrCard  IsActiveMember  EstimatedSalary  \\\n",
              "0       0.00            3.0        1.0             0.0        180626.36   \n",
              "1       0.00            2.0        0.0             1.0         63736.17   \n",
              "2       0.00            3.0        0.0             0.0        179655.87   \n",
              "3   83347.25            2.0        1.0             0.0        161407.48   \n",
              "4  107747.57            1.0        1.0             0.0        176580.86   \n",
              "\n",
              "   Exited  \n",
              "0     0.0  \n",
              "1     0.0  \n",
              "2     1.0  \n",
              "3     0.0  \n",
              "4     1.0  "
            ]
          },
          "execution_count": 3,
          "metadata": {},
          "output_type": "execute_result"
        }
      ],
      "source": [
        "raw_df = pd.read_csv('data/bank-customer-churn-prediction-dlu/train.csv')\n",
        "raw_df.head()"
      ]
    },
    {
      "cell_type": "code",
      "execution_count": 5,
      "metadata": {},
      "outputs": [
        {
          "data": {
            "text/html": [
              "<div>\n",
              "<style scoped>\n",
              "    .dataframe tbody tr th:only-of-type {\n",
              "        vertical-align: middle;\n",
              "    }\n",
              "\n",
              "    .dataframe tbody tr th {\n",
              "        vertical-align: top;\n",
              "    }\n",
              "\n",
              "    .dataframe thead th {\n",
              "        text-align: right;\n",
              "    }\n",
              "</style>\n",
              "<table border=\"1\" class=\"dataframe\">\n",
              "  <thead>\n",
              "    <tr style=\"text-align: right;\">\n",
              "      <th></th>\n",
              "      <th>id</th>\n",
              "      <th>CustomerId</th>\n",
              "      <th>Surname</th>\n",
              "      <th>CreditScore</th>\n",
              "      <th>Geography</th>\n",
              "      <th>Gender</th>\n",
              "      <th>Age</th>\n",
              "      <th>Tenure</th>\n",
              "      <th>Balance</th>\n",
              "      <th>NumOfProducts</th>\n",
              "      <th>HasCrCard</th>\n",
              "      <th>IsActiveMember</th>\n",
              "      <th>EstimatedSalary</th>\n",
              "      <th>Exited</th>\n",
              "    </tr>\n",
              "  </thead>\n",
              "  <tbody>\n",
              "    <tr>\n",
              "      <th>0</th>\n",
              "      <td>0</td>\n",
              "      <td>15779985.0</td>\n",
              "      <td>Nwankwo</td>\n",
              "      <td>678.0</td>\n",
              "      <td>France</td>\n",
              "      <td>Male</td>\n",
              "      <td>29.0</td>\n",
              "      <td>4.0</td>\n",
              "      <td>0.00</td>\n",
              "      <td>3.0</td>\n",
              "      <td>1.0</td>\n",
              "      <td>0.0</td>\n",
              "      <td>180626.36</td>\n",
              "      <td>0.0</td>\n",
              "    </tr>\n",
              "    <tr>\n",
              "      <th>1</th>\n",
              "      <td>1</td>\n",
              "      <td>15650086.0</td>\n",
              "      <td>Ch'in</td>\n",
              "      <td>687.0</td>\n",
              "      <td>France</td>\n",
              "      <td>Female</td>\n",
              "      <td>34.0</td>\n",
              "      <td>1.0</td>\n",
              "      <td>0.00</td>\n",
              "      <td>2.0</td>\n",
              "      <td>0.0</td>\n",
              "      <td>1.0</td>\n",
              "      <td>63736.17</td>\n",
              "      <td>0.0</td>\n",
              "    </tr>\n",
              "    <tr>\n",
              "      <th>2</th>\n",
              "      <td>2</td>\n",
              "      <td>15733602.0</td>\n",
              "      <td>Thompson</td>\n",
              "      <td>682.0</td>\n",
              "      <td>France</td>\n",
              "      <td>Female</td>\n",
              "      <td>52.0</td>\n",
              "      <td>6.0</td>\n",
              "      <td>0.00</td>\n",
              "      <td>3.0</td>\n",
              "      <td>0.0</td>\n",
              "      <td>0.0</td>\n",
              "      <td>179655.87</td>\n",
              "      <td>1.0</td>\n",
              "    </tr>\n",
              "    <tr>\n",
              "      <th>3</th>\n",
              "      <td>3</td>\n",
              "      <td>15645794.0</td>\n",
              "      <td>Macleod</td>\n",
              "      <td>753.0</td>\n",
              "      <td>Germany</td>\n",
              "      <td>Male</td>\n",
              "      <td>44.0</td>\n",
              "      <td>6.0</td>\n",
              "      <td>83347.25</td>\n",
              "      <td>2.0</td>\n",
              "      <td>1.0</td>\n",
              "      <td>0.0</td>\n",
              "      <td>161407.48</td>\n",
              "      <td>0.0</td>\n",
              "    </tr>\n",
              "    <tr>\n",
              "      <th>4</th>\n",
              "      <td>4</td>\n",
              "      <td>15633840.0</td>\n",
              "      <td>Hsia</td>\n",
              "      <td>544.0</td>\n",
              "      <td>Germany</td>\n",
              "      <td>Female</td>\n",
              "      <td>55.0</td>\n",
              "      <td>0.0</td>\n",
              "      <td>107747.57</td>\n",
              "      <td>1.0</td>\n",
              "      <td>1.0</td>\n",
              "      <td>0.0</td>\n",
              "      <td>176580.86</td>\n",
              "      <td>1.0</td>\n",
              "    </tr>\n",
              "  </tbody>\n",
              "</table>\n",
              "</div>"
            ],
            "text/plain": [
              "   id  CustomerId   Surname  CreditScore Geography  Gender   Age  Tenure  \\\n",
              "0   0  15779985.0   Nwankwo        678.0    France    Male  29.0     4.0   \n",
              "1   1  15650086.0     Ch'in        687.0    France  Female  34.0     1.0   \n",
              "2   2  15733602.0  Thompson        682.0    France  Female  52.0     6.0   \n",
              "3   3  15645794.0   Macleod        753.0   Germany    Male  44.0     6.0   \n",
              "4   4  15633840.0      Hsia        544.0   Germany  Female  55.0     0.0   \n",
              "\n",
              "     Balance  NumOfProducts  HasCrCard  IsActiveMember  EstimatedSalary  \\\n",
              "0       0.00            3.0        1.0             0.0        180626.36   \n",
              "1       0.00            2.0        0.0             1.0         63736.17   \n",
              "2       0.00            3.0        0.0             0.0        179655.87   \n",
              "3   83347.25            2.0        1.0             0.0        161407.48   \n",
              "4  107747.57            1.0        1.0             0.0        176580.86   \n",
              "\n",
              "   Exited  \n",
              "0     0.0  \n",
              "1     0.0  \n",
              "2     1.0  \n",
              "3     0.0  \n",
              "4     1.0  "
            ]
          },
          "execution_count": 5,
          "metadata": {},
          "output_type": "execute_result"
        }
      ],
      "source": [
        "raw_df.head()"
      ]
    },
    {
      "cell_type": "code",
      "execution_count": 6,
      "metadata": {},
      "outputs": [],
      "source": [
        "raw_df.drop(columns=['id', 'CustomerId', 'Surname'], inplace=True)"
      ]
    },
    {
      "cell_type": "code",
      "execution_count": 7,
      "metadata": {},
      "outputs": [],
      "source": [
        "columnsT = ['Exited']\n",
        "targets = raw_df[columnsT]\n",
        "columns = raw_df.drop(columns='Exited').columns\n",
        "columns\n",
        "inputs = raw_df[columns]"
      ]
    },
    {
      "cell_type": "code",
      "execution_count": 205,
      "metadata": {},
      "outputs": [
        {
          "data": {
            "text/html": [
              "<div>\n",
              "<style scoped>\n",
              "    .dataframe tbody tr th:only-of-type {\n",
              "        vertical-align: middle;\n",
              "    }\n",
              "\n",
              "    .dataframe tbody tr th {\n",
              "        vertical-align: top;\n",
              "    }\n",
              "\n",
              "    .dataframe thead th {\n",
              "        text-align: right;\n",
              "    }\n",
              "</style>\n",
              "<table border=\"1\" class=\"dataframe\">\n",
              "  <thead>\n",
              "    <tr style=\"text-align: right;\">\n",
              "      <th></th>\n",
              "      <th>Exited</th>\n",
              "    </tr>\n",
              "  </thead>\n",
              "  <tbody>\n",
              "    <tr>\n",
              "      <th>0</th>\n",
              "      <td>0.0</td>\n",
              "    </tr>\n",
              "    <tr>\n",
              "      <th>1</th>\n",
              "      <td>0.0</td>\n",
              "    </tr>\n",
              "    <tr>\n",
              "      <th>2</th>\n",
              "      <td>1.0</td>\n",
              "    </tr>\n",
              "    <tr>\n",
              "      <th>3</th>\n",
              "      <td>0.0</td>\n",
              "    </tr>\n",
              "    <tr>\n",
              "      <th>4</th>\n",
              "      <td>1.0</td>\n",
              "    </tr>\n",
              "    <tr>\n",
              "      <th>...</th>\n",
              "      <td>...</td>\n",
              "    </tr>\n",
              "    <tr>\n",
              "      <th>14995</th>\n",
              "      <td>0.0</td>\n",
              "    </tr>\n",
              "    <tr>\n",
              "      <th>14996</th>\n",
              "      <td>0.0</td>\n",
              "    </tr>\n",
              "    <tr>\n",
              "      <th>14997</th>\n",
              "      <td>1.0</td>\n",
              "    </tr>\n",
              "    <tr>\n",
              "      <th>14998</th>\n",
              "      <td>0.0</td>\n",
              "    </tr>\n",
              "    <tr>\n",
              "      <th>14999</th>\n",
              "      <td>1.0</td>\n",
              "    </tr>\n",
              "  </tbody>\n",
              "</table>\n",
              "<p>15000 rows × 1 columns</p>\n",
              "</div>"
            ],
            "text/plain": [
              "       Exited\n",
              "0         0.0\n",
              "1         0.0\n",
              "2         1.0\n",
              "3         0.0\n",
              "4         1.0\n",
              "...       ...\n",
              "14995     0.0\n",
              "14996     0.0\n",
              "14997     1.0\n",
              "14998     0.0\n",
              "14999     1.0\n",
              "\n",
              "[15000 rows x 1 columns]"
            ]
          },
          "execution_count": 205,
          "metadata": {},
          "output_type": "execute_result"
        }
      ],
      "source": [
        "targets"
      ]
    },
    {
      "cell_type": "code",
      "execution_count": 8,
      "metadata": {},
      "outputs": [
        {
          "data": {
            "text/html": [
              "<div>\n",
              "<style scoped>\n",
              "    .dataframe tbody tr th:only-of-type {\n",
              "        vertical-align: middle;\n",
              "    }\n",
              "\n",
              "    .dataframe tbody tr th {\n",
              "        vertical-align: top;\n",
              "    }\n",
              "\n",
              "    .dataframe thead th {\n",
              "        text-align: right;\n",
              "    }\n",
              "</style>\n",
              "<table border=\"1\" class=\"dataframe\">\n",
              "  <thead>\n",
              "    <tr style=\"text-align: right;\">\n",
              "      <th></th>\n",
              "      <th>Exited</th>\n",
              "    </tr>\n",
              "  </thead>\n",
              "  <tbody>\n",
              "    <tr>\n",
              "      <th>3709</th>\n",
              "      <td>0.0</td>\n",
              "    </tr>\n",
              "    <tr>\n",
              "      <th>5745</th>\n",
              "      <td>0.0</td>\n",
              "    </tr>\n",
              "    <tr>\n",
              "      <th>3602</th>\n",
              "      <td>0.0</td>\n",
              "    </tr>\n",
              "    <tr>\n",
              "      <th>925</th>\n",
              "      <td>0.0</td>\n",
              "    </tr>\n",
              "    <tr>\n",
              "      <th>11868</th>\n",
              "      <td>0.0</td>\n",
              "    </tr>\n",
              "    <tr>\n",
              "      <th>...</th>\n",
              "      <td>...</td>\n",
              "    </tr>\n",
              "    <tr>\n",
              "      <th>13280</th>\n",
              "      <td>0.0</td>\n",
              "    </tr>\n",
              "    <tr>\n",
              "      <th>13483</th>\n",
              "      <td>0.0</td>\n",
              "    </tr>\n",
              "    <tr>\n",
              "      <th>6625</th>\n",
              "      <td>1.0</td>\n",
              "    </tr>\n",
              "    <tr>\n",
              "      <th>1774</th>\n",
              "      <td>0.0</td>\n",
              "    </tr>\n",
              "    <tr>\n",
              "      <th>11524</th>\n",
              "      <td>0.0</td>\n",
              "    </tr>\n",
              "  </tbody>\n",
              "</table>\n",
              "<p>12000 rows × 1 columns</p>\n",
              "</div>"
            ],
            "text/plain": [
              "       Exited\n",
              "3709      0.0\n",
              "5745      0.0\n",
              "3602      0.0\n",
              "925       0.0\n",
              "11868     0.0\n",
              "...       ...\n",
              "13280     0.0\n",
              "13483     0.0\n",
              "6625      1.0\n",
              "1774      0.0\n",
              "11524     0.0\n",
              "\n",
              "[12000 rows x 1 columns]"
            ]
          },
          "execution_count": 8,
          "metadata": {},
          "output_type": "execute_result"
        }
      ],
      "source": [
        "\n",
        "train_inputs, val_inputs, train_target, val_target = train_test_split(inputs, targets, test_size=0.2, random_state=12, stratify=targets['Exited'])\n",
        "train_target"
      ]
    },
    {
      "cell_type": "code",
      "execution_count": 9,
      "metadata": {},
      "outputs": [
        {
          "data": {
            "text/plain": [
              "['CreditScore',\n",
              " 'Age',\n",
              " 'Tenure',\n",
              " 'Balance',\n",
              " 'NumOfProducts',\n",
              " 'HasCrCard',\n",
              " 'IsActiveMember',\n",
              " 'EstimatedSalary',\n",
              " 'Exited']"
            ]
          },
          "execution_count": 9,
          "metadata": {},
          "output_type": "execute_result"
        }
      ],
      "source": [
        "numeric_cols = raw_df.select_dtypes(\"number\").columns.to_list()\n",
        "numeric_cols"
      ]
    },
    {
      "cell_type": "code",
      "execution_count": 10,
      "metadata": {},
      "outputs": [
        {
          "data": {
            "text/plain": [
              "array(['Gender', 'Geography'], dtype=object)"
            ]
          },
          "execution_count": 10,
          "metadata": {},
          "output_type": "execute_result"
        }
      ],
      "source": [
        "categorical_cols = np.setdiff1d(raw_df.columns, np.array(numeric_cols))\n",
        "categorical_cols"
      ]
    },
    {
      "cell_type": "code",
      "execution_count": 11,
      "metadata": {},
      "outputs": [
        {
          "data": {
            "text/plain": [
              "['CreditScore',\n",
              " 'Age',\n",
              " 'Tenure',\n",
              " 'Balance',\n",
              " 'NumOfProducts',\n",
              " 'HasCrCard',\n",
              " 'IsActiveMember',\n",
              " 'EstimatedSalary']"
            ]
          },
          "execution_count": 11,
          "metadata": {},
          "output_type": "execute_result"
        }
      ],
      "source": [
        "numeric_cols[:-1]"
      ]
    },
    {
      "cell_type": "code",
      "execution_count": 12,
      "metadata": {},
      "outputs": [],
      "source": [
        "numeric_transformer = Pipeline(\n",
        "    steps=[\n",
        "        ('scaler', MinMaxScaler())\n",
        "    ]\n",
        ")\n",
        "categorical_transformer = Pipeline(\n",
        "    steps=[\n",
        "       ('encoder', OneHotEncoder())\n",
        "    ]\n",
        ")\n",
        "preprocessor = ColumnTransformer([\n",
        "    ('num', numeric_transformer, numeric_cols[:-1]),\n",
        "    ('cat', categorical_transformer, categorical_cols)\n",
        "])"
      ]
    },
    {
      "cell_type": "code",
      "execution_count": 13,
      "metadata": {},
      "outputs": [],
      "source": [
        "model_pipeline = Pipeline([\n",
        "    ('preprocessor', preprocessor), \n",
        "    ('classifier', LogisticRegression(solver='liblinear'))  \n",
        "])"
      ]
    },
    {
      "cell_type": "code",
      "execution_count": 14,
      "metadata": {},
      "outputs": [
        {
          "data": {
            "text/html": [
              "<style>#sk-container-id-1 {color: black;background-color: white;}#sk-container-id-1 pre{padding: 0;}#sk-container-id-1 div.sk-toggleable {background-color: white;}#sk-container-id-1 label.sk-toggleable__label {cursor: pointer;display: block;width: 100%;margin-bottom: 0;padding: 0.3em;box-sizing: border-box;text-align: center;}#sk-container-id-1 label.sk-toggleable__label-arrow:before {content: \"▸\";float: left;margin-right: 0.25em;color: #696969;}#sk-container-id-1 label.sk-toggleable__label-arrow:hover:before {color: black;}#sk-container-id-1 div.sk-estimator:hover label.sk-toggleable__label-arrow:before {color: black;}#sk-container-id-1 div.sk-toggleable__content {max-height: 0;max-width: 0;overflow: hidden;text-align: left;background-color: #f0f8ff;}#sk-container-id-1 div.sk-toggleable__content pre {margin: 0.2em;color: black;border-radius: 0.25em;background-color: #f0f8ff;}#sk-container-id-1 input.sk-toggleable__control:checked~div.sk-toggleable__content {max-height: 200px;max-width: 100%;overflow: auto;}#sk-container-id-1 input.sk-toggleable__control:checked~label.sk-toggleable__label-arrow:before {content: \"▾\";}#sk-container-id-1 div.sk-estimator input.sk-toggleable__control:checked~label.sk-toggleable__label {background-color: #d4ebff;}#sk-container-id-1 div.sk-label input.sk-toggleable__control:checked~label.sk-toggleable__label {background-color: #d4ebff;}#sk-container-id-1 input.sk-hidden--visually {border: 0;clip: rect(1px 1px 1px 1px);clip: rect(1px, 1px, 1px, 1px);height: 1px;margin: -1px;overflow: hidden;padding: 0;position: absolute;width: 1px;}#sk-container-id-1 div.sk-estimator {font-family: monospace;background-color: #f0f8ff;border: 1px dotted black;border-radius: 0.25em;box-sizing: border-box;margin-bottom: 0.5em;}#sk-container-id-1 div.sk-estimator:hover {background-color: #d4ebff;}#sk-container-id-1 div.sk-parallel-item::after {content: \"\";width: 100%;border-bottom: 1px solid gray;flex-grow: 1;}#sk-container-id-1 div.sk-label:hover label.sk-toggleable__label {background-color: #d4ebff;}#sk-container-id-1 div.sk-serial::before {content: \"\";position: absolute;border-left: 1px solid gray;box-sizing: border-box;top: 0;bottom: 0;left: 50%;z-index: 0;}#sk-container-id-1 div.sk-serial {display: flex;flex-direction: column;align-items: center;background-color: white;padding-right: 0.2em;padding-left: 0.2em;position: relative;}#sk-container-id-1 div.sk-item {position: relative;z-index: 1;}#sk-container-id-1 div.sk-parallel {display: flex;align-items: stretch;justify-content: center;background-color: white;position: relative;}#sk-container-id-1 div.sk-item::before, #sk-container-id-1 div.sk-parallel-item::before {content: \"\";position: absolute;border-left: 1px solid gray;box-sizing: border-box;top: 0;bottom: 0;left: 50%;z-index: -1;}#sk-container-id-1 div.sk-parallel-item {display: flex;flex-direction: column;z-index: 1;position: relative;background-color: white;}#sk-container-id-1 div.sk-parallel-item:first-child::after {align-self: flex-end;width: 50%;}#sk-container-id-1 div.sk-parallel-item:last-child::after {align-self: flex-start;width: 50%;}#sk-container-id-1 div.sk-parallel-item:only-child::after {width: 0;}#sk-container-id-1 div.sk-dashed-wrapped {border: 1px dashed gray;margin: 0 0.4em 0.5em 0.4em;box-sizing: border-box;padding-bottom: 0.4em;background-color: white;}#sk-container-id-1 div.sk-label label {font-family: monospace;font-weight: bold;display: inline-block;line-height: 1.2em;}#sk-container-id-1 div.sk-label-container {text-align: center;}#sk-container-id-1 div.sk-container {/* jupyter's `normalize.less` sets `[hidden] { display: none; }` but bootstrap.min.css set `[hidden] { display: none !important; }` so we also need the `!important` here to be able to override the default hidden behavior on the sphinx rendered scikit-learn.org. See: https://github.com/scikit-learn/scikit-learn/issues/21755 */display: inline-block !important;position: relative;}#sk-container-id-1 div.sk-text-repr-fallback {display: none;}</style><div id=\"sk-container-id-1\" class=\"sk-top-container\"><div class=\"sk-text-repr-fallback\"><pre>Pipeline(steps=[(&#x27;preprocessor&#x27;,\n",
              "                 ColumnTransformer(transformers=[(&#x27;num&#x27;,\n",
              "                                                  Pipeline(steps=[(&#x27;scaler&#x27;,\n",
              "                                                                   MinMaxScaler())]),\n",
              "                                                  [&#x27;CreditScore&#x27;, &#x27;Age&#x27;,\n",
              "                                                   &#x27;Tenure&#x27;, &#x27;Balance&#x27;,\n",
              "                                                   &#x27;NumOfProducts&#x27;, &#x27;HasCrCard&#x27;,\n",
              "                                                   &#x27;IsActiveMember&#x27;,\n",
              "                                                   &#x27;EstimatedSalary&#x27;]),\n",
              "                                                 (&#x27;cat&#x27;,\n",
              "                                                  Pipeline(steps=[(&#x27;encoder&#x27;,\n",
              "                                                                   OneHotEncoder())]),\n",
              "                                                  array([&#x27;Gender&#x27;, &#x27;Geography&#x27;], dtype=object))])),\n",
              "                (&#x27;classifier&#x27;, LogisticRegression(solver=&#x27;liblinear&#x27;))])</pre><b>In a Jupyter environment, please rerun this cell to show the HTML representation or trust the notebook. <br />On GitHub, the HTML representation is unable to render, please try loading this page with nbviewer.org.</b></div><div class=\"sk-container\" hidden><div class=\"sk-item sk-dashed-wrapped\"><div class=\"sk-label-container\"><div class=\"sk-label sk-toggleable\"><input class=\"sk-toggleable__control sk-hidden--visually\" id=\"sk-estimator-id-1\" type=\"checkbox\" ><label for=\"sk-estimator-id-1\" class=\"sk-toggleable__label sk-toggleable__label-arrow\">Pipeline</label><div class=\"sk-toggleable__content\"><pre>Pipeline(steps=[(&#x27;preprocessor&#x27;,\n",
              "                 ColumnTransformer(transformers=[(&#x27;num&#x27;,\n",
              "                                                  Pipeline(steps=[(&#x27;scaler&#x27;,\n",
              "                                                                   MinMaxScaler())]),\n",
              "                                                  [&#x27;CreditScore&#x27;, &#x27;Age&#x27;,\n",
              "                                                   &#x27;Tenure&#x27;, &#x27;Balance&#x27;,\n",
              "                                                   &#x27;NumOfProducts&#x27;, &#x27;HasCrCard&#x27;,\n",
              "                                                   &#x27;IsActiveMember&#x27;,\n",
              "                                                   &#x27;EstimatedSalary&#x27;]),\n",
              "                                                 (&#x27;cat&#x27;,\n",
              "                                                  Pipeline(steps=[(&#x27;encoder&#x27;,\n",
              "                                                                   OneHotEncoder())]),\n",
              "                                                  array([&#x27;Gender&#x27;, &#x27;Geography&#x27;], dtype=object))])),\n",
              "                (&#x27;classifier&#x27;, LogisticRegression(solver=&#x27;liblinear&#x27;))])</pre></div></div></div><div class=\"sk-serial\"><div class=\"sk-item sk-dashed-wrapped\"><div class=\"sk-label-container\"><div class=\"sk-label sk-toggleable\"><input class=\"sk-toggleable__control sk-hidden--visually\" id=\"sk-estimator-id-2\" type=\"checkbox\" ><label for=\"sk-estimator-id-2\" class=\"sk-toggleable__label sk-toggleable__label-arrow\">preprocessor: ColumnTransformer</label><div class=\"sk-toggleable__content\"><pre>ColumnTransformer(transformers=[(&#x27;num&#x27;,\n",
              "                                 Pipeline(steps=[(&#x27;scaler&#x27;, MinMaxScaler())]),\n",
              "                                 [&#x27;CreditScore&#x27;, &#x27;Age&#x27;, &#x27;Tenure&#x27;, &#x27;Balance&#x27;,\n",
              "                                  &#x27;NumOfProducts&#x27;, &#x27;HasCrCard&#x27;,\n",
              "                                  &#x27;IsActiveMember&#x27;, &#x27;EstimatedSalary&#x27;]),\n",
              "                                (&#x27;cat&#x27;,\n",
              "                                 Pipeline(steps=[(&#x27;encoder&#x27;, OneHotEncoder())]),\n",
              "                                 array([&#x27;Gender&#x27;, &#x27;Geography&#x27;], dtype=object))])</pre></div></div></div><div class=\"sk-parallel\"><div class=\"sk-parallel-item\"><div class=\"sk-item\"><div class=\"sk-label-container\"><div class=\"sk-label sk-toggleable\"><input class=\"sk-toggleable__control sk-hidden--visually\" id=\"sk-estimator-id-3\" type=\"checkbox\" ><label for=\"sk-estimator-id-3\" class=\"sk-toggleable__label sk-toggleable__label-arrow\">num</label><div class=\"sk-toggleable__content\"><pre>[&#x27;CreditScore&#x27;, &#x27;Age&#x27;, &#x27;Tenure&#x27;, &#x27;Balance&#x27;, &#x27;NumOfProducts&#x27;, &#x27;HasCrCard&#x27;, &#x27;IsActiveMember&#x27;, &#x27;EstimatedSalary&#x27;]</pre></div></div></div><div class=\"sk-serial\"><div class=\"sk-item\"><div class=\"sk-serial\"><div class=\"sk-item\"><div class=\"sk-estimator sk-toggleable\"><input class=\"sk-toggleable__control sk-hidden--visually\" id=\"sk-estimator-id-4\" type=\"checkbox\" ><label for=\"sk-estimator-id-4\" class=\"sk-toggleable__label sk-toggleable__label-arrow\">MinMaxScaler</label><div class=\"sk-toggleable__content\"><pre>MinMaxScaler()</pre></div></div></div></div></div></div></div></div><div class=\"sk-parallel-item\"><div class=\"sk-item\"><div class=\"sk-label-container\"><div class=\"sk-label sk-toggleable\"><input class=\"sk-toggleable__control sk-hidden--visually\" id=\"sk-estimator-id-5\" type=\"checkbox\" ><label for=\"sk-estimator-id-5\" class=\"sk-toggleable__label sk-toggleable__label-arrow\">cat</label><div class=\"sk-toggleable__content\"><pre>[&#x27;Gender&#x27; &#x27;Geography&#x27;]</pre></div></div></div><div class=\"sk-serial\"><div class=\"sk-item\"><div class=\"sk-serial\"><div class=\"sk-item\"><div class=\"sk-estimator sk-toggleable\"><input class=\"sk-toggleable__control sk-hidden--visually\" id=\"sk-estimator-id-6\" type=\"checkbox\" ><label for=\"sk-estimator-id-6\" class=\"sk-toggleable__label sk-toggleable__label-arrow\">OneHotEncoder</label><div class=\"sk-toggleable__content\"><pre>OneHotEncoder()</pre></div></div></div></div></div></div></div></div></div></div><div class=\"sk-item\"><div class=\"sk-estimator sk-toggleable\"><input class=\"sk-toggleable__control sk-hidden--visually\" id=\"sk-estimator-id-7\" type=\"checkbox\" ><label for=\"sk-estimator-id-7\" class=\"sk-toggleable__label sk-toggleable__label-arrow\">LogisticRegression</label><div class=\"sk-toggleable__content\"><pre>LogisticRegression(solver=&#x27;liblinear&#x27;)</pre></div></div></div></div></div></div></div>"
            ],
            "text/plain": [
              "Pipeline(steps=[('preprocessor',\n",
              "                 ColumnTransformer(transformers=[('num',\n",
              "                                                  Pipeline(steps=[('scaler',\n",
              "                                                                   MinMaxScaler())]),\n",
              "                                                  ['CreditScore', 'Age',\n",
              "                                                   'Tenure', 'Balance',\n",
              "                                                   'NumOfProducts', 'HasCrCard',\n",
              "                                                   'IsActiveMember',\n",
              "                                                   'EstimatedSalary']),\n",
              "                                                 ('cat',\n",
              "                                                  Pipeline(steps=[('encoder',\n",
              "                                                                   OneHotEncoder())]),\n",
              "                                                  array(['Gender', 'Geography'], dtype=object))])),\n",
              "                ('classifier', LogisticRegression(solver='liblinear'))])"
            ]
          },
          "execution_count": 14,
          "metadata": {},
          "output_type": "execute_result"
        }
      ],
      "source": [
        "model_pipeline.fit(train_inputs, train_target['Exited'])"
      ]
    },
    {
      "cell_type": "code",
      "execution_count": 15,
      "metadata": {},
      "outputs": [],
      "source": [
        "def predict_and_plot(model_pipeline, inputs, targets, name=''):\n",
        "    preds = model_pipeline.predict(inputs)\n",
        "    roc_auc = roc_auc_score(targets, preds)\n",
        "    f1_ = f1_score(targets, preds)\n",
        "    print(f\"Area under ROC score on {name} dataset: {roc_auc:.2f}%\")\n",
        "    print(f\"F1 score on {name} dataset: {f1_:.2f}%\")\n",
        "    confusion_matrix_ = confusion_matrix(targets, preds, normalize='true')\n",
        "    plt.figure()\n",
        "    sns.heatmap(confusion_matrix_, annot=True, cmap='Blues')\n",
        "    plt.xlabel('Prediction')\n",
        "    plt.ylabel('Target')\n",
        "    plt.title('{} Confusion Matrix'.format(name))\n",
        "    plt.show()\n",
        "    return preds"
      ]
    },
    {
      "cell_type": "code",
      "execution_count": 16,
      "metadata": {},
      "outputs": [
        {
          "name": "stdout",
          "output_type": "stream",
          "text": [
            "Area under ROC score on Train dataset: 0.75%\n",
            "F1 score on Train dataset: 0.63%\n"
          ]
        },
        {
          "data": {
            "image/png": "[encoded data removed]",
            "text/plain": [
              "<Figure size 640x480 with 2 Axes>"
            ]
          },
          "metadata": {},
          "output_type": "display_data"
        },
        {
          "name": "stdout",
          "output_type": "stream",
          "text": [
            "Area under ROC score on Validate dataset: 0.76%\n",
            "F1 score on Validate dataset: 0.65%\n"
          ]
        },
        {
          "data": {
            "image/png": "[encoded data removed]",
            "text/plain": [
              "<Figure size 640x480 with 2 Axes>"
            ]
          },
          "metadata": {},
          "output_type": "display_data"
        }
      ],
      "source": [
        "train_preds = predict_and_plot(model_pipeline, train_inputs, train_target, 'Train')\n",
        "val_preds = predict_and_plot(model_pipeline, val_inputs, val_target, 'Validate')"
      ]
    },
    {
      "cell_type": "code",
      "execution_count": 17,
      "metadata": {},
      "outputs": [
        {
          "data": {
            "text/plain": [
              "['data/bank-customer-churn-prediction-dlu/model_with_pipeline']"
            ]
          },
          "execution_count": 17,
          "metadata": {},
          "output_type": "execute_result"
        }
      ],
      "source": [
        "storedObject = {\n",
        "    'model': model_pipeline,\n",
        "    'num_cols': numeric_cols,\n",
        "    'cat_cols': categorical_cols,\n",
        "    'train_inputs': train_inputs,\n",
        "    'train_target': train_target,\n",
        "    'val_inputs': val_inputs,\n",
        "    'val_target': val_target\n",
        "}\n",
        "joblib.dump(storedObject, 'data/bank-customer-churn-prediction-dlu/model_with_pipeline')"
      ]
    },
    {
      "cell_type": "code",
      "execution_count": null,
      "metadata": {},
      "outputs": [],
      "source": [
        "\n",
        "# Створюємо трен. і вал. набори\n",
        "input_cols = ...\n",
        "target_col = ...\n",
        "train_inputs, train_targets = ...\n",
        "val_inputs, val_targets = ...\n",
        "\n",
        "# Виявляємо числові і категоріальні колонки\n",
        "numeric_cols = ...\n",
        "categorical_cols = ...\n",
        "\n",
        "# Створюємо трансформери для числових і категоріальних колонок\n",
        "numeric_transformer = Pipeline(steps=[\n",
        "    ('scaler', ...)\n",
        "])\n",
        "\n",
        "categorical_transformer = Pipeline(steps=[\n",
        "    ('onehot', ...)\n",
        "])\n",
        "\n",
        "# Комбінуємо трансформери для різних типів колонок в один препроцесор\n",
        "preprocessor = ColumnTransformer(\n",
        "    transformers=[\n",
        "        ('num', ...),\n",
        "        ('cat', ...)\n",
        "    ])\n",
        "\n",
        "# Стоврюємо пайплайн, який спочатку запускає препроцесинг, потім тренуєм модель\n",
        "model_pipeline = Pipeline(steps=[\n",
        "    ('preprocessor', ...),\n",
        "    ('classifier', ...)\n",
        "])\n",
        "\n",
        "# Тренуємо пайплайн\n",
        "....\n",
        "\n",
        "# Функція, щоб передбачати і рахувати метрики\n",
        "def predict_and_plot(model_pipeline, inputs, targets, name=''):\n",
        "    preds = model_pipeline.predict(inputs)\n",
        "    roc_auc = ...\n",
        "    print(f\"Area under ROC score on {name} dataset: {roc_auc:.2f}%\")\n",
        "    confusion_matrix_ = confusion_matrix(targets, preds)\n",
        "    plt.figure()\n",
        "    sns.heatmap(confusion_matrix_, annot=True, cmap='Blues')\n",
        "    plt.xlabel('Prediction')\n",
        "    plt.ylabel('Target')\n",
        "    plt.title('{} Confusion Matrix'.format(name))\n",
        "    plt.show()\n",
        "    return preds\n",
        "\n",
        "# Оцінюємо модель на трен і вал даних\n",
        "train_preds = predict_and_plot(...)\n",
        "val_preds = predict_and_plot(...)\n",
        "\n",
        "# Зберігаємо модель для подальшого використання\n",
        "joblib.dump()\n"
      ]
    },
    {
      "cell_type": "markdown",
      "metadata": {
        "id": "PXrc2NCa5lAK"
      },
      "source": [
        "**Завдання 2**. Такс, у нас з вами є вже готовий пайплайн. Давайте проведемо нові експерименти.\n",
        "\n",
        "  Додайте в попередню обробку числових колонок генерацію polinomal features до степені 2 включно. Для цього створіть новий препроцесор і створіть новий пайплайн.\n",
        "\n",
        "  Запустіть пайплайн на тренування і виведіть метрики для тренувального і валідаційного набору. Напишіть, як вам модель? Чи спостерігається в цій моделі overfit чи underfit? Чи ця модель добре генералізує?"
      ]
    },
    {
      "cell_type": "code",
      "execution_count": 18,
      "metadata": {
        "id": "TjcmWMTOOjJ1"
      },
      "outputs": [
        {
          "name": "stdout",
          "output_type": "stream",
          "text": [
            "Area under ROC score on Train dataset: 0.78%\n",
            "F1 score on Train dataset: 0.69%\n"
          ]
        },
        {
          "data": {
            "image/png": "[encoded data removed]",
            "text/plain": [
              "<Figure size 640x480 with 2 Axes>"
            ]
          },
          "metadata": {},
          "output_type": "display_data"
        },
        {
          "name": "stdout",
          "output_type": "stream",
          "text": [
            "Area under ROC score on Validate dataset: 0.79%\n",
            "F1 score on Validate dataset: 0.70%\n"
          ]
        },
        {
          "data": {
            "image/png": "[encoded data removed]",
            "text/plain": [
              "<Figure size 640x480 with 2 Axes>"
            ]
          },
          "metadata": {},
          "output_type": "display_data"
        }
      ],
      "source": [
        "numeric_transformer_p2 = Pipeline(\n",
        "    steps=[\n",
        "        ('scaler', MinMaxScaler()),\n",
        "        ('poly', PolynomialFeatures(2))\n",
        "    ]\n",
        ")\n",
        "preprocessor_p2 = ColumnTransformer([\n",
        "    ('num', numeric_transformer_p2, numeric_cols[:-1]),\n",
        "    ('cat', categorical_transformer, categorical_cols)\n",
        "])\n",
        "model_pipeline_p2 = Pipeline([\n",
        "    ('preprocessor', preprocessor_p2), \n",
        "    ('classifier', LogisticRegression(solver='liblinear'))  \n",
        "])\n",
        "model_pipeline_p2.fit(train_inputs, train_target['Exited'])\n",
        "train_preds_p2 = predict_and_plot(model_pipeline_p2, train_inputs, train_target, 'Train')\n",
        "val_preds_p2 = predict_and_plot(model_pipeline_p2, val_inputs, val_target, 'Validate')"
      ]
    },
    {
      "cell_type": "markdown",
      "metadata": {},
      "source": [
        "### На мою думку модель добре генералізує, точність однкова на тренувальних і валідаційних даних"
      ]
    },
    {
      "cell_type": "markdown",
      "metadata": {
        "id": "tkmEmHaP8Pen"
      },
      "source": [
        "**Завдання 3**. Тепер давайте створимо ще новий пайплайн, тільки тепер поліноміальні ознаки згенеруємо до степені 4. Зробіть висновок про якість моделі. Якщо вам подобається резульат якоїсь з моделей в цьому ДЗ - рекомендую зробити submission в змаганні."
      ]
    },
    {
      "cell_type": "code",
      "execution_count": 19,
      "metadata": {
        "id": "OsT-MDWuOkDY"
      },
      "outputs": [
        {
          "name": "stdout",
          "output_type": "stream",
          "text": [
            "Area under ROC score on Train dataset: 0.81%\n",
            "F1 score on Train dataset: 0.73%\n"
          ]
        },
        {
          "data": {
            "image/png": "[encoded data removed]",
            "text/plain": [
              "<Figure size 640x480 with 2 Axes>"
            ]
          },
          "metadata": {},
          "output_type": "display_data"
        },
        {
          "name": "stdout",
          "output_type": "stream",
          "text": [
            "Area under ROC score on Validate dataset: 0.81%\n",
            "F1 score on Validate dataset: 0.73%\n"
          ]
        },
        {
          "data": {
            "image/png": "[encoded data removed]",
            "text/plain": [
              "<Figure size 640x480 with 2 Axes>"
            ]
          },
          "metadata": {},
          "output_type": "display_data"
        }
      ],
      "source": [
        "numeric_transformer_p4 = Pipeline(\n",
        "    steps=[\n",
        "        ('scaler', MinMaxScaler()),\n",
        "        ('poly', PolynomialFeatures(4))\n",
        "    ]\n",
        ")\n",
        "preprocessor_p4 = ColumnTransformer([\n",
        "    ('num', numeric_transformer_p4, numeric_cols[:-1]),\n",
        "    ('cat', categorical_transformer, categorical_cols)\n",
        "])\n",
        "model_pipeline_p4 = Pipeline([\n",
        "    ('preprocessor', preprocessor_p4), \n",
        "    ('classifier', LogisticRegression(solver='liblinear'))  \n",
        "])\n",
        "model_pipeline_p4.fit(train_inputs, train_target['Exited'])\n",
        "train_preds_p4 = predict_and_plot(model_pipeline_p4, train_inputs, train_target, 'Train')\n",
        "val_preds_p4 = predict_and_plot(model_pipeline_p4, val_inputs, val_target, 'Validate')"
      ]
    },
    {
      "cell_type": "code",
      "execution_count": 20,
      "metadata": {},
      "outputs": [],
      "source": [
        "def polynomialCalc(feature_score):\n",
        "    numeric_transformer_p = Pipeline(\n",
        "        steps=[\n",
        "            ('scaler', StandardScaler()),\n",
        "            ('poly', PolynomialFeatures(feature_score))\n",
        "        ]\n",
        "    )\n",
        "    preprocessor_p = ColumnTransformer([\n",
        "        ('num', numeric_transformer_p, numeric_cols[:-1]),\n",
        "        ('cat', categorical_transformer, categorical_cols)\n",
        "    ])\n",
        "    model_pipeline_p = Pipeline([\n",
        "        ('preprocessor', preprocessor_p), \n",
        "        ('classifier', LogisticRegression(solver='liblinear'))  \n",
        "    ])\n",
        "    model_pipeline_p.fit(train_inputs, train_target['Exited'])\n",
        "    train_preds_p = predict_and_plot(model_pipeline_p, train_inputs, train_target, 'Train Polynomial Features {}'.format(feature_score))\n",
        "    val_preds_p = predict_and_plot(model_pipeline_p, val_inputs, val_target, 'Validate Polynomial Features {}'.format(feature_score))"
      ]
    },
    {
      "cell_type": "code",
      "execution_count": 21,
      "metadata": {},
      "outputs": [
        {
          "name": "stdout",
          "output_type": "stream",
          "text": [
            "Area under ROC score on Train Polynomial Features 5 dataset: 0.85%\n",
            "F1 score on Train Polynomial Features 5 dataset: 0.78%\n"
          ]
        },
        {
          "data": {
            "image/png": "[encoded data removed]",
            "text/plain": [
              "<Figure size 640x480 with 2 Axes>"
            ]
          },
          "metadata": {},
          "output_type": "display_data"
        },
        {
          "name": "stdout",
          "output_type": "stream",
          "text": [
            "Area under ROC score on Validate Polynomial Features 5 dataset: 0.80%\n",
            "F1 score on Validate Polynomial Features 5 dataset: 0.70%\n"
          ]
        },
        {
          "data": {
            "image/png": "[encoded data removed]",
            "text/plain": [
              "<Figure size 640x480 with 2 Axes>"
            ]
          },
          "metadata": {},
          "output_type": "display_data"
        }
      ],
      "source": [
        "polynomialCalc(5)"
      ]
    },
    {
      "cell_type": "code",
      "execution_count": 22,
      "metadata": {},
      "outputs": [
        {
          "data": {
            "text/plain": [
              "['data/bank-customer-churn-prediction-dlu/logistic_regression_with_polynom']"
            ]
          },
          "execution_count": 22,
          "metadata": {},
          "output_type": "execute_result"
        }
      ],
      "source": [
        "storedObject = {\n",
        "    'model': model_pipeline_p4,\n",
        "    'num_cols': numeric_cols,\n",
        "    'cat_cols': categorical_cols\n",
        "}\n",
        "joblib.dump(storedObject, 'data/bank-customer-churn-prediction-dlu/logistic_regression_with_polynom')"
      ]
    },
    {
      "cell_type": "markdown",
      "metadata": {},
      "source": [
        "### Зі степенм 5 для пономіальних фічей точність моделі падає і отримуємо перенавчання, в той же час степінь 4 схоже підходить найкраще"
      ]
    },
    {
      "cell_type": "code",
      "execution_count": 267,
      "metadata": {},
      "outputs": [
        {
          "name": "stdout",
          "output_type": "stream",
          "text": [
            "Area under ROC score on Train Polynomial Features 4 dataset: 0.82%\n",
            "F1 score on Train Polynomial Features 4 dataset: 0.75%\n"
          ]
        },
        {
          "data": {
            "image/png": "[encoded data removed]",
            "text/plain": [
              "<Figure size 640x480 with 2 Axes>"
            ]
          },
          "metadata": {},
          "output_type": "display_data"
        },
        {
          "name": "stdout",
          "output_type": "stream",
          "text": [
            "Area under ROC score on Validate Polynomial Features 4 dataset: 0.81%\n",
            "F1 score on Validate Polynomial Features 4 dataset: 0.73%\n"
          ]
        },
        {
          "data": {
            "image/png": "[encoded data removed]",
            "text/plain": [
              "<Figure size 640x480 with 2 Axes>"
            ]
          },
          "metadata": {},
          "output_type": "display_data"
        }
      ],
      "source": [
        "polynomialCalc(4)"
      ]
    },
    {
      "cell_type": "code",
      "execution_count": 59,
      "metadata": {},
      "outputs": [],
      "source": [
        "\n",
        "test_df = pd.read_csv('data/bank-customer-churn-prediction-dlu/test.csv', index_col=0)\n",
        "test_inputs = test_df[numeric_cols[:-1] + categorical_cols.tolist()]\n",
        "loaded_model = joblib.load('data/bank-customer-churn-prediction-dlu/logistic_regression_with_polynom')\n",
        "model_pipeline_with_poly = loaded_model['model']"
      ]
    },
    {
      "cell_type": "code",
      "execution_count": 43,
      "metadata": {},
      "outputs": [
        {
          "data": {
            "text/html": [
              "<div>\n",
              "<style scoped>\n",
              "    .dataframe tbody tr th:only-of-type {\n",
              "        vertical-align: middle;\n",
              "    }\n",
              "\n",
              "    .dataframe tbody tr th {\n",
              "        vertical-align: top;\n",
              "    }\n",
              "\n",
              "    .dataframe thead th {\n",
              "        text-align: right;\n",
              "    }\n",
              "</style>\n",
              "<table border=\"1\" class=\"dataframe\">\n",
              "  <thead>\n",
              "    <tr style=\"text-align: right;\">\n",
              "      <th></th>\n",
              "      <th>CustomerId</th>\n",
              "      <th>Surname</th>\n",
              "      <th>CreditScore</th>\n",
              "      <th>Geography</th>\n",
              "      <th>Gender</th>\n",
              "      <th>Age</th>\n",
              "      <th>Tenure</th>\n",
              "      <th>Balance</th>\n",
              "      <th>NumOfProducts</th>\n",
              "      <th>HasCrCard</th>\n",
              "      <th>IsActiveMember</th>\n",
              "      <th>EstimatedSalary</th>\n",
              "    </tr>\n",
              "    <tr>\n",
              "      <th>id</th>\n",
              "      <th></th>\n",
              "      <th></th>\n",
              "      <th></th>\n",
              "      <th></th>\n",
              "      <th></th>\n",
              "      <th></th>\n",
              "      <th></th>\n",
              "      <th></th>\n",
              "      <th></th>\n",
              "      <th></th>\n",
              "      <th></th>\n",
              "      <th></th>\n",
              "    </tr>\n",
              "  </thead>\n",
              "  <tbody>\n",
              "    <tr>\n",
              "      <th>15000</th>\n",
              "      <td>15594796.0</td>\n",
              "      <td>Chu</td>\n",
              "      <td>584.0</td>\n",
              "      <td>Germany</td>\n",
              "      <td>Male</td>\n",
              "      <td>30.0</td>\n",
              "      <td>2.0</td>\n",
              "      <td>146053.66</td>\n",
              "      <td>1.0</td>\n",
              "      <td>1.0</td>\n",
              "      <td>1.0</td>\n",
              "      <td>157891.86</td>\n",
              "    </tr>\n",
              "    <tr>\n",
              "      <th>15001</th>\n",
              "      <td>15642821.0</td>\n",
              "      <td>Mazzi</td>\n",
              "      <td>551.0</td>\n",
              "      <td>France</td>\n",
              "      <td>Male</td>\n",
              "      <td>39.0</td>\n",
              "      <td>5.0</td>\n",
              "      <td>0.00</td>\n",
              "      <td>2.0</td>\n",
              "      <td>1.0</td>\n",
              "      <td>1.0</td>\n",
              "      <td>67431.28</td>\n",
              "    </tr>\n",
              "    <tr>\n",
              "      <th>15002</th>\n",
              "      <td>15716284.0</td>\n",
              "      <td>Onyekachi</td>\n",
              "      <td>706.0</td>\n",
              "      <td>France</td>\n",
              "      <td>Male</td>\n",
              "      <td>43.0</td>\n",
              "      <td>8.0</td>\n",
              "      <td>0.00</td>\n",
              "      <td>2.0</td>\n",
              "      <td>1.0</td>\n",
              "      <td>0.0</td>\n",
              "      <td>156768.45</td>\n",
              "    </tr>\n",
              "    <tr>\n",
              "      <th>15003</th>\n",
              "      <td>15785078.0</td>\n",
              "      <td>Martin</td>\n",
              "      <td>717.0</td>\n",
              "      <td>Spain</td>\n",
              "      <td>Male</td>\n",
              "      <td>45.0</td>\n",
              "      <td>3.0</td>\n",
              "      <td>0.00</td>\n",
              "      <td>1.0</td>\n",
              "      <td>1.0</td>\n",
              "      <td>1.0</td>\n",
              "      <td>166909.87</td>\n",
              "    </tr>\n",
              "    <tr>\n",
              "      <th>15004</th>\n",
              "      <td>15662955.0</td>\n",
              "      <td>Kenechukwu</td>\n",
              "      <td>592.0</td>\n",
              "      <td>Spain</td>\n",
              "      <td>Male</td>\n",
              "      <td>43.0</td>\n",
              "      <td>8.0</td>\n",
              "      <td>0.00</td>\n",
              "      <td>2.0</td>\n",
              "      <td>1.0</td>\n",
              "      <td>1.0</td>\n",
              "      <td>143681.97</td>\n",
              "    </tr>\n",
              "    <tr>\n",
              "      <th>...</th>\n",
              "      <td>...</td>\n",
              "      <td>...</td>\n",
              "      <td>...</td>\n",
              "      <td>...</td>\n",
              "      <td>...</td>\n",
              "      <td>...</td>\n",
              "      <td>...</td>\n",
              "      <td>...</td>\n",
              "      <td>...</td>\n",
              "      <td>...</td>\n",
              "      <td>...</td>\n",
              "      <td>...</td>\n",
              "    </tr>\n",
              "    <tr>\n",
              "      <th>24995</th>\n",
              "      <td>15642997.0</td>\n",
              "      <td>Chukwumaobim</td>\n",
              "      <td>639.0</td>\n",
              "      <td>Spain</td>\n",
              "      <td>Male</td>\n",
              "      <td>38.0</td>\n",
              "      <td>10.0</td>\n",
              "      <td>0.00</td>\n",
              "      <td>2.0</td>\n",
              "      <td>1.0</td>\n",
              "      <td>1.0</td>\n",
              "      <td>49637.65</td>\n",
              "    </tr>\n",
              "    <tr>\n",
              "      <th>24996</th>\n",
              "      <td>15739271.0</td>\n",
              "      <td>Clements</td>\n",
              "      <td>678.0</td>\n",
              "      <td>Spain</td>\n",
              "      <td>Male</td>\n",
              "      <td>39.0</td>\n",
              "      <td>9.0</td>\n",
              "      <td>0.00</td>\n",
              "      <td>2.0</td>\n",
              "      <td>1.0</td>\n",
              "      <td>1.0</td>\n",
              "      <td>142513.50</td>\n",
              "    </tr>\n",
              "    <tr>\n",
              "      <th>24997</th>\n",
              "      <td>15756743.0</td>\n",
              "      <td>Chidiebere</td>\n",
              "      <td>774.0</td>\n",
              "      <td>France</td>\n",
              "      <td>Male</td>\n",
              "      <td>30.0</td>\n",
              "      <td>9.0</td>\n",
              "      <td>0.00</td>\n",
              "      <td>2.0</td>\n",
              "      <td>1.0</td>\n",
              "      <td>0.0</td>\n",
              "      <td>4861.72</td>\n",
              "    </tr>\n",
              "    <tr>\n",
              "      <th>24998</th>\n",
              "      <td>15680167.0</td>\n",
              "      <td>Yermakova</td>\n",
              "      <td>595.0</td>\n",
              "      <td>France</td>\n",
              "      <td>Male</td>\n",
              "      <td>38.0</td>\n",
              "      <td>6.0</td>\n",
              "      <td>144875.79</td>\n",
              "      <td>1.0</td>\n",
              "      <td>1.0</td>\n",
              "      <td>0.0</td>\n",
              "      <td>126469.09</td>\n",
              "    </tr>\n",
              "    <tr>\n",
              "      <th>24999</th>\n",
              "      <td>15662901.0</td>\n",
              "      <td>Ting</td>\n",
              "      <td>660.0</td>\n",
              "      <td>France</td>\n",
              "      <td>Male</td>\n",
              "      <td>30.0</td>\n",
              "      <td>3.0</td>\n",
              "      <td>0.00</td>\n",
              "      <td>1.0</td>\n",
              "      <td>1.0</td>\n",
              "      <td>0.0</td>\n",
              "      <td>105784.85</td>\n",
              "    </tr>\n",
              "  </tbody>\n",
              "</table>\n",
              "<p>10000 rows × 12 columns</p>\n",
              "</div>"
            ],
            "text/plain": [
              "       CustomerId       Surname  CreditScore Geography Gender   Age  Tenure  \\\n",
              "id                                                                            \n",
              "15000  15594796.0           Chu        584.0   Germany   Male  30.0     2.0   \n",
              "15001  15642821.0         Mazzi        551.0    France   Male  39.0     5.0   \n",
              "15002  15716284.0     Onyekachi        706.0    France   Male  43.0     8.0   \n",
              "15003  15785078.0        Martin        717.0     Spain   Male  45.0     3.0   \n",
              "15004  15662955.0    Kenechukwu        592.0     Spain   Male  43.0     8.0   \n",
              "...           ...           ...          ...       ...    ...   ...     ...   \n",
              "24995  15642997.0  Chukwumaobim        639.0     Spain   Male  38.0    10.0   \n",
              "24996  15739271.0      Clements        678.0     Spain   Male  39.0     9.0   \n",
              "24997  15756743.0    Chidiebere        774.0    France   Male  30.0     9.0   \n",
              "24998  15680167.0     Yermakova        595.0    France   Male  38.0     6.0   \n",
              "24999  15662901.0          Ting        660.0    France   Male  30.0     3.0   \n",
              "\n",
              "         Balance  NumOfProducts  HasCrCard  IsActiveMember  EstimatedSalary  \n",
              "id                                                                           \n",
              "15000  146053.66            1.0        1.0             1.0        157891.86  \n",
              "15001       0.00            2.0        1.0             1.0         67431.28  \n",
              "15002       0.00            2.0        1.0             0.0        156768.45  \n",
              "15003       0.00            1.0        1.0             1.0        166909.87  \n",
              "15004       0.00            2.0        1.0             1.0        143681.97  \n",
              "...          ...            ...        ...             ...              ...  \n",
              "24995       0.00            2.0        1.0             1.0         49637.65  \n",
              "24996       0.00            2.0        1.0             1.0        142513.50  \n",
              "24997       0.00            2.0        1.0             0.0          4861.72  \n",
              "24998  144875.79            1.0        1.0             0.0        126469.09  \n",
              "24999       0.00            1.0        1.0             0.0        105784.85  \n",
              "\n",
              "[10000 rows x 12 columns]"
            ]
          },
          "execution_count": 43,
          "metadata": {},
          "output_type": "execute_result"
        }
      ],
      "source": [
        "test_df"
      ]
    },
    {
      "cell_type": "code",
      "execution_count": 61,
      "metadata": {},
      "outputs": [],
      "source": [
        "test_pred = model_pipeline_p4.predict_proba(test_inputs).round(2)\n",
        "test_df['Exited']=test_pred[:,1]"
      ]
    },
    {
      "cell_type": "code",
      "execution_count": 62,
      "metadata": {},
      "outputs": [],
      "source": [
        "test_df_ready = test_df.reset_index()[['id', 'Exited']].set_index('id')"
      ]
    },
    {
      "cell_type": "code",
      "execution_count": 63,
      "metadata": {},
      "outputs": [],
      "source": [
        "test_df_ready.to_csv('data/bank-customer-churn-prediction-dlu/submission_log_reg_v2.csv')"
      ]
    },
    {
      "cell_type": "markdown",
      "metadata": {
        "id": "ozN2ONZGCBS6"
      },
      "source": [
        "**Завдання 4. Перенавчання і регуляризація**.\n",
        "\n",
        "  Скачайте набір даних `regression_data.csv`. Звичайте набір даних з `regression_data.csv`, розбийте на train і test (в тест 20%) і натренуйте модель лінійної регресії з масштабуванням числових ознак і поліноміальними ознаками до степені **5 включно**.\n",
        "\n",
        "  Виміряйте якість прогностичної моделі і зробіть висновок, чи модель хороша, чи вона добре генералізує?\n"
      ]
    },
    {
      "cell_type": "code",
      "execution_count": 64,
      "metadata": {
        "id": "xbl0jQ3WOlgn"
      },
      "outputs": [],
      "source": [
        "reg_df = pd.read_csv('data/bank-customer-churn-prediction-dlu/regression_data.csv')"
      ]
    },
    {
      "cell_type": "code",
      "execution_count": 69,
      "metadata": {},
      "outputs": [
        {
          "data": {
            "text/plain": [
              "Index(['feature_1', 'feature_2', 'feature_3', 'feature_4', 'feature_5',\n",
              "       'target'],\n",
              "      dtype='object')"
            ]
          },
          "execution_count": 69,
          "metadata": {},
          "output_type": "execute_result"
        }
      ],
      "source": [
        "reg_df.columns"
      ]
    },
    {
      "cell_type": "code",
      "execution_count": 72,
      "metadata": {},
      "outputs": [],
      "source": [
        "input_columns = reg_df.columns\n",
        "train_input, val_input, train_target, val_target = train_test_split(reg_df[input_columns[:-1]], reg_df['target'], test_size=0.2)"
      ]
    },
    {
      "cell_type": "code",
      "execution_count": 86,
      "metadata": {},
      "outputs": [],
      "source": [
        "regr_data_models = [];\n",
        "inputs = {\n",
        "    'train_input': train_input,\n",
        "    'val_input': val_input,\n",
        "    'train_target': train_target,\n",
        "    'val_target': val_target\n",
        "};\n",
        "def createPolyModel(inputs, level):\n",
        "    regr_data_model = Pipeline([\n",
        "        ('scaler', MinMaxScaler()),\n",
        "        ('poly', PolynomialFeatures(level)),\n",
        "        ('classifier', LinearRegression())\n",
        "    ])\n",
        "    regr_data_model.fit(inputs['train_input'], inputs['train_target'])\n",
        "    regr_data_models.append(regr_data_model)"
      ]
    },
    {
      "cell_type": "code",
      "execution_count": 98,
      "metadata": {},
      "outputs": [],
      "source": [
        "regr_data_models = []\n",
        "for i in range(1,6):\n",
        "    createPolyModel(inputs, i)"
      ]
    },
    {
      "cell_type": "code",
      "execution_count": 100,
      "metadata": {},
      "outputs": [],
      "source": [
        "predictions_train = [];\n",
        "predictions_val = [];\n",
        "for poly_model in regr_data_models:\n",
        "    pred_train = poly_model.predict(inputs['train_input'])\n",
        "    pred_val = poly_model.predict(inputs['val_input'])\n",
        "    predictions_train.append(pred_train)\n",
        "    predictions_val.append(pred_val)\n",
        "   "
      ]
    },
    {
      "cell_type": "code",
      "execution_count": 144,
      "metadata": {},
      "outputs": [],
      "source": [
        "rmse = []\n",
        "r2 = []\n",
        "rmse_val = []\n",
        "r2_val = []\n",
        "for prediction_train in predictions_train:\n",
        "    rmse.append(mean_squared_error(inputs['train_target'], prediction_train, squared=False))\n",
        "    r2.append(r2_score(inputs['train_target'], prediction_train))\n",
        "for prediction_val in predictions_val:\n",
        "    rmse_val.append(mean_squared_error(inputs['val_target'], prediction_val, squared=False))\n",
        "    r2_val.append(r2_score(inputs['val_target'], prediction_val))"
      ]
    },
    {
      "cell_type": "code",
      "execution_count": 133,
      "metadata": {},
      "outputs": [
        {
          "data": {
            "text/plain": [
              "([0.9995200562950687, 0.9995651000467135, 0.9992736495009911, 1.0, 1.0],\n",
              " [1.0165505644059374,\n",
              "  0.9676727614288754,\n",
              "  1.2505669748193462,\n",
              "  3.475105451144707e-13,\n",
              "  3.1092300474041015e-13])"
            ]
          },
          "execution_count": 133,
          "metadata": {},
          "output_type": "execute_result"
        }
      ],
      "source": [
        "r2, rmse"
      ]
    },
    {
      "cell_type": "code",
      "execution_count": 145,
      "metadata": {},
      "outputs": [
        {
          "data": {
            "text/plain": [
              "([0.99927726989296,\n",
              "  0.9991631867584839,\n",
              "  0.9950467750817749,\n",
              "  0.891627058674438,\n",
              "  0.9201343238640539],\n",
              " [1.0908702068370313,\n",
              "  1.1738139845035642,\n",
              "  2.8558081715166503,\n",
              "  13.358122988762686,\n",
              "  11.46740348938615])"
            ]
          },
          "execution_count": 145,
          "metadata": {},
          "output_type": "execute_result"
        }
      ],
      "source": [
        "r2_val, rmse_val"
      ]
    },
    {
      "cell_type": "markdown",
      "metadata": {
        "id": "JNUt-Q6UHkn7"
      },
      "source": [
        "**Завдання 5**. Натренуйте моделі Lasso(), Ridge(), ElasaticNet() на цих даних (з поліном ознаками до степені 20 включно), порівняйте якість з тою, яка була отримана з лог регресією. Яка модель найкраще генералізує і чому на ваш погляд (можливо треба буде для відповіді зробити додатковий аналіз ознак)?"
      ]
    },
    {
      "cell_type": "code",
      "execution_count": 140,
      "metadata": {
        "id": "y93ItPYdOnpE"
      },
      "outputs": [],
      "source": [
        "def calculateMetrixExtModel(model, inputs, level):\n",
        "    regr_data_model = Pipeline([\n",
        "        ('scaler', MinMaxScaler()),\n",
        "        ('poly', PolynomialFeatures(level)),\n",
        "        ('classifier', model)\n",
        "    ])\n",
        "    regr_data_model.fit(inputs['train_input'], inputs['train_target'])\n",
        "    pred_train = regr_data_model.predict(inputs['train_input'])\n",
        "    pred_val = regr_data_model.predict(inputs['val_input'])\n",
        "    rmse_train = mean_squared_error(inputs['train_target'], pred_train, squared=False)\n",
        "    rmse_val = mean_squared_error(inputs['val_target'], pred_val, squared=False)\n",
        "    return dict(rmse_train = rmse_train.round(2), rmse_val = rmse_val.round(2))\n",
        "    \n",
        "def createExtModels(inputs,level):\n",
        "    result_r = model_ridge_metrix = calculateMetrixExtModel(Ridge(), inputs, level)\n",
        "    result_l = model_lasso_metrix = calculateMetrixExtModel(Lasso(), inputs, level)\n",
        "    result_e = model_elastic_metrix = calculateMetrixExtModel(ElasticNet(), inputs, level)\n",
        "    return dict(ridge = result_r, lasso = result_l, elastic = result_e)\n",
        "\n",
        "    "
      ]
    },
    {
      "cell_type": "code",
      "execution_count": 139,
      "metadata": {},
      "outputs": [],
      "source": [
        "result = {}\n",
        "for i in range(1, 21):\n",
        "    result[i] = createExtModels(inputs, i)"
      ]
    },
    {
      "cell_type": "code",
      "execution_count": 142,
      "metadata": {},
      "outputs": [
        {
          "data": {
            "text/plain": [
              "{1: {'ridge': {'rmse_train': 7.99, 'rmse_val': 7.61},\n",
              "  'lasso': {'rmse_train': 4.7, 'rmse_val': 4.41},\n",
              "  'elastic': {'rmse_train': 42.48, 'rmse_val': 37.28}},\n",
              " 2: {'ridge': {'rmse_train': 5.43, 'rmse_val': 7.02},\n",
              "  'lasso': {'rmse_train': 4.7, 'rmse_val': 4.41},\n",
              "  'elastic': {'rmse_train': 37.56, 'rmse_val': 33.59}},\n",
              " 3: {'ridge': {'rmse_train': 6.67, 'rmse_val': 7.95},\n",
              "  'lasso': {'rmse_train': 4.7, 'rmse_val': 4.41},\n",
              "  'elastic': {'rmse_train': 33.98, 'rmse_val': 31.37}},\n",
              " 4: {'ridge': {'rmse_train': 6.84, 'rmse_val': 8.07},\n",
              "  'lasso': {'rmse_train': 4.7, 'rmse_val': 4.41},\n",
              "  'elastic': {'rmse_train': 31.98, 'rmse_val': 30.48}},\n",
              " 5: {'ridge': {'rmse_train': 6.44, 'rmse_val': 7.94},\n",
              "  'lasso': {'rmse_train': 4.7, 'rmse_val': 4.41},\n",
              "  'elastic': {'rmse_train': 30.99, 'rmse_val': 30.25}},\n",
              " 6: {'ridge': {'rmse_train': 6.05, 'rmse_val': 7.87},\n",
              "  'lasso': {'rmse_train': 4.7, 'rmse_val': 4.41},\n",
              "  'elastic': {'rmse_train': 30.51, 'rmse_val': 30.27}},\n",
              " 7: {'ridge': {'rmse_train': 5.81, 'rmse_val': 7.88},\n",
              "  'lasso': {'rmse_train': 4.7, 'rmse_val': 4.41},\n",
              "  'elastic': {'rmse_train': 30.29, 'rmse_val': 30.35}},\n",
              " 8: {'ridge': {'rmse_train': 5.7, 'rmse_val': 7.93},\n",
              "  'lasso': {'rmse_train': 4.7, 'rmse_val': 4.41},\n",
              "  'elastic': {'rmse_train': 30.17, 'rmse_val': 30.43}},\n",
              " 9: {'ridge': {'rmse_train': 5.67, 'rmse_val': 7.98},\n",
              "  'lasso': {'rmse_train': 4.7, 'rmse_val': 4.41},\n",
              "  'elastic': {'rmse_train': 30.1, 'rmse_val': 30.5}},\n",
              " 10: {'ridge': {'rmse_train': 5.67, 'rmse_val': 8.02},\n",
              "  'lasso': {'rmse_train': 4.7, 'rmse_val': 4.41},\n",
              "  'elastic': {'rmse_train': 30.06, 'rmse_val': 30.55}},\n",
              " 11: {'ridge': {'rmse_train': 5.68, 'rmse_val': 8.06},\n",
              "  'lasso': {'rmse_train': 4.7, 'rmse_val': 4.41},\n",
              "  'elastic': {'rmse_train': 30.04, 'rmse_val': 30.6}},\n",
              " 12: {'ridge': {'rmse_train': 5.69, 'rmse_val': 8.08},\n",
              "  'lasso': {'rmse_train': 4.7, 'rmse_val': 4.41},\n",
              "  'elastic': {'rmse_train': 30.02, 'rmse_val': 30.63}},\n",
              " 13: {'ridge': {'rmse_train': 5.7, 'rmse_val': 8.1},\n",
              "  'lasso': {'rmse_train': 4.7, 'rmse_val': 4.41},\n",
              "  'elastic': {'rmse_train': 30.01, 'rmse_val': 30.65}},\n",
              " 14: {'ridge': {'rmse_train': 5.71, 'rmse_val': 8.11},\n",
              "  'lasso': {'rmse_train': 4.7, 'rmse_val': 4.41},\n",
              "  'elastic': {'rmse_train': 30.01, 'rmse_val': 30.68}},\n",
              " 15: {'ridge': {'rmse_train': 5.72, 'rmse_val': 8.11},\n",
              "  'lasso': {'rmse_train': 4.7, 'rmse_val': 4.41},\n",
              "  'elastic': {'rmse_train': 30.0, 'rmse_val': 30.69}},\n",
              " 16: {'ridge': {'rmse_train': 5.73, 'rmse_val': 8.12},\n",
              "  'lasso': {'rmse_train': 4.7, 'rmse_val': 4.41},\n",
              "  'elastic': {'rmse_train': 30.0, 'rmse_val': 30.71}},\n",
              " 17: {'ridge': {'rmse_train': 5.73, 'rmse_val': 8.12},\n",
              "  'lasso': {'rmse_train': 4.7, 'rmse_val': 4.41},\n",
              "  'elastic': {'rmse_train': 30.0, 'rmse_val': 30.72}},\n",
              " 18: {'ridge': {'rmse_train': 5.74, 'rmse_val': 8.13},\n",
              "  'lasso': {'rmse_train': 4.7, 'rmse_val': 4.41},\n",
              "  'elastic': {'rmse_train': 30.0, 'rmse_val': 30.73}},\n",
              " 19: {'ridge': {'rmse_train': 5.74, 'rmse_val': 8.13},\n",
              "  'lasso': {'rmse_train': 4.7, 'rmse_val': 4.41},\n",
              "  'elastic': {'rmse_train': 30.0, 'rmse_val': 30.74}},\n",
              " 20: {'ridge': {'rmse_train': 5.74, 'rmse_val': 8.13},\n",
              "  'lasso': {'rmse_train': 4.7, 'rmse_val': 4.41},\n",
              "  'elastic': {'rmse_train': 30.0, 'rmse_val': 30.74}}}"
            ]
          },
          "execution_count": 142,
          "metadata": {},
          "output_type": "execute_result"
        }
      ],
      "source": [
        "result"
      ]
    },
    {
      "cell_type": "markdown",
      "metadata": {},
      "source": [
        "На цих даних краще всіх показує себе Лассо, хоча мені дивно, чому rmse не змінюється на рівнях полінома\n",
        "На лінійній регресії ж модель добре показує себе на тренувальних даних і погано на валідаціних даних\n",
        "Як на мене найкраще підходить лінійна регресія без полінома))"
      ]
    },
    {
      "cell_type": "code",
      "execution_count": null,
      "metadata": {},
      "outputs": [],
      "source": []
    }
  ],
  "metadata": {
    "colab": {
      "provenance": []
    },
    "kernelspec": {
      "display_name": "Python 3",
      "name": "python3"
    },
    "language_info": {
      "codemirror_mode": {
        "name": "ipython",
        "version": 3
      },
      "file_extension": ".py",
      "mimetype": "text/x-python",
      "name": "python",
      "nbconvert_exporter": "python",
      "pygments_lexer": "ipython3",
      "version": "3.11.7"
    }
  },
  "nbformat": 4,
  "nbformat_minor": 0
}
