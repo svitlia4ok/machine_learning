{
  "cells": [
    {
      "cell_type": "markdown",
      "metadata": {
        "id": "VUPArbcFJKzJ"
      },
      "source": [
        "У цьому ДЗ ми потренуємось розв'язувати задачу багатокласової класифікації за допомогою логістичної регресії з використанням стратегій One-vs-Rest та One-vs-One, оцінити якість моделей та порівняти стратегії."
      ]
    },
    {
      "cell_type": "markdown",
      "metadata": {
        "id": "7f4tzX6YomVv"
      },
      "source": [
        "### Опис задачі і даних\n",
        "\n",
        "**Контекст**\n",
        "\n",
        "В цьому ДЗ ми працюємо з даними про сегментацію клієнтів.\n",
        "\n",
        "Сегментація клієнтів – це практика поділу бази клієнтів на групи індивідів, які схожі між собою за певними критеріями, що мають значення для маркетингу, такими як вік, стать, інтереси та звички у витратах.\n",
        "\n",
        "Компанії, які використовують сегментацію клієнтів, виходять з того, що кожен клієнт є унікальним і що їхні маркетингові зусилля будуть більш ефективними, якщо вони орієнтуватимуться на конкретні, менші групи зі зверненнями, які ці споживачі вважатимуть доречними та які спонукатимуть їх до купівлі. Компанії також сподіваються отримати глибше розуміння уподобань та потреб своїх клієнтів з метою виявлення того, що кожен сегмент цінує найбільше, щоб точніше адаптувати маркетингові матеріали до цього сегменту.\n",
        "\n",
        "**Зміст**.\n",
        "\n",
        "Автомобільна компанія планує вийти на нові ринки зі своїми існуючими продуктами (P1, P2, P3, P4 і P5). Після інтенсивного маркетингового дослідження вони дійшли висновку, що поведінка нового ринку схожа на їхній існуючий ринок.\n",
        "\n",
        "На своєму існуючому ринку команда з продажу класифікувала всіх клієнтів на 4 сегменти (A, B, C, D). Потім вони здійснювали сегментовані звернення та комунікацію з різними сегментами клієнтів. Ця стратегія працювала для них надзвичайно добре. Вони планують використати ту саму стратегію на нових ринках і визначили 2627 нових потенційних клієнтів.\n",
        "\n",
        "Ви маєте допомогти менеджеру передбачити правильну групу для нових клієнтів.\n",
        "\n",
        "В цьому ДЗ використовуємо дані `customer_segmentation_train.csv`[скачати дані](https://drive.google.com/file/d/1VU1y2EwaHkVfr5RZ1U4MPWjeflAusK3w/view?usp=sharing). Це `train.csv`з цього [змагання](https://www.kaggle.com/datasets/abisheksudarshan/customer-segmentation/data?select=train.csv)"
      ]
    },
    {
      "cell_type": "markdown",
      "metadata": {
        "id": "NZFXPKx1JX-3"
      },
      "source": [
        "**Завдання 1.** Завантажте та підготуйте датасет до аналізу. Виконайте обробку пропущених значень та необхідне кодування категоріальних ознак. Розбийте на тренувальну і тестувальну вибірку, де в тесті 20%. Памʼятаємо, що весь препроцесинг ліпше все ж тренувати на тренувальній вибірці і на тестувальній лише використовувати вже натреновані трансформери.\n",
        "Але в даному випадку оскільки значень в категоріях небагато, можна зробити обробку і на оригінальних даних, а потім розбити - це простіше. Можна також реалізувати процесинг і тренування моделі з пайплайнами. Обирайте як вам зручніше."
      ]
    },
    {
      "cell_type": "code",
      "execution_count": 188,
      "metadata": {
        "id": "I-mwGqPS5GAT"
      },
      "outputs": [],
      "source": [
        "import pandas as pd\n",
        "import numpy as np\n",
        "import seaborn as sns\n",
        "import matplotlib.pyplot as plt \n",
        "from sklearn.model_selection import train_test_split\n",
        "from sklearn.pipeline import Pipeline\n",
        "from sklearn.preprocessing import OneHotEncoder, OrdinalEncoder, MinMaxScaler\n",
        "from sklearn.compose import ColumnTransformer\n",
        "from sklearn.linear_model import LogisticRegression\n",
        "from sklearn.metrics import roc_auc_score, f1_score, classification_report\n",
        "from imblearn.over_sampling import SMOTE, SMOTENC\n",
        "from imblearn.combine import SMOTETomek\n",
        "from sklearn.svm import SVC\n",
        "from sklearn.multiclass import OneVsRestClassifier\n",
        "import copy"
      ]
    },
    {
      "cell_type": "code",
      "execution_count": 25,
      "metadata": {},
      "outputs": [],
      "source": [
        "df = pd.read_csv(\"data/customer_segmentation_train.csv\",index_col='ID' )"
      ]
    },
    {
      "cell_type": "code",
      "execution_count": 26,
      "metadata": {},
      "outputs": [
        {
          "name": "stdout",
          "output_type": "stream",
          "text": [
            "<class 'pandas.core.frame.DataFrame'>\n",
            "Index: 8068 entries, 462809 to 461879\n",
            "Data columns (total 10 columns):\n",
            " #   Column           Non-Null Count  Dtype  \n",
            "---  ------           --------------  -----  \n",
            " 0   Gender           8068 non-null   object \n",
            " 1   Ever_Married     7928 non-null   object \n",
            " 2   Age              8068 non-null   int64  \n",
            " 3   Graduated        7990 non-null   object \n",
            " 4   Profession       7944 non-null   object \n",
            " 5   Work_Experience  7239 non-null   float64\n",
            " 6   Spending_Score   8068 non-null   object \n",
            " 7   Family_Size      7733 non-null   float64\n",
            " 8   Var_1            7992 non-null   object \n",
            " 9   Segmentation     8068 non-null   object \n",
            "dtypes: float64(2), int64(1), object(7)\n",
            "memory usage: 693.3+ KB\n"
          ]
        }
      ],
      "source": [
        "df.info()"
      ]
    },
    {
      "cell_type": "code",
      "execution_count": 17,
      "metadata": {},
      "outputs": [
        {
          "data": {
            "text/html": [
              "<div>\n",
              "<style scoped>\n",
              "    .dataframe tbody tr th:only-of-type {\n",
              "        vertical-align: middle;\n",
              "    }\n",
              "\n",
              "    .dataframe tbody tr th {\n",
              "        vertical-align: top;\n",
              "    }\n",
              "\n",
              "    .dataframe thead th {\n",
              "        text-align: right;\n",
              "    }\n",
              "</style>\n",
              "<table border=\"1\" class=\"dataframe\">\n",
              "  <thead>\n",
              "    <tr style=\"text-align: right;\">\n",
              "      <th></th>\n",
              "      <th>Age</th>\n",
              "      <th>Work_Experience</th>\n",
              "      <th>Family_Size</th>\n",
              "    </tr>\n",
              "  </thead>\n",
              "  <tbody>\n",
              "    <tr>\n",
              "      <th>count</th>\n",
              "      <td>8068.000000</td>\n",
              "      <td>7239.000000</td>\n",
              "      <td>7733.000000</td>\n",
              "    </tr>\n",
              "    <tr>\n",
              "      <th>mean</th>\n",
              "      <td>43.466906</td>\n",
              "      <td>2.641663</td>\n",
              "      <td>2.850123</td>\n",
              "    </tr>\n",
              "    <tr>\n",
              "      <th>std</th>\n",
              "      <td>16.711696</td>\n",
              "      <td>3.406763</td>\n",
              "      <td>1.531413</td>\n",
              "    </tr>\n",
              "    <tr>\n",
              "      <th>min</th>\n",
              "      <td>18.000000</td>\n",
              "      <td>0.000000</td>\n",
              "      <td>1.000000</td>\n",
              "    </tr>\n",
              "    <tr>\n",
              "      <th>25%</th>\n",
              "      <td>30.000000</td>\n",
              "      <td>0.000000</td>\n",
              "      <td>2.000000</td>\n",
              "    </tr>\n",
              "    <tr>\n",
              "      <th>50%</th>\n",
              "      <td>40.000000</td>\n",
              "      <td>1.000000</td>\n",
              "      <td>3.000000</td>\n",
              "    </tr>\n",
              "    <tr>\n",
              "      <th>75%</th>\n",
              "      <td>53.000000</td>\n",
              "      <td>4.000000</td>\n",
              "      <td>4.000000</td>\n",
              "    </tr>\n",
              "    <tr>\n",
              "      <th>max</th>\n",
              "      <td>89.000000</td>\n",
              "      <td>14.000000</td>\n",
              "      <td>9.000000</td>\n",
              "    </tr>\n",
              "  </tbody>\n",
              "</table>\n",
              "</div>"
            ],
            "text/plain": [
              "               Age  Work_Experience  Family_Size\n",
              "count  8068.000000      7239.000000  7733.000000\n",
              "mean     43.466906         2.641663     2.850123\n",
              "std      16.711696         3.406763     1.531413\n",
              "min      18.000000         0.000000     1.000000\n",
              "25%      30.000000         0.000000     2.000000\n",
              "50%      40.000000         1.000000     3.000000\n",
              "75%      53.000000         4.000000     4.000000\n",
              "max      89.000000        14.000000     9.000000"
            ]
          },
          "execution_count": 17,
          "metadata": {},
          "output_type": "execute_result"
        }
      ],
      "source": [
        "df.describe()"
      ]
    },
    {
      "cell_type": "code",
      "execution_count": 16,
      "metadata": {},
      "outputs": [
        {
          "data": {
            "text/html": [
              "<div>\n",
              "<style scoped>\n",
              "    .dataframe tbody tr th:only-of-type {\n",
              "        vertical-align: middle;\n",
              "    }\n",
              "\n",
              "    .dataframe tbody tr th {\n",
              "        vertical-align: top;\n",
              "    }\n",
              "\n",
              "    .dataframe thead th {\n",
              "        text-align: right;\n",
              "    }\n",
              "</style>\n",
              "<table border=\"1\" class=\"dataframe\">\n",
              "  <thead>\n",
              "    <tr style=\"text-align: right;\">\n",
              "      <th></th>\n",
              "      <th>Gender</th>\n",
              "      <th>Ever_Married</th>\n",
              "      <th>Age</th>\n",
              "      <th>Graduated</th>\n",
              "      <th>Profession</th>\n",
              "      <th>Work_Experience</th>\n",
              "      <th>Spending_Score</th>\n",
              "      <th>Family_Size</th>\n",
              "      <th>Var_1</th>\n",
              "      <th>Segmentation</th>\n",
              "    </tr>\n",
              "    <tr>\n",
              "      <th>ID</th>\n",
              "      <th></th>\n",
              "      <th></th>\n",
              "      <th></th>\n",
              "      <th></th>\n",
              "      <th></th>\n",
              "      <th></th>\n",
              "      <th></th>\n",
              "      <th></th>\n",
              "      <th></th>\n",
              "      <th></th>\n",
              "    </tr>\n",
              "  </thead>\n",
              "  <tbody>\n",
              "    <tr>\n",
              "      <th>462809</th>\n",
              "      <td>Male</td>\n",
              "      <td>No</td>\n",
              "      <td>22</td>\n",
              "      <td>No</td>\n",
              "      <td>Healthcare</td>\n",
              "      <td>1.0</td>\n",
              "      <td>Low</td>\n",
              "      <td>4.0</td>\n",
              "      <td>Cat_4</td>\n",
              "      <td>D</td>\n",
              "    </tr>\n",
              "    <tr>\n",
              "      <th>462643</th>\n",
              "      <td>Female</td>\n",
              "      <td>Yes</td>\n",
              "      <td>38</td>\n",
              "      <td>Yes</td>\n",
              "      <td>Engineer</td>\n",
              "      <td>NaN</td>\n",
              "      <td>Average</td>\n",
              "      <td>3.0</td>\n",
              "      <td>Cat_4</td>\n",
              "      <td>A</td>\n",
              "    </tr>\n",
              "    <tr>\n",
              "      <th>466315</th>\n",
              "      <td>Female</td>\n",
              "      <td>Yes</td>\n",
              "      <td>67</td>\n",
              "      <td>Yes</td>\n",
              "      <td>Engineer</td>\n",
              "      <td>1.0</td>\n",
              "      <td>Low</td>\n",
              "      <td>1.0</td>\n",
              "      <td>Cat_6</td>\n",
              "      <td>B</td>\n",
              "    </tr>\n",
              "    <tr>\n",
              "      <th>461735</th>\n",
              "      <td>Male</td>\n",
              "      <td>Yes</td>\n",
              "      <td>67</td>\n",
              "      <td>Yes</td>\n",
              "      <td>Lawyer</td>\n",
              "      <td>0.0</td>\n",
              "      <td>High</td>\n",
              "      <td>2.0</td>\n",
              "      <td>Cat_6</td>\n",
              "      <td>B</td>\n",
              "    </tr>\n",
              "    <tr>\n",
              "      <th>462669</th>\n",
              "      <td>Female</td>\n",
              "      <td>Yes</td>\n",
              "      <td>40</td>\n",
              "      <td>Yes</td>\n",
              "      <td>Entertainment</td>\n",
              "      <td>NaN</td>\n",
              "      <td>High</td>\n",
              "      <td>6.0</td>\n",
              "      <td>Cat_6</td>\n",
              "      <td>A</td>\n",
              "    </tr>\n",
              "  </tbody>\n",
              "</table>\n",
              "</div>"
            ],
            "text/plain": [
              "        Gender Ever_Married  Age Graduated     Profession  Work_Experience  \\\n",
              "ID                                                                           \n",
              "462809    Male           No   22        No     Healthcare              1.0   \n",
              "462643  Female          Yes   38       Yes       Engineer              NaN   \n",
              "466315  Female          Yes   67       Yes       Engineer              1.0   \n",
              "461735    Male          Yes   67       Yes         Lawyer              0.0   \n",
              "462669  Female          Yes   40       Yes  Entertainment              NaN   \n",
              "\n",
              "       Spending_Score  Family_Size  Var_1 Segmentation  \n",
              "ID                                                      \n",
              "462809            Low          4.0  Cat_4            D  \n",
              "462643        Average          3.0  Cat_4            A  \n",
              "466315            Low          1.0  Cat_6            B  \n",
              "461735           High          2.0  Cat_6            B  \n",
              "462669           High          6.0  Cat_6            A  "
            ]
          },
          "execution_count": 16,
          "metadata": {},
          "output_type": "execute_result"
        }
      ],
      "source": [
        "df.head()"
      ]
    },
    {
      "cell_type": "code",
      "execution_count": 29,
      "metadata": {},
      "outputs": [
        {
          "data": {
            "text/plain": [
              "Gender               0\n",
              "Ever_Married         0\n",
              "Age                  0\n",
              "Graduated           78\n",
              "Profession         124\n",
              "Work_Experience    829\n",
              "Spending_Score       0\n",
              "Family_Size        335\n",
              "Var_1               76\n",
              "Segmentation         0\n",
              "dtype: int64"
            ]
          },
          "execution_count": 29,
          "metadata": {},
          "output_type": "execute_result"
        }
      ],
      "source": [
        "df.isnull().sum()"
      ]
    },
    {
      "cell_type": "code",
      "execution_count": 28,
      "metadata": {},
      "outputs": [
        {
          "data": {
            "text/plain": [
              "Ever_Married\n",
              "Yes        4643\n",
              "No         3285\n",
              "Unknown     140\n",
              "Name: count, dtype: int64"
            ]
          },
          "execution_count": 28,
          "metadata": {},
          "output_type": "execute_result"
        }
      ],
      "source": [
        "df.Ever_Married.value_counts()"
      ]
    },
    {
      "cell_type": "code",
      "execution_count": 27,
      "metadata": {},
      "outputs": [],
      "source": [
        "df.Ever_Married.fillna(\"Unknown\", inplace=True)"
      ]
    },
    {
      "cell_type": "code",
      "execution_count": 30,
      "metadata": {},
      "outputs": [
        {
          "data": {
            "text/plain": [
              "Graduated\n",
              "Yes    4968\n",
              "No     3022\n",
              "Name: count, dtype: int64"
            ]
          },
          "execution_count": 30,
          "metadata": {},
          "output_type": "execute_result"
        }
      ],
      "source": [
        "df.Graduated.value_counts()"
      ]
    },
    {
      "cell_type": "code",
      "execution_count": 31,
      "metadata": {},
      "outputs": [],
      "source": [
        "df.Graduated.fillna(\"Unknown\", inplace=True)"
      ]
    },
    {
      "cell_type": "code",
      "execution_count": 32,
      "metadata": {},
      "outputs": [
        {
          "data": {
            "text/plain": [
              "Profession\n",
              "Artist           2516\n",
              "Healthcare       1332\n",
              "Entertainment     949\n",
              "Engineer          699\n",
              "Doctor            688\n",
              "Lawyer            623\n",
              "Executive         599\n",
              "Marketing         292\n",
              "Homemaker         246\n",
              "Name: count, dtype: int64"
            ]
          },
          "execution_count": 32,
          "metadata": {},
          "output_type": "execute_result"
        }
      ],
      "source": [
        "df.Profession.value_counts()"
      ]
    },
    {
      "cell_type": "code",
      "execution_count": 33,
      "metadata": {},
      "outputs": [],
      "source": [
        "df.Profession.fillna(\"Unknown\", inplace=True)"
      ]
    },
    {
      "cell_type": "code",
      "execution_count": 49,
      "metadata": {},
      "outputs": [
        {
          "data": {
            "text/plain": [
              "(2.641663213150988, 1.0)"
            ]
          },
          "execution_count": 49,
          "metadata": {},
          "output_type": "execute_result"
        }
      ],
      "source": [
        "df.Work_Experience.mean(), df.Work_Experience.median()"
      ]
    },
    {
      "cell_type": "code",
      "execution_count": 56,
      "metadata": {},
      "outputs": [
        {
          "data": {
            "text/plain": [
              "829"
            ]
          },
          "execution_count": 56,
          "metadata": {},
          "output_type": "execute_result"
        }
      ],
      "source": [
        "df.Work_Experience.isna().sum()"
      ]
    },
    {
      "cell_type": "code",
      "execution_count": 53,
      "metadata": {},
      "outputs": [],
      "source": [
        "df['Work_Experience_was_missed'] = df['Work_Experience'].isnull().astype('int')"
      ]
    },
    {
      "cell_type": "code",
      "execution_count": 54,
      "metadata": {},
      "outputs": [
        {
          "data": {
            "text/plain": [
              "Work_Experience_was_missed\n",
              "0    7239\n",
              "1     829\n",
              "Name: count, dtype: int64"
            ]
          },
          "execution_count": 54,
          "metadata": {},
          "output_type": "execute_result"
        }
      ],
      "source": [
        "df['Work_Experience_was_missed'].value_counts()"
      ]
    },
    {
      "cell_type": "code",
      "execution_count": 58,
      "metadata": {},
      "outputs": [],
      "source": [
        "df['Work_Experience'].fillna(df['Work_Experience'].median(), inplace=True)"
      ]
    },
    {
      "cell_type": "code",
      "execution_count": 65,
      "metadata": {},
      "outputs": [],
      "source": [
        "df['Family_Size_was_missed'] = df['Family_Size'].isnull().astype('int')"
      ]
    },
    {
      "cell_type": "code",
      "execution_count": 66,
      "metadata": {},
      "outputs": [],
      "source": [
        "df['Family_Size'].fillna(df['Family_Size'].median(), inplace=True)"
      ]
    },
    {
      "cell_type": "code",
      "execution_count": 67,
      "metadata": {},
      "outputs": [
        {
          "data": {
            "text/plain": [
              "Family_Size\n",
              "2.0    2390\n",
              "3.0    1832\n",
              "1.0    1453\n",
              "4.0    1379\n",
              "5.0     612\n",
              "6.0     212\n",
              "7.0      96\n",
              "8.0      50\n",
              "9.0      44\n",
              "Name: count, dtype: int64"
            ]
          },
          "execution_count": 67,
          "metadata": {},
          "output_type": "execute_result"
        }
      ],
      "source": [
        "df['Family_Size'].value_counts()"
      ]
    },
    {
      "cell_type": "code",
      "execution_count": 73,
      "metadata": {},
      "outputs": [
        {
          "name": "stdout",
          "output_type": "stream",
          "text": [
            "<class 'pandas.core.frame.DataFrame'>\n",
            "Index: 8068 entries, 462809 to 461879\n",
            "Data columns (total 12 columns):\n",
            " #   Column                      Non-Null Count  Dtype  \n",
            "---  ------                      --------------  -----  \n",
            " 0   Gender                      8068 non-null   object \n",
            " 1   Ever_Married                8068 non-null   object \n",
            " 2   Age                         8068 non-null   int64  \n",
            " 3   Graduated                   8068 non-null   object \n",
            " 4   Profession                  8068 non-null   object \n",
            " 5   Work_Experience             8068 non-null   float64\n",
            " 6   Spending_Score              8068 non-null   object \n",
            " 7   Family_Size                 8068 non-null   float64\n",
            " 8   Var_1                       8068 non-null   object \n",
            " 9   Segmentation                8068 non-null   object \n",
            " 10  Work_Experience_was_missed  8068 non-null   int64  \n",
            " 11  Family_Size_was_missed      8068 non-null   int64  \n",
            "dtypes: float64(2), int64(3), object(7)\n",
            "memory usage: 819.4+ KB\n"
          ]
        }
      ],
      "source": [
        "df.info()"
      ]
    },
    {
      "cell_type": "code",
      "execution_count": 72,
      "metadata": {},
      "outputs": [],
      "source": [
        "df['Var_1'].fillna('Undefined', inplace=True)"
      ]
    },
    {
      "cell_type": "code",
      "execution_count": 75,
      "metadata": {},
      "outputs": [
        {
          "data": {
            "text/plain": [
              "Spending_Score\n",
              "Low        4878\n",
              "Average    1974\n",
              "High       1216\n",
              "Name: count, dtype: int64"
            ]
          },
          "execution_count": 75,
          "metadata": {},
          "output_type": "execute_result"
        }
      ],
      "source": [
        "df['Spending_Score'].value_counts()"
      ]
    },
    {
      "cell_type": "code",
      "execution_count": 76,
      "metadata": {},
      "outputs": [
        {
          "data": {
            "text/html": [
              "<div>\n",
              "<style scoped>\n",
              "    .dataframe tbody tr th:only-of-type {\n",
              "        vertical-align: middle;\n",
              "    }\n",
              "\n",
              "    .dataframe tbody tr th {\n",
              "        vertical-align: top;\n",
              "    }\n",
              "\n",
              "    .dataframe thead th {\n",
              "        text-align: right;\n",
              "    }\n",
              "</style>\n",
              "<table border=\"1\" class=\"dataframe\">\n",
              "  <thead>\n",
              "    <tr style=\"text-align: right;\">\n",
              "      <th></th>\n",
              "      <th>Age</th>\n",
              "      <th>Work_Experience</th>\n",
              "      <th>Family_Size</th>\n",
              "      <th>Work_Experience_was_missed</th>\n",
              "      <th>Family_Size_was_missed</th>\n",
              "    </tr>\n",
              "    <tr>\n",
              "      <th>ID</th>\n",
              "      <th></th>\n",
              "      <th></th>\n",
              "      <th></th>\n",
              "      <th></th>\n",
              "      <th></th>\n",
              "    </tr>\n",
              "  </thead>\n",
              "  <tbody>\n",
              "    <tr>\n",
              "      <th>462809</th>\n",
              "      <td>22</td>\n",
              "      <td>1.0</td>\n",
              "      <td>4.0</td>\n",
              "      <td>0</td>\n",
              "      <td>0</td>\n",
              "    </tr>\n",
              "    <tr>\n",
              "      <th>462643</th>\n",
              "      <td>38</td>\n",
              "      <td>1.0</td>\n",
              "      <td>3.0</td>\n",
              "      <td>1</td>\n",
              "      <td>0</td>\n",
              "    </tr>\n",
              "    <tr>\n",
              "      <th>466315</th>\n",
              "      <td>67</td>\n",
              "      <td>1.0</td>\n",
              "      <td>1.0</td>\n",
              "      <td>0</td>\n",
              "      <td>0</td>\n",
              "    </tr>\n",
              "    <tr>\n",
              "      <th>461735</th>\n",
              "      <td>67</td>\n",
              "      <td>0.0</td>\n",
              "      <td>2.0</td>\n",
              "      <td>0</td>\n",
              "      <td>0</td>\n",
              "    </tr>\n",
              "    <tr>\n",
              "      <th>462669</th>\n",
              "      <td>40</td>\n",
              "      <td>1.0</td>\n",
              "      <td>6.0</td>\n",
              "      <td>1</td>\n",
              "      <td>0</td>\n",
              "    </tr>\n",
              "    <tr>\n",
              "      <th>...</th>\n",
              "      <td>...</td>\n",
              "      <td>...</td>\n",
              "      <td>...</td>\n",
              "      <td>...</td>\n",
              "      <td>...</td>\n",
              "    </tr>\n",
              "    <tr>\n",
              "      <th>464018</th>\n",
              "      <td>22</td>\n",
              "      <td>0.0</td>\n",
              "      <td>7.0</td>\n",
              "      <td>0</td>\n",
              "      <td>0</td>\n",
              "    </tr>\n",
              "    <tr>\n",
              "      <th>464685</th>\n",
              "      <td>35</td>\n",
              "      <td>3.0</td>\n",
              "      <td>4.0</td>\n",
              "      <td>0</td>\n",
              "      <td>0</td>\n",
              "    </tr>\n",
              "    <tr>\n",
              "      <th>465406</th>\n",
              "      <td>33</td>\n",
              "      <td>1.0</td>\n",
              "      <td>1.0</td>\n",
              "      <td>0</td>\n",
              "      <td>0</td>\n",
              "    </tr>\n",
              "    <tr>\n",
              "      <th>467299</th>\n",
              "      <td>27</td>\n",
              "      <td>1.0</td>\n",
              "      <td>4.0</td>\n",
              "      <td>0</td>\n",
              "      <td>0</td>\n",
              "    </tr>\n",
              "    <tr>\n",
              "      <th>461879</th>\n",
              "      <td>37</td>\n",
              "      <td>0.0</td>\n",
              "      <td>3.0</td>\n",
              "      <td>0</td>\n",
              "      <td>0</td>\n",
              "    </tr>\n",
              "  </tbody>\n",
              "</table>\n",
              "<p>8068 rows × 5 columns</p>\n",
              "</div>"
            ],
            "text/plain": [
              "        Age  Work_Experience  Family_Size  Work_Experience_was_missed  \\\n",
              "ID                                                                      \n",
              "462809   22              1.0          4.0                           0   \n",
              "462643   38              1.0          3.0                           1   \n",
              "466315   67              1.0          1.0                           0   \n",
              "461735   67              0.0          2.0                           0   \n",
              "462669   40              1.0          6.0                           1   \n",
              "...     ...              ...          ...                         ...   \n",
              "464018   22              0.0          7.0                           0   \n",
              "464685   35              3.0          4.0                           0   \n",
              "465406   33              1.0          1.0                           0   \n",
              "467299   27              1.0          4.0                           0   \n",
              "461879   37              0.0          3.0                           0   \n",
              "\n",
              "        Family_Size_was_missed  \n",
              "ID                              \n",
              "462809                       0  \n",
              "462643                       0  \n",
              "466315                       0  \n",
              "461735                       0  \n",
              "462669                       0  \n",
              "...                        ...  \n",
              "464018                       0  \n",
              "464685                       0  \n",
              "465406                       0  \n",
              "467299                       0  \n",
              "461879                       0  \n",
              "\n",
              "[8068 rows x 5 columns]"
            ]
          },
          "execution_count": 76,
          "metadata": {},
          "output_type": "execute_result"
        }
      ],
      "source": [
        "number_columns = df.select_dtypes(include=\"number\")\n",
        "number_columns"
      ]
    },
    {
      "cell_type": "code",
      "execution_count": 77,
      "metadata": {},
      "outputs": [
        {
          "data": {
            "text/html": [
              "<div>\n",
              "<style scoped>\n",
              "    .dataframe tbody tr th:only-of-type {\n",
              "        vertical-align: middle;\n",
              "    }\n",
              "\n",
              "    .dataframe tbody tr th {\n",
              "        vertical-align: top;\n",
              "    }\n",
              "\n",
              "    .dataframe thead th {\n",
              "        text-align: right;\n",
              "    }\n",
              "</style>\n",
              "<table border=\"1\" class=\"dataframe\">\n",
              "  <thead>\n",
              "    <tr style=\"text-align: right;\">\n",
              "      <th></th>\n",
              "      <th>Gender</th>\n",
              "      <th>Ever_Married</th>\n",
              "      <th>Graduated</th>\n",
              "      <th>Profession</th>\n",
              "      <th>Spending_Score</th>\n",
              "      <th>Var_1</th>\n",
              "      <th>Segmentation</th>\n",
              "    </tr>\n",
              "    <tr>\n",
              "      <th>ID</th>\n",
              "      <th></th>\n",
              "      <th></th>\n",
              "      <th></th>\n",
              "      <th></th>\n",
              "      <th></th>\n",
              "      <th></th>\n",
              "      <th></th>\n",
              "    </tr>\n",
              "  </thead>\n",
              "  <tbody>\n",
              "    <tr>\n",
              "      <th>462809</th>\n",
              "      <td>Male</td>\n",
              "      <td>No</td>\n",
              "      <td>No</td>\n",
              "      <td>Healthcare</td>\n",
              "      <td>Low</td>\n",
              "      <td>Cat_4</td>\n",
              "      <td>D</td>\n",
              "    </tr>\n",
              "    <tr>\n",
              "      <th>462643</th>\n",
              "      <td>Female</td>\n",
              "      <td>Yes</td>\n",
              "      <td>Yes</td>\n",
              "      <td>Engineer</td>\n",
              "      <td>Average</td>\n",
              "      <td>Cat_4</td>\n",
              "      <td>A</td>\n",
              "    </tr>\n",
              "    <tr>\n",
              "      <th>466315</th>\n",
              "      <td>Female</td>\n",
              "      <td>Yes</td>\n",
              "      <td>Yes</td>\n",
              "      <td>Engineer</td>\n",
              "      <td>Low</td>\n",
              "      <td>Cat_6</td>\n",
              "      <td>B</td>\n",
              "    </tr>\n",
              "    <tr>\n",
              "      <th>461735</th>\n",
              "      <td>Male</td>\n",
              "      <td>Yes</td>\n",
              "      <td>Yes</td>\n",
              "      <td>Lawyer</td>\n",
              "      <td>High</td>\n",
              "      <td>Cat_6</td>\n",
              "      <td>B</td>\n",
              "    </tr>\n",
              "    <tr>\n",
              "      <th>462669</th>\n",
              "      <td>Female</td>\n",
              "      <td>Yes</td>\n",
              "      <td>Yes</td>\n",
              "      <td>Entertainment</td>\n",
              "      <td>High</td>\n",
              "      <td>Cat_6</td>\n",
              "      <td>A</td>\n",
              "    </tr>\n",
              "    <tr>\n",
              "      <th>...</th>\n",
              "      <td>...</td>\n",
              "      <td>...</td>\n",
              "      <td>...</td>\n",
              "      <td>...</td>\n",
              "      <td>...</td>\n",
              "      <td>...</td>\n",
              "      <td>...</td>\n",
              "    </tr>\n",
              "    <tr>\n",
              "      <th>464018</th>\n",
              "      <td>Male</td>\n",
              "      <td>No</td>\n",
              "      <td>No</td>\n",
              "      <td>Unknown</td>\n",
              "      <td>Low</td>\n",
              "      <td>Cat_1</td>\n",
              "      <td>D</td>\n",
              "    </tr>\n",
              "    <tr>\n",
              "      <th>464685</th>\n",
              "      <td>Male</td>\n",
              "      <td>No</td>\n",
              "      <td>No</td>\n",
              "      <td>Executive</td>\n",
              "      <td>Low</td>\n",
              "      <td>Cat_4</td>\n",
              "      <td>D</td>\n",
              "    </tr>\n",
              "    <tr>\n",
              "      <th>465406</th>\n",
              "      <td>Female</td>\n",
              "      <td>No</td>\n",
              "      <td>Yes</td>\n",
              "      <td>Healthcare</td>\n",
              "      <td>Low</td>\n",
              "      <td>Cat_6</td>\n",
              "      <td>D</td>\n",
              "    </tr>\n",
              "    <tr>\n",
              "      <th>467299</th>\n",
              "      <td>Female</td>\n",
              "      <td>No</td>\n",
              "      <td>Yes</td>\n",
              "      <td>Healthcare</td>\n",
              "      <td>Low</td>\n",
              "      <td>Cat_6</td>\n",
              "      <td>B</td>\n",
              "    </tr>\n",
              "    <tr>\n",
              "      <th>461879</th>\n",
              "      <td>Male</td>\n",
              "      <td>Yes</td>\n",
              "      <td>Yes</td>\n",
              "      <td>Executive</td>\n",
              "      <td>Average</td>\n",
              "      <td>Cat_4</td>\n",
              "      <td>B</td>\n",
              "    </tr>\n",
              "  </tbody>\n",
              "</table>\n",
              "<p>8068 rows × 7 columns</p>\n",
              "</div>"
            ],
            "text/plain": [
              "        Gender Ever_Married Graduated     Profession Spending_Score  Var_1  \\\n",
              "ID                                                                           \n",
              "462809    Male           No        No     Healthcare            Low  Cat_4   \n",
              "462643  Female          Yes       Yes       Engineer        Average  Cat_4   \n",
              "466315  Female          Yes       Yes       Engineer            Low  Cat_6   \n",
              "461735    Male          Yes       Yes         Lawyer           High  Cat_6   \n",
              "462669  Female          Yes       Yes  Entertainment           High  Cat_6   \n",
              "...        ...          ...       ...            ...            ...    ...   \n",
              "464018    Male           No        No        Unknown            Low  Cat_1   \n",
              "464685    Male           No        No      Executive            Low  Cat_4   \n",
              "465406  Female           No       Yes     Healthcare            Low  Cat_6   \n",
              "467299  Female           No       Yes     Healthcare            Low  Cat_6   \n",
              "461879    Male          Yes       Yes      Executive        Average  Cat_4   \n",
              "\n",
              "       Segmentation  \n",
              "ID                   \n",
              "462809            D  \n",
              "462643            A  \n",
              "466315            B  \n",
              "461735            B  \n",
              "462669            A  \n",
              "...             ...  \n",
              "464018            D  \n",
              "464685            D  \n",
              "465406            D  \n",
              "467299            B  \n",
              "461879            B  \n",
              "\n",
              "[8068 rows x 7 columns]"
            ]
          },
          "execution_count": 77,
          "metadata": {},
          "output_type": "execute_result"
        }
      ],
      "source": [
        "category_columns = df.select_dtypes(include=\"object\")\n",
        "category_columns"
      ]
    },
    {
      "cell_type": "code",
      "execution_count": 83,
      "metadata": {},
      "outputs": [
        {
          "data": {
            "text/plain": [
              "(-1.0, 7.0)"
            ]
          },
          "execution_count": 83,
          "metadata": {},
          "output_type": "execute_result"
        }
      ],
      "source": [
        "Q1 = df.Family_Size.quantile(0.25)\n",
        "Q2 = df.Family_Size.quantile(0.75)\n",
        "IQR = Q2 - Q1\n",
        "Q1 - 1.5 * IQR, Q2 + 1.5*IQR"
      ]
    },
    {
      "cell_type": "code",
      "execution_count": 84,
      "metadata": {},
      "outputs": [
        {
          "data": {
            "text/plain": [
              "Family_Size\n",
              "2.0    2390\n",
              "3.0    1832\n",
              "1.0    1453\n",
              "4.0    1379\n",
              "5.0     612\n",
              "6.0     212\n",
              "7.0      96\n",
              "8.0      50\n",
              "9.0      44\n",
              "Name: count, dtype: int64"
            ]
          },
          "execution_count": 84,
          "metadata": {},
          "output_type": "execute_result"
        }
      ],
      "source": [
        "df.Family_Size.value_counts()"
      ]
    },
    {
      "cell_type": "markdown",
      "metadata": {},
      "source": [
        "по цьому полю викидів є 94 кейси"
      ]
    },
    {
      "cell_type": "code",
      "execution_count": 86,
      "metadata": {},
      "outputs": [
        {
          "data": {
            "text/html": [
              "<div>\n",
              "<style scoped>\n",
              "    .dataframe tbody tr th:only-of-type {\n",
              "        vertical-align: middle;\n",
              "    }\n",
              "\n",
              "    .dataframe tbody tr th {\n",
              "        vertical-align: top;\n",
              "    }\n",
              "\n",
              "    .dataframe thead th {\n",
              "        text-align: right;\n",
              "    }\n",
              "</style>\n",
              "<table border=\"1\" class=\"dataframe\">\n",
              "  <thead>\n",
              "    <tr style=\"text-align: right;\">\n",
              "      <th></th>\n",
              "      <th>Age</th>\n",
              "      <th>Work_Experience</th>\n",
              "      <th>Family_Size</th>\n",
              "      <th>Work_Experience_was_missed</th>\n",
              "      <th>Family_Size_was_missed</th>\n",
              "    </tr>\n",
              "  </thead>\n",
              "  <tbody>\n",
              "    <tr>\n",
              "      <th>Age</th>\n",
              "      <td>1.000000</td>\n",
              "      <td>-0.177344</td>\n",
              "      <td>-0.273373</td>\n",
              "      <td>0.000560</td>\n",
              "      <td>-0.006819</td>\n",
              "    </tr>\n",
              "    <tr>\n",
              "      <th>Work_Experience</th>\n",
              "      <td>-0.177344</td>\n",
              "      <td>1.000000</td>\n",
              "      <td>-0.059692</td>\n",
              "      <td>-0.152667</td>\n",
              "      <td>0.001818</td>\n",
              "    </tr>\n",
              "    <tr>\n",
              "      <th>Family_Size</th>\n",
              "      <td>-0.273373</td>\n",
              "      <td>-0.059692</td>\n",
              "      <td>1.000000</td>\n",
              "      <td>0.012547</td>\n",
              "      <td>0.019940</td>\n",
              "    </tr>\n",
              "    <tr>\n",
              "      <th>Work_Experience_was_missed</th>\n",
              "      <td>0.000560</td>\n",
              "      <td>-0.152667</td>\n",
              "      <td>0.012547</td>\n",
              "      <td>1.000000</td>\n",
              "      <td>0.062570</td>\n",
              "    </tr>\n",
              "    <tr>\n",
              "      <th>Family_Size_was_missed</th>\n",
              "      <td>-0.006819</td>\n",
              "      <td>0.001818</td>\n",
              "      <td>0.019940</td>\n",
              "      <td>0.062570</td>\n",
              "      <td>1.000000</td>\n",
              "    </tr>\n",
              "  </tbody>\n",
              "</table>\n",
              "</div>"
            ],
            "text/plain": [
              "                                 Age  Work_Experience  Family_Size  \\\n",
              "Age                         1.000000        -0.177344    -0.273373   \n",
              "Work_Experience            -0.177344         1.000000    -0.059692   \n",
              "Family_Size                -0.273373        -0.059692     1.000000   \n",
              "Work_Experience_was_missed  0.000560        -0.152667     0.012547   \n",
              "Family_Size_was_missed     -0.006819         0.001818     0.019940   \n",
              "\n",
              "                            Work_Experience_was_missed  Family_Size_was_missed  \n",
              "Age                                           0.000560               -0.006819  \n",
              "Work_Experience                              -0.152667                0.001818  \n",
              "Family_Size                                   0.012547                0.019940  \n",
              "Work_Experience_was_missed                    1.000000                0.062570  \n",
              "Family_Size_was_missed                        0.062570                1.000000  "
            ]
          },
          "execution_count": 86,
          "metadata": {},
          "output_type": "execute_result"
        }
      ],
      "source": [
        "corrdf = df.select_dtypes(\"number\").corr()\n",
        "corrdf"
      ]
    },
    {
      "cell_type": "code",
      "execution_count": 87,
      "metadata": {},
      "outputs": [
        {
          "data": {
            "text/plain": [
              "Segmentation\n",
              "D    2268\n",
              "A    1972\n",
              "C    1970\n",
              "B    1858\n",
              "Name: count, dtype: int64"
            ]
          },
          "execution_count": 87,
          "metadata": {},
          "output_type": "execute_result"
        }
      ],
      "source": [
        "df.Segmentation.value_counts()"
      ]
    },
    {
      "cell_type": "code",
      "execution_count": 91,
      "metadata": {},
      "outputs": [],
      "source": [
        "train_X, test_X, train_target, test_target = train_test_split(df.drop(columns=\"Segmentation\"), df.Segmentation, test_size=0.4, random_state=42, stratify=df.Segmentation)"
      ]
    },
    {
      "cell_type": "code",
      "execution_count": 93,
      "metadata": {},
      "outputs": [
        {
          "data": {
            "text/html": [
              "<div>\n",
              "<style scoped>\n",
              "    .dataframe tbody tr th:only-of-type {\n",
              "        vertical-align: middle;\n",
              "    }\n",
              "\n",
              "    .dataframe tbody tr th {\n",
              "        vertical-align: top;\n",
              "    }\n",
              "\n",
              "    .dataframe thead th {\n",
              "        text-align: right;\n",
              "    }\n",
              "</style>\n",
              "<table border=\"1\" class=\"dataframe\">\n",
              "  <thead>\n",
              "    <tr style=\"text-align: right;\">\n",
              "      <th></th>\n",
              "      <th>Gender</th>\n",
              "      <th>Ever_Married</th>\n",
              "      <th>Age</th>\n",
              "      <th>Graduated</th>\n",
              "      <th>Profession</th>\n",
              "      <th>Work_Experience</th>\n",
              "      <th>Spending_Score</th>\n",
              "      <th>Family_Size</th>\n",
              "      <th>Var_1</th>\n",
              "      <th>Segmentation</th>\n",
              "      <th>Work_Experience_was_missed</th>\n",
              "      <th>Family_Size_was_missed</th>\n",
              "    </tr>\n",
              "    <tr>\n",
              "      <th>ID</th>\n",
              "      <th></th>\n",
              "      <th></th>\n",
              "      <th></th>\n",
              "      <th></th>\n",
              "      <th></th>\n",
              "      <th></th>\n",
              "      <th></th>\n",
              "      <th></th>\n",
              "      <th></th>\n",
              "      <th></th>\n",
              "      <th></th>\n",
              "      <th></th>\n",
              "    </tr>\n",
              "  </thead>\n",
              "  <tbody>\n",
              "    <tr>\n",
              "      <th>462809</th>\n",
              "      <td>Male</td>\n",
              "      <td>No</td>\n",
              "      <td>22</td>\n",
              "      <td>No</td>\n",
              "      <td>Healthcare</td>\n",
              "      <td>1.0</td>\n",
              "      <td>Low</td>\n",
              "      <td>4.0</td>\n",
              "      <td>Cat_4</td>\n",
              "      <td>D</td>\n",
              "      <td>0</td>\n",
              "      <td>0</td>\n",
              "    </tr>\n",
              "    <tr>\n",
              "      <th>462643</th>\n",
              "      <td>Female</td>\n",
              "      <td>Yes</td>\n",
              "      <td>38</td>\n",
              "      <td>Yes</td>\n",
              "      <td>Engineer</td>\n",
              "      <td>1.0</td>\n",
              "      <td>Average</td>\n",
              "      <td>3.0</td>\n",
              "      <td>Cat_4</td>\n",
              "      <td>A</td>\n",
              "      <td>1</td>\n",
              "      <td>0</td>\n",
              "    </tr>\n",
              "    <tr>\n",
              "      <th>466315</th>\n",
              "      <td>Female</td>\n",
              "      <td>Yes</td>\n",
              "      <td>67</td>\n",
              "      <td>Yes</td>\n",
              "      <td>Engineer</td>\n",
              "      <td>1.0</td>\n",
              "      <td>Low</td>\n",
              "      <td>1.0</td>\n",
              "      <td>Cat_6</td>\n",
              "      <td>B</td>\n",
              "      <td>0</td>\n",
              "      <td>0</td>\n",
              "    </tr>\n",
              "    <tr>\n",
              "      <th>461735</th>\n",
              "      <td>Male</td>\n",
              "      <td>Yes</td>\n",
              "      <td>67</td>\n",
              "      <td>Yes</td>\n",
              "      <td>Lawyer</td>\n",
              "      <td>0.0</td>\n",
              "      <td>High</td>\n",
              "      <td>2.0</td>\n",
              "      <td>Cat_6</td>\n",
              "      <td>B</td>\n",
              "      <td>0</td>\n",
              "      <td>0</td>\n",
              "    </tr>\n",
              "    <tr>\n",
              "      <th>462669</th>\n",
              "      <td>Female</td>\n",
              "      <td>Yes</td>\n",
              "      <td>40</td>\n",
              "      <td>Yes</td>\n",
              "      <td>Entertainment</td>\n",
              "      <td>1.0</td>\n",
              "      <td>High</td>\n",
              "      <td>6.0</td>\n",
              "      <td>Cat_6</td>\n",
              "      <td>A</td>\n",
              "      <td>1</td>\n",
              "      <td>0</td>\n",
              "    </tr>\n",
              "  </tbody>\n",
              "</table>\n",
              "</div>"
            ],
            "text/plain": [
              "        Gender Ever_Married  Age Graduated     Profession  Work_Experience  \\\n",
              "ID                                                                           \n",
              "462809    Male           No   22        No     Healthcare              1.0   \n",
              "462643  Female          Yes   38       Yes       Engineer              1.0   \n",
              "466315  Female          Yes   67       Yes       Engineer              1.0   \n",
              "461735    Male          Yes   67       Yes         Lawyer              0.0   \n",
              "462669  Female          Yes   40       Yes  Entertainment              1.0   \n",
              "\n",
              "       Spending_Score  Family_Size  Var_1 Segmentation  \\\n",
              "ID                                                       \n",
              "462809            Low          4.0  Cat_4            D   \n",
              "462643        Average          3.0  Cat_4            A   \n",
              "466315            Low          1.0  Cat_6            B   \n",
              "461735           High          2.0  Cat_6            B   \n",
              "462669           High          6.0  Cat_6            A   \n",
              "\n",
              "        Work_Experience_was_missed  Family_Size_was_missed  \n",
              "ID                                                          \n",
              "462809                           0                       0  \n",
              "462643                           1                       0  \n",
              "466315                           0                       0  \n",
              "461735                           0                       0  \n",
              "462669                           1                       0  "
            ]
          },
          "execution_count": 93,
          "metadata": {},
          "output_type": "execute_result"
        }
      ],
      "source": [
        "df.head()"
      ]
    },
    {
      "cell_type": "code",
      "execution_count": 95,
      "metadata": {},
      "outputs": [
        {
          "data": {
            "text/plain": [
              "Spending_Score\n",
              "Low        4878\n",
              "Average    1974\n",
              "High       1216\n",
              "Name: count, dtype: int64"
            ]
          },
          "execution_count": 95,
          "metadata": {},
          "output_type": "execute_result"
        }
      ],
      "source": [
        "df.Spending_Score.value_counts()"
      ]
    },
    {
      "cell_type": "code",
      "execution_count": 108,
      "metadata": {},
      "outputs": [
        {
          "name": "stdout",
          "output_type": "stream",
          "text": [
            "['Gender', 'Ever_Married', 'Graduated', 'Profession', 'Var_1']\n",
            "['Spending_Score']\n",
            "['Age', 'Work_Experience', 'Family_Size', 'Work_Experience_was_missed', 'Family_Size_was_missed']\n"
          ]
        }
      ],
      "source": [
        "category_columns_list = category_columns.drop(columns=['Spending_Score', 'Segmentation']).columns.to_list()\n",
        "print(category_columns_list)\n",
        "category_columns_list2 = ['Spending_Score']\n",
        "print(category_columns_list2)\n",
        "number_columns_list = number_columns.columns.to_list()\n",
        "print(number_columns_list)\n"
      ]
    },
    {
      "cell_type": "code",
      "execution_count": 126,
      "metadata": {},
      "outputs": [],
      "source": [
        "ordinal_categories = ['Spending_Score']\n",
        "numeric_transformer = Pipeline(\n",
        "    steps=[\n",
        "        ('scaler', MinMaxScaler())\n",
        "    ]\n",
        ")\n",
        "categorical_transfromer = Pipeline(\n",
        "    steps=[\n",
        "        ('onehot', OneHotEncoder(sparse=False, handle_unknown='ignore'))\n",
        "    ]\n",
        ")\n",
        "\n",
        "categorical_transfromer2 = Pipeline(\n",
        "    steps=[\n",
        "        ('ordinary', OrdinalEncoder(categories=[['Low', 'Average', 'High']]))\n",
        "    ]\n",
        ")\n",
        "\n",
        "categorical_transfromer3 = Pipeline(\n",
        "    steps=[\n",
        "        ('onehot', OneHotEncoder(sparse=False, handle_unknown='ignore'))\n",
        "    ]\n",
        ")\n",
        "\n",
        "preprocessor = ColumnTransformer(\n",
        "    transformers=[\n",
        "        ('num', numeric_transformer, number_columns_list),\n",
        "        ('cat', categorical_transfromer, category_columns_list),\n",
        "        ('cat2', categorical_transfromer2, category_columns_list2)\n",
        "    ]\n",
        ")"
      ]
    },
    {
      "cell_type": "markdown",
      "metadata": {
        "id": "fhJzCBA7P0f8"
      },
      "source": [
        "**Завдання 2. Важливо уважно прочитати все формулювання цього завдання до кінця!**\n",
        "\n",
        "Застосуйте методи ресемплингу даних SMOTE та SMOTE-Tomek з бібліотеки imbalanced-learn до тренувальної вибірки. В результаті у Вас має вийти 2 тренувальних набори: з апсемплингом зі SMOTE, та з ресамплингом з SMOTE-Tomek.\n",
        "\n",
        "Увага! В нашому наборі даних є як категоріальні дані, так і звичайні числові. Базовий SMOTE не буде правильно працювати з категоріальними даними, але є його модифікація, яка буде. Тому в цього завдання є 2 виконання\n",
        "\n",
        "  1. Застосувати SMOTE базовий лише на НЕкатегоріальних ознаках і порівняти лін регресію на апсампл даних без категоріальних ознак.\n",
        "\n",
        "  2. Переглянути інформацію про метод [SMOTENC](https://imbalanced-learn.org/dev/references/generated/imblearn.over_sampling.SMOTENC.html#imblearn.over_sampling.SMOTENC) і використати цей метод в цій задачі. За цей спосіб буде +3 бали за це завдання і він рекомендований для виконання.\n",
        "\n",
        "  **Підказка**: аби скористатись SMOTENC треба створити змінну, яка містить індекси ознак, які є категоріальними (їх номер серед колонок) і передати при ініціації екземпляра класу `SMOTENC(..., categorical_features=cat_feature_indeces)`.\n",
        "  \n",
        "  Ви також можете розглянути варіант використання варіації SMOTE, який працює ЛИШЕ з категоріальними ознаками [SMOTEN](https://imbalanced-learn.org/dev/references/generated/imblearn.over_sampling.SMOTEN.html)"
      ]
    },
    {
      "cell_type": "code",
      "execution_count": 127,
      "metadata": {},
      "outputs": [],
      "source": [
        "model = Pipeline(\n",
        "    steps=[\n",
        "        ('preproc', preprocessor),\n",
        "        ('classifier', LogisticRegression(solver='liblinear'))\n",
        "    ]\n",
        ")"
      ]
    },
    {
      "cell_type": "code",
      "execution_count": 128,
      "metadata": {},
      "outputs": [
        {
          "name": "stderr",
          "output_type": "stream",
          "text": [
            "/opt/anaconda3/lib/python3.11/site-packages/sklearn/preprocessing/_encoders.py:868: FutureWarning: `sparse` was renamed to `sparse_output` in version 1.2 and will be removed in 1.4. `sparse_output` is ignored unless you leave `sparse` to its default value.\n",
            "  warnings.warn(\n"
          ]
        },
        {
          "data": {
            "text/html": [
              "<style>#sk-container-id-3 {color: black;background-color: white;}#sk-container-id-3 pre{padding: 0;}#sk-container-id-3 div.sk-toggleable {background-color: white;}#sk-container-id-3 label.sk-toggleable__label {cursor: pointer;display: block;width: 100%;margin-bottom: 0;padding: 0.3em;box-sizing: border-box;text-align: center;}#sk-container-id-3 label.sk-toggleable__label-arrow:before {content: \"▸\";float: left;margin-right: 0.25em;color: #696969;}#sk-container-id-3 label.sk-toggleable__label-arrow:hover:before {color: black;}#sk-container-id-3 div.sk-estimator:hover label.sk-toggleable__label-arrow:before {color: black;}#sk-container-id-3 div.sk-toggleable__content {max-height: 0;max-width: 0;overflow: hidden;text-align: left;background-color: #f0f8ff;}#sk-container-id-3 div.sk-toggleable__content pre {margin: 0.2em;color: black;border-radius: 0.25em;background-color: #f0f8ff;}#sk-container-id-3 input.sk-toggleable__control:checked~div.sk-toggleable__content {max-height: 200px;max-width: 100%;overflow: auto;}#sk-container-id-3 input.sk-toggleable__control:checked~label.sk-toggleable__label-arrow:before {content: \"▾\";}#sk-container-id-3 div.sk-estimator input.sk-toggleable__control:checked~label.sk-toggleable__label {background-color: #d4ebff;}#sk-container-id-3 div.sk-label input.sk-toggleable__control:checked~label.sk-toggleable__label {background-color: #d4ebff;}#sk-container-id-3 input.sk-hidden--visually {border: 0;clip: rect(1px 1px 1px 1px);clip: rect(1px, 1px, 1px, 1px);height: 1px;margin: -1px;overflow: hidden;padding: 0;position: absolute;width: 1px;}#sk-container-id-3 div.sk-estimator {font-family: monospace;background-color: #f0f8ff;border: 1px dotted black;border-radius: 0.25em;box-sizing: border-box;margin-bottom: 0.5em;}#sk-container-id-3 div.sk-estimator:hover {background-color: #d4ebff;}#sk-container-id-3 div.sk-parallel-item::after {content: \"\";width: 100%;border-bottom: 1px solid gray;flex-grow: 1;}#sk-container-id-3 div.sk-label:hover label.sk-toggleable__label {background-color: #d4ebff;}#sk-container-id-3 div.sk-serial::before {content: \"\";position: absolute;border-left: 1px solid gray;box-sizing: border-box;top: 0;bottom: 0;left: 50%;z-index: 0;}#sk-container-id-3 div.sk-serial {display: flex;flex-direction: column;align-items: center;background-color: white;padding-right: 0.2em;padding-left: 0.2em;position: relative;}#sk-container-id-3 div.sk-item {position: relative;z-index: 1;}#sk-container-id-3 div.sk-parallel {display: flex;align-items: stretch;justify-content: center;background-color: white;position: relative;}#sk-container-id-3 div.sk-item::before, #sk-container-id-3 div.sk-parallel-item::before {content: \"\";position: absolute;border-left: 1px solid gray;box-sizing: border-box;top: 0;bottom: 0;left: 50%;z-index: -1;}#sk-container-id-3 div.sk-parallel-item {display: flex;flex-direction: column;z-index: 1;position: relative;background-color: white;}#sk-container-id-3 div.sk-parallel-item:first-child::after {align-self: flex-end;width: 50%;}#sk-container-id-3 div.sk-parallel-item:last-child::after {align-self: flex-start;width: 50%;}#sk-container-id-3 div.sk-parallel-item:only-child::after {width: 0;}#sk-container-id-3 div.sk-dashed-wrapped {border: 1px dashed gray;margin: 0 0.4em 0.5em 0.4em;box-sizing: border-box;padding-bottom: 0.4em;background-color: white;}#sk-container-id-3 div.sk-label label {font-family: monospace;font-weight: bold;display: inline-block;line-height: 1.2em;}#sk-container-id-3 div.sk-label-container {text-align: center;}#sk-container-id-3 div.sk-container {/* jupyter's `normalize.less` sets `[hidden] { display: none; }` but bootstrap.min.css set `[hidden] { display: none !important; }` so we also need the `!important` here to be able to override the default hidden behavior on the sphinx rendered scikit-learn.org. See: https://github.com/scikit-learn/scikit-learn/issues/21755 */display: inline-block !important;position: relative;}#sk-container-id-3 div.sk-text-repr-fallback {display: none;}</style><div id=\"sk-container-id-3\" class=\"sk-top-container\"><div class=\"sk-text-repr-fallback\"><pre>Pipeline(steps=[(&#x27;preproc&#x27;,\n",
              "                 ColumnTransformer(transformers=[(&#x27;num&#x27;,\n",
              "                                                  Pipeline(steps=[(&#x27;scaler&#x27;,\n",
              "                                                                   MinMaxScaler())]),\n",
              "                                                  [&#x27;Age&#x27;, &#x27;Work_Experience&#x27;,\n",
              "                                                   &#x27;Family_Size&#x27;,\n",
              "                                                   &#x27;Work_Experience_was_missed&#x27;,\n",
              "                                                   &#x27;Family_Size_was_missed&#x27;]),\n",
              "                                                 (&#x27;cat&#x27;,\n",
              "                                                  Pipeline(steps=[(&#x27;onehot&#x27;,\n",
              "                                                                   OneHotEncoder(handle_unknown=&#x27;ignore&#x27;,\n",
              "                                                                                 sparse=False))]),\n",
              "                                                  [&#x27;Gender&#x27;, &#x27;Ever_Married&#x27;,\n",
              "                                                   &#x27;Graduated&#x27;, &#x27;Profession&#x27;,\n",
              "                                                   &#x27;Var_1&#x27;]),\n",
              "                                                 (&#x27;cat2&#x27;,\n",
              "                                                  Pipeline(steps=[(&#x27;ordinary&#x27;,\n",
              "                                                                   OrdinalEncoder(categories=[[&#x27;Low&#x27;,\n",
              "                                                                                               &#x27;Average&#x27;,\n",
              "                                                                                               &#x27;High&#x27;]]))]),\n",
              "                                                  [&#x27;Spending_Score&#x27;])])),\n",
              "                (&#x27;classifier&#x27;, LogisticRegression(solver=&#x27;liblinear&#x27;))])</pre><b>In a Jupyter environment, please rerun this cell to show the HTML representation or trust the notebook. <br />On GitHub, the HTML representation is unable to render, please try loading this page with nbviewer.org.</b></div><div class=\"sk-container\" hidden><div class=\"sk-item sk-dashed-wrapped\"><div class=\"sk-label-container\"><div class=\"sk-label sk-toggleable\"><input class=\"sk-toggleable__control sk-hidden--visually\" id=\"sk-estimator-id-17\" type=\"checkbox\" ><label for=\"sk-estimator-id-17\" class=\"sk-toggleable__label sk-toggleable__label-arrow\">Pipeline</label><div class=\"sk-toggleable__content\"><pre>Pipeline(steps=[(&#x27;preproc&#x27;,\n",
              "                 ColumnTransformer(transformers=[(&#x27;num&#x27;,\n",
              "                                                  Pipeline(steps=[(&#x27;scaler&#x27;,\n",
              "                                                                   MinMaxScaler())]),\n",
              "                                                  [&#x27;Age&#x27;, &#x27;Work_Experience&#x27;,\n",
              "                                                   &#x27;Family_Size&#x27;,\n",
              "                                                   &#x27;Work_Experience_was_missed&#x27;,\n",
              "                                                   &#x27;Family_Size_was_missed&#x27;]),\n",
              "                                                 (&#x27;cat&#x27;,\n",
              "                                                  Pipeline(steps=[(&#x27;onehot&#x27;,\n",
              "                                                                   OneHotEncoder(handle_unknown=&#x27;ignore&#x27;,\n",
              "                                                                                 sparse=False))]),\n",
              "                                                  [&#x27;Gender&#x27;, &#x27;Ever_Married&#x27;,\n",
              "                                                   &#x27;Graduated&#x27;, &#x27;Profession&#x27;,\n",
              "                                                   &#x27;Var_1&#x27;]),\n",
              "                                                 (&#x27;cat2&#x27;,\n",
              "                                                  Pipeline(steps=[(&#x27;ordinary&#x27;,\n",
              "                                                                   OrdinalEncoder(categories=[[&#x27;Low&#x27;,\n",
              "                                                                                               &#x27;Average&#x27;,\n",
              "                                                                                               &#x27;High&#x27;]]))]),\n",
              "                                                  [&#x27;Spending_Score&#x27;])])),\n",
              "                (&#x27;classifier&#x27;, LogisticRegression(solver=&#x27;liblinear&#x27;))])</pre></div></div></div><div class=\"sk-serial\"><div class=\"sk-item sk-dashed-wrapped\"><div class=\"sk-label-container\"><div class=\"sk-label sk-toggleable\"><input class=\"sk-toggleable__control sk-hidden--visually\" id=\"sk-estimator-id-18\" type=\"checkbox\" ><label for=\"sk-estimator-id-18\" class=\"sk-toggleable__label sk-toggleable__label-arrow\">preproc: ColumnTransformer</label><div class=\"sk-toggleable__content\"><pre>ColumnTransformer(transformers=[(&#x27;num&#x27;,\n",
              "                                 Pipeline(steps=[(&#x27;scaler&#x27;, MinMaxScaler())]),\n",
              "                                 [&#x27;Age&#x27;, &#x27;Work_Experience&#x27;, &#x27;Family_Size&#x27;,\n",
              "                                  &#x27;Work_Experience_was_missed&#x27;,\n",
              "                                  &#x27;Family_Size_was_missed&#x27;]),\n",
              "                                (&#x27;cat&#x27;,\n",
              "                                 Pipeline(steps=[(&#x27;onehot&#x27;,\n",
              "                                                  OneHotEncoder(handle_unknown=&#x27;ignore&#x27;,\n",
              "                                                                sparse=False))]),\n",
              "                                 [&#x27;Gender&#x27;, &#x27;Ever_Married&#x27;, &#x27;Graduated&#x27;,\n",
              "                                  &#x27;Profession&#x27;, &#x27;Var_1&#x27;]),\n",
              "                                (&#x27;cat2&#x27;,\n",
              "                                 Pipeline(steps=[(&#x27;ordinary&#x27;,\n",
              "                                                  OrdinalEncoder(categories=[[&#x27;Low&#x27;,\n",
              "                                                                              &#x27;Average&#x27;,\n",
              "                                                                              &#x27;High&#x27;]]))]),\n",
              "                                 [&#x27;Spending_Score&#x27;])])</pre></div></div></div><div class=\"sk-parallel\"><div class=\"sk-parallel-item\"><div class=\"sk-item\"><div class=\"sk-label-container\"><div class=\"sk-label sk-toggleable\"><input class=\"sk-toggleable__control sk-hidden--visually\" id=\"sk-estimator-id-19\" type=\"checkbox\" ><label for=\"sk-estimator-id-19\" class=\"sk-toggleable__label sk-toggleable__label-arrow\">num</label><div class=\"sk-toggleable__content\"><pre>[&#x27;Age&#x27;, &#x27;Work_Experience&#x27;, &#x27;Family_Size&#x27;, &#x27;Work_Experience_was_missed&#x27;, &#x27;Family_Size_was_missed&#x27;]</pre></div></div></div><div class=\"sk-serial\"><div class=\"sk-item\"><div class=\"sk-serial\"><div class=\"sk-item\"><div class=\"sk-estimator sk-toggleable\"><input class=\"sk-toggleable__control sk-hidden--visually\" id=\"sk-estimator-id-20\" type=\"checkbox\" ><label for=\"sk-estimator-id-20\" class=\"sk-toggleable__label sk-toggleable__label-arrow\">MinMaxScaler</label><div class=\"sk-toggleable__content\"><pre>MinMaxScaler()</pre></div></div></div></div></div></div></div></div><div class=\"sk-parallel-item\"><div class=\"sk-item\"><div class=\"sk-label-container\"><div class=\"sk-label sk-toggleable\"><input class=\"sk-toggleable__control sk-hidden--visually\" id=\"sk-estimator-id-21\" type=\"checkbox\" ><label for=\"sk-estimator-id-21\" class=\"sk-toggleable__label sk-toggleable__label-arrow\">cat</label><div class=\"sk-toggleable__content\"><pre>[&#x27;Gender&#x27;, &#x27;Ever_Married&#x27;, &#x27;Graduated&#x27;, &#x27;Profession&#x27;, &#x27;Var_1&#x27;]</pre></div></div></div><div class=\"sk-serial\"><div class=\"sk-item\"><div class=\"sk-serial\"><div class=\"sk-item\"><div class=\"sk-estimator sk-toggleable\"><input class=\"sk-toggleable__control sk-hidden--visually\" id=\"sk-estimator-id-22\" type=\"checkbox\" ><label for=\"sk-estimator-id-22\" class=\"sk-toggleable__label sk-toggleable__label-arrow\">OneHotEncoder</label><div class=\"sk-toggleable__content\"><pre>OneHotEncoder(handle_unknown=&#x27;ignore&#x27;, sparse=False)</pre></div></div></div></div></div></div></div></div><div class=\"sk-parallel-item\"><div class=\"sk-item\"><div class=\"sk-label-container\"><div class=\"sk-label sk-toggleable\"><input class=\"sk-toggleable__control sk-hidden--visually\" id=\"sk-estimator-id-23\" type=\"checkbox\" ><label for=\"sk-estimator-id-23\" class=\"sk-toggleable__label sk-toggleable__label-arrow\">cat2</label><div class=\"sk-toggleable__content\"><pre>[&#x27;Spending_Score&#x27;]</pre></div></div></div><div class=\"sk-serial\"><div class=\"sk-item\"><div class=\"sk-serial\"><div class=\"sk-item\"><div class=\"sk-estimator sk-toggleable\"><input class=\"sk-toggleable__control sk-hidden--visually\" id=\"sk-estimator-id-24\" type=\"checkbox\" ><label for=\"sk-estimator-id-24\" class=\"sk-toggleable__label sk-toggleable__label-arrow\">OrdinalEncoder</label><div class=\"sk-toggleable__content\"><pre>OrdinalEncoder(categories=[[&#x27;Low&#x27;, &#x27;Average&#x27;, &#x27;High&#x27;]])</pre></div></div></div></div></div></div></div></div></div></div><div class=\"sk-item\"><div class=\"sk-estimator sk-toggleable\"><input class=\"sk-toggleable__control sk-hidden--visually\" id=\"sk-estimator-id-25\" type=\"checkbox\" ><label for=\"sk-estimator-id-25\" class=\"sk-toggleable__label sk-toggleable__label-arrow\">LogisticRegression</label><div class=\"sk-toggleable__content\"><pre>LogisticRegression(solver=&#x27;liblinear&#x27;)</pre></div></div></div></div></div></div></div>"
            ],
            "text/plain": [
              "Pipeline(steps=[('preproc',\n",
              "                 ColumnTransformer(transformers=[('num',\n",
              "                                                  Pipeline(steps=[('scaler',\n",
              "                                                                   MinMaxScaler())]),\n",
              "                                                  ['Age', 'Work_Experience',\n",
              "                                                   'Family_Size',\n",
              "                                                   'Work_Experience_was_missed',\n",
              "                                                   'Family_Size_was_missed']),\n",
              "                                                 ('cat',\n",
              "                                                  Pipeline(steps=[('onehot',\n",
              "                                                                   OneHotEncoder(handle_unknown='ignore',\n",
              "                                                                                 sparse=False))]),\n",
              "                                                  ['Gender', 'Ever_Married',\n",
              "                                                   'Graduated', 'Profession',\n",
              "                                                   'Var_1']),\n",
              "                                                 ('cat2',\n",
              "                                                  Pipeline(steps=[('ordinary',\n",
              "                                                                   OrdinalEncoder(categories=[['Low',\n",
              "                                                                                               'Average',\n",
              "                                                                                               'High']]))]),\n",
              "                                                  ['Spending_Score'])])),\n",
              "                ('classifier', LogisticRegression(solver='liblinear'))])"
            ]
          },
          "execution_count": 128,
          "metadata": {},
          "output_type": "execute_result"
        }
      ],
      "source": [
        "model.fit(train_X, train_target)"
      ]
    },
    {
      "cell_type": "code",
      "execution_count": 135,
      "metadata": {},
      "outputs": [
        {
          "name": "stdout",
          "output_type": "stream",
          "text": [
            "              precision    recall  f1-score   support\n",
            "\n",
            "           A       0.43      0.45      0.44       789\n",
            "           B       0.39      0.15      0.22       743\n",
            "           C       0.46      0.63      0.53       788\n",
            "           D       0.65      0.74      0.69       908\n",
            "\n",
            "    accuracy                           0.51      3228\n",
            "   macro avg       0.48      0.49      0.47      3228\n",
            "weighted avg       0.49      0.51      0.48      3228\n",
            "\n",
            "              precision    recall  f1-score   support\n",
            "\n",
            "           A       0.43      0.46      0.44      1183\n",
            "           B       0.39      0.15      0.22      1115\n",
            "           C       0.48      0.66      0.56      1182\n",
            "           D       0.63      0.71      0.67      1360\n",
            "\n",
            "    accuracy                           0.51      4840\n",
            "   macro avg       0.48      0.49      0.47      4840\n",
            "weighted avg       0.49      0.51      0.48      4840\n",
            "\n"
          ]
        }
      ],
      "source": [
        "y_test_pred = model.predict(test_X)\n",
        "y_train_pred = model.predict(train_X)\n",
        "print(classification_report(train_target, y_train_pred))\n",
        "print(classification_report(test_target, y_test_pred))"
      ]
    },
    {
      "cell_type": "markdown",
      "metadata": {},
      "source": [
        "Без використання  самплінгу маємо не дуже хороші результати"
      ]
    },
    {
      "cell_type": "code",
      "execution_count": 140,
      "metadata": {},
      "outputs": [
        {
          "data": {
            "text/html": [
              "<div>\n",
              "<style scoped>\n",
              "    .dataframe tbody tr th:only-of-type {\n",
              "        vertical-align: middle;\n",
              "    }\n",
              "\n",
              "    .dataframe tbody tr th {\n",
              "        vertical-align: top;\n",
              "    }\n",
              "\n",
              "    .dataframe thead th {\n",
              "        text-align: right;\n",
              "    }\n",
              "</style>\n",
              "<table border=\"1\" class=\"dataframe\">\n",
              "  <thead>\n",
              "    <tr style=\"text-align: right;\">\n",
              "      <th></th>\n",
              "      <th>Gender</th>\n",
              "      <th>Ever_Married</th>\n",
              "      <th>Age</th>\n",
              "      <th>Graduated</th>\n",
              "      <th>Profession</th>\n",
              "      <th>Work_Experience</th>\n",
              "      <th>Spending_Score</th>\n",
              "      <th>Family_Size</th>\n",
              "      <th>Var_1</th>\n",
              "      <th>Work_Experience_was_missed</th>\n",
              "      <th>Family_Size_was_missed</th>\n",
              "    </tr>\n",
              "    <tr>\n",
              "      <th>ID</th>\n",
              "      <th></th>\n",
              "      <th></th>\n",
              "      <th></th>\n",
              "      <th></th>\n",
              "      <th></th>\n",
              "      <th></th>\n",
              "      <th></th>\n",
              "      <th></th>\n",
              "      <th></th>\n",
              "      <th></th>\n",
              "      <th></th>\n",
              "    </tr>\n",
              "  </thead>\n",
              "  <tbody>\n",
              "    <tr>\n",
              "      <th>464383</th>\n",
              "      <td>Female</td>\n",
              "      <td>Yes</td>\n",
              "      <td>81</td>\n",
              "      <td>Yes</td>\n",
              "      <td>Lawyer</td>\n",
              "      <td>1.0</td>\n",
              "      <td>Low</td>\n",
              "      <td>1.0</td>\n",
              "      <td>Cat_6</td>\n",
              "      <td>0</td>\n",
              "      <td>0</td>\n",
              "    </tr>\n",
              "    <tr>\n",
              "      <th>462661</th>\n",
              "      <td>Female</td>\n",
              "      <td>Yes</td>\n",
              "      <td>62</td>\n",
              "      <td>Yes</td>\n",
              "      <td>Artist</td>\n",
              "      <td>2.0</td>\n",
              "      <td>High</td>\n",
              "      <td>3.0</td>\n",
              "      <td>Cat_6</td>\n",
              "      <td>0</td>\n",
              "      <td>0</td>\n",
              "    </tr>\n",
              "    <tr>\n",
              "      <th>462762</th>\n",
              "      <td>Male</td>\n",
              "      <td>Yes</td>\n",
              "      <td>48</td>\n",
              "      <td>Yes</td>\n",
              "      <td>Artist</td>\n",
              "      <td>0.0</td>\n",
              "      <td>High</td>\n",
              "      <td>4.0</td>\n",
              "      <td>Cat_6</td>\n",
              "      <td>0</td>\n",
              "      <td>0</td>\n",
              "    </tr>\n",
              "    <tr>\n",
              "      <th>459463</th>\n",
              "      <td>Female</td>\n",
              "      <td>Yes</td>\n",
              "      <td>62</td>\n",
              "      <td>Yes</td>\n",
              "      <td>Artist</td>\n",
              "      <td>1.0</td>\n",
              "      <td>Average</td>\n",
              "      <td>3.0</td>\n",
              "      <td>Cat_6</td>\n",
              "      <td>1</td>\n",
              "      <td>0</td>\n",
              "    </tr>\n",
              "    <tr>\n",
              "      <th>467302</th>\n",
              "      <td>Male</td>\n",
              "      <td>No</td>\n",
              "      <td>26</td>\n",
              "      <td>Yes</td>\n",
              "      <td>Executive</td>\n",
              "      <td>9.0</td>\n",
              "      <td>Low</td>\n",
              "      <td>4.0</td>\n",
              "      <td>Cat_6</td>\n",
              "      <td>0</td>\n",
              "      <td>0</td>\n",
              "    </tr>\n",
              "    <tr>\n",
              "      <th>...</th>\n",
              "      <td>...</td>\n",
              "      <td>...</td>\n",
              "      <td>...</td>\n",
              "      <td>...</td>\n",
              "      <td>...</td>\n",
              "      <td>...</td>\n",
              "      <td>...</td>\n",
              "      <td>...</td>\n",
              "      <td>...</td>\n",
              "      <td>...</td>\n",
              "      <td>...</td>\n",
              "    </tr>\n",
              "    <tr>\n",
              "      <th>465209</th>\n",
              "      <td>Male</td>\n",
              "      <td>Yes</td>\n",
              "      <td>47</td>\n",
              "      <td>Yes</td>\n",
              "      <td>Artist</td>\n",
              "      <td>0.0</td>\n",
              "      <td>Average</td>\n",
              "      <td>2.0</td>\n",
              "      <td>Cat_3</td>\n",
              "      <td>0</td>\n",
              "      <td>0</td>\n",
              "    </tr>\n",
              "    <tr>\n",
              "      <th>461652</th>\n",
              "      <td>Female</td>\n",
              "      <td>Yes</td>\n",
              "      <td>53</td>\n",
              "      <td>Yes</td>\n",
              "      <td>Artist</td>\n",
              "      <td>1.0</td>\n",
              "      <td>Average</td>\n",
              "      <td>3.0</td>\n",
              "      <td>Cat_6</td>\n",
              "      <td>0</td>\n",
              "      <td>0</td>\n",
              "    </tr>\n",
              "    <tr>\n",
              "      <th>464475</th>\n",
              "      <td>Male</td>\n",
              "      <td>No</td>\n",
              "      <td>25</td>\n",
              "      <td>Yes</td>\n",
              "      <td>Healthcare</td>\n",
              "      <td>0.0</td>\n",
              "      <td>Low</td>\n",
              "      <td>4.0</td>\n",
              "      <td>Cat_6</td>\n",
              "      <td>0</td>\n",
              "      <td>0</td>\n",
              "    </tr>\n",
              "    <tr>\n",
              "      <th>461023</th>\n",
              "      <td>Male</td>\n",
              "      <td>Yes</td>\n",
              "      <td>65</td>\n",
              "      <td>No</td>\n",
              "      <td>Lawyer</td>\n",
              "      <td>1.0</td>\n",
              "      <td>High</td>\n",
              "      <td>2.0</td>\n",
              "      <td>Cat_3</td>\n",
              "      <td>1</td>\n",
              "      <td>0</td>\n",
              "    </tr>\n",
              "    <tr>\n",
              "      <th>466496</th>\n",
              "      <td>Male</td>\n",
              "      <td>Yes</td>\n",
              "      <td>72</td>\n",
              "      <td>Yes</td>\n",
              "      <td>Artist</td>\n",
              "      <td>0.0</td>\n",
              "      <td>Average</td>\n",
              "      <td>2.0</td>\n",
              "      <td>Cat_6</td>\n",
              "      <td>0</td>\n",
              "      <td>0</td>\n",
              "    </tr>\n",
              "  </tbody>\n",
              "</table>\n",
              "<p>4840 rows × 11 columns</p>\n",
              "</div>"
            ],
            "text/plain": [
              "        Gender Ever_Married  Age Graduated  Profession  Work_Experience  \\\n",
              "ID                                                                        \n",
              "464383  Female          Yes   81       Yes      Lawyer              1.0   \n",
              "462661  Female          Yes   62       Yes      Artist              2.0   \n",
              "462762    Male          Yes   48       Yes      Artist              0.0   \n",
              "459463  Female          Yes   62       Yes      Artist              1.0   \n",
              "467302    Male           No   26       Yes   Executive              9.0   \n",
              "...        ...          ...  ...       ...         ...              ...   \n",
              "465209    Male          Yes   47       Yes      Artist              0.0   \n",
              "461652  Female          Yes   53       Yes      Artist              1.0   \n",
              "464475    Male           No   25       Yes  Healthcare              0.0   \n",
              "461023    Male          Yes   65        No      Lawyer              1.0   \n",
              "466496    Male          Yes   72       Yes      Artist              0.0   \n",
              "\n",
              "       Spending_Score  Family_Size  Var_1  Work_Experience_was_missed  \\\n",
              "ID                                                                      \n",
              "464383            Low          1.0  Cat_6                           0   \n",
              "462661           High          3.0  Cat_6                           0   \n",
              "462762           High          4.0  Cat_6                           0   \n",
              "459463        Average          3.0  Cat_6                           1   \n",
              "467302            Low          4.0  Cat_6                           0   \n",
              "...               ...          ...    ...                         ...   \n",
              "465209        Average          2.0  Cat_3                           0   \n",
              "461652        Average          3.0  Cat_6                           0   \n",
              "464475            Low          4.0  Cat_6                           0   \n",
              "461023           High          2.0  Cat_3                           1   \n",
              "466496        Average          2.0  Cat_6                           0   \n",
              "\n",
              "        Family_Size_was_missed  \n",
              "ID                              \n",
              "464383                       0  \n",
              "462661                       0  \n",
              "462762                       0  \n",
              "459463                       0  \n",
              "467302                       0  \n",
              "...                        ...  \n",
              "465209                       0  \n",
              "461652                       0  \n",
              "464475                       0  \n",
              "461023                       0  \n",
              "466496                       0  \n",
              "\n",
              "[4840 rows x 11 columns]"
            ]
          },
          "execution_count": 140,
          "metadata": {},
          "output_type": "execute_result"
        }
      ],
      "source": [
        "train_X"
      ]
    },
    {
      "cell_type": "code",
      "execution_count": 141,
      "metadata": {},
      "outputs": [],
      "source": [
        "smote = SMOTENC(categorical_features=[0,1,3,4,6,8])\n",
        "train_X_smote, train_target_smote = smote.fit_resample(train_X, train_target)"
      ]
    },
    {
      "cell_type": "code",
      "execution_count": 146,
      "metadata": {},
      "outputs": [],
      "source": [
        "def getPredictAndMetrics(model_object, train_input, train_target, test_input, test_target):\n",
        "    model_object.fit(train_input, train_target)\n",
        "    train_predicted = model_object.predict(train_input) \n",
        "    test_predicted = model_object.predict(test_input) \n",
        "    print(\"Train metrics\") \n",
        "    print(classification_report(train_target, train_predicted))\n",
        "    print(\"Test metrics\") \n",
        "    print(classification_report(test_target, test_predicted))"
      ]
    },
    {
      "cell_type": "code",
      "execution_count": 147,
      "metadata": {},
      "outputs": [
        {
          "name": "stdout",
          "output_type": "stream",
          "text": [
            "Train metrics\n",
            "              precision    recall  f1-score   support\n",
            "\n",
            "           A       0.44      0.50      0.47      1360\n",
            "           B       0.41      0.24      0.30      1360\n",
            "           C       0.50      0.61      0.55      1360\n",
            "           D       0.62      0.66      0.64      1360\n",
            "\n",
            "    accuracy                           0.50      5440\n",
            "   macro avg       0.49      0.50      0.49      5440\n",
            "weighted avg       0.49      0.50      0.49      5440\n",
            "\n",
            "Test metrics\n",
            "              precision    recall  f1-score   support\n",
            "\n",
            "           A       0.41      0.47      0.44       789\n",
            "           B       0.38      0.25      0.30       743\n",
            "           C       0.48      0.56      0.52       788\n",
            "           D       0.67      0.69      0.68       908\n",
            "\n",
            "    accuracy                           0.50      3228\n",
            "   macro avg       0.49      0.49      0.48      3228\n",
            "weighted avg       0.49      0.50      0.49      3228\n",
            "\n"
          ]
        },
        {
          "name": "stderr",
          "output_type": "stream",
          "text": [
            "/opt/anaconda3/lib/python3.11/site-packages/sklearn/preprocessing/_encoders.py:868: FutureWarning: `sparse` was renamed to `sparse_output` in version 1.2 and will be removed in 1.4. `sparse_output` is ignored unless you leave `sparse` to its default value.\n",
            "  warnings.warn(\n"
          ]
        }
      ],
      "source": [
        "model_smote = copy.deepcopy(model)\n",
        "getPredictAndMetrics(model_smote, train_X_smote, train_target_smote, test_X, test_target)"
      ]
    },
    {
      "cell_type": "code",
      "execution_count": 159,
      "metadata": {
        "id": "6NFUkQ_15HNX"
      },
      "outputs": [
        {
          "name": "stderr",
          "output_type": "stream",
          "text": [
            "/opt/anaconda3/lib/python3.11/site-packages/sklearn/preprocessing/_encoders.py:868: FutureWarning: `sparse` was renamed to `sparse_output` in version 1.2 and will be removed in 1.4. `sparse_output` is ignored unless you leave `sparse` to its default value.\n",
            "  warnings.warn(\n"
          ]
        }
      ],
      "source": [
        "preprocessor_model = Pipeline(\n",
        "    steps=[\n",
        "        ('preprocessor', preprocessor)\n",
        "    ]\n",
        ")\n",
        "train_x_encoded = preprocessor_model.fit_transform(train_X, train_target)\n"
      ]
    },
    {
      "cell_type": "code",
      "execution_count": 162,
      "metadata": {},
      "outputs": [
        {
          "name": "stderr",
          "output_type": "stream",
          "text": [
            "/opt/anaconda3/lib/python3.11/site-packages/sklearn/preprocessing/_encoders.py:868: FutureWarning: `sparse` was renamed to `sparse_output` in version 1.2 and will be removed in 1.4. `sparse_output` is ignored unless you leave `sparse` to its default value.\n",
            "  warnings.warn(\n"
          ]
        }
      ],
      "source": [
        "test_x_encoded = preprocessor_model.fit_transform(test_X, test_target)"
      ]
    },
    {
      "cell_type": "code",
      "execution_count": 203,
      "metadata": {},
      "outputs": [
        {
          "name": "stdout",
          "output_type": "stream",
          "text": [
            "Train metrics\n",
            "              precision    recall  f1-score   support\n",
            "\n",
            "           A       0.46      0.49      0.47      1010\n",
            "           B       0.41      0.23      0.29      1038\n",
            "           C       0.52      0.67      0.59      1089\n",
            "           D       0.67      0.72      0.69      1085\n",
            "\n",
            "    accuracy                           0.53      4222\n",
            "   macro avg       0.51      0.53      0.51      4222\n",
            "weighted avg       0.52      0.53      0.51      4222\n",
            "\n",
            "Test metrics\n",
            "              precision    recall  f1-score   support\n",
            "\n",
            "           A       0.40      0.44      0.42       789\n",
            "           B       0.36      0.22      0.28       743\n",
            "           C       0.47      0.60      0.53       788\n",
            "           D       0.68      0.68      0.68       908\n",
            "\n",
            "    accuracy                           0.50      3228\n",
            "   macro avg       0.48      0.49      0.48      3228\n",
            "weighted avg       0.49      0.50      0.49      3228\n",
            "\n"
          ]
        }
      ],
      "source": [
        "model_smote_tomek = copy.deepcopy(model)\n",
        "smote_tomek = SMOTETomek()\n",
        "train_x_smote_tomek, train_target_smote_tomek = smote_tomek.fit_resample(X=train_x_encoded, y=train_target)\n",
        "model_smote_tomek = LogisticRegression(solver='liblinear')\n",
        "getPredictAndMetrics(model_smote_tomek, train_x_smote_tomek, train_target_smote_tomek, test_x_encoded, test_target)"
      ]
    },
    {
      "cell_type": "code",
      "execution_count": 187,
      "metadata": {},
      "outputs": [
        {
          "name": "stdout",
          "output_type": "stream",
          "text": [
            "Train metrics\n",
            "              precision    recall  f1-score   support\n",
            "\n",
            "           A       0.57      0.58      0.57      1012\n",
            "           B       0.51      0.43      0.46      1044\n",
            "           C       0.61      0.68      0.65      1089\n",
            "           D       0.73      0.74      0.74      1093\n",
            "\n",
            "    accuracy                           0.61      4238\n",
            "   macro avg       0.60      0.61      0.60      4238\n",
            "weighted avg       0.61      0.61      0.61      4238\n",
            "\n",
            "Test metrics\n",
            "              precision    recall  f1-score   support\n",
            "\n",
            "           A       0.40      0.41      0.41       789\n",
            "           B       0.37      0.33      0.35       743\n",
            "           C       0.53      0.59      0.56       788\n",
            "           D       0.68      0.67      0.67       908\n",
            "\n",
            "    accuracy                           0.51      3228\n",
            "   macro avg       0.50      0.50      0.50      3228\n",
            "weighted avg       0.50      0.51      0.51      3228\n",
            "\n"
          ]
        }
      ],
      "source": [
        "model_svc = SVC()\n",
        "getPredictAndMetrics(model_svc, train_x_smote_tomek, train_target_smote_tomek, test_x_encoded, test_target)"
      ]
    },
    {
      "cell_type": "code",
      "execution_count": 170,
      "metadata": {},
      "outputs": [],
      "source": [
        "model_svc_2 = Pipeline(\n",
        "    steps=[\n",
        "        ('preproc', preprocessor),\n",
        "        ('classifier', SVC())\n",
        "    ]\n",
        ")"
      ]
    },
    {
      "cell_type": "code",
      "execution_count": 171,
      "metadata": {},
      "outputs": [],
      "source": [
        "test_X_smote, test_target_smote = smote.fit_resample(test_X, test_target)"
      ]
    },
    {
      "cell_type": "code",
      "execution_count": 210,
      "metadata": {},
      "outputs": [
        {
          "name": "stderr",
          "output_type": "stream",
          "text": [
            "/opt/anaconda3/lib/python3.11/site-packages/sklearn/preprocessing/_encoders.py:868: FutureWarning: `sparse` was renamed to `sparse_output` in version 1.2 and will be removed in 1.4. `sparse_output` is ignored unless you leave `sparse` to its default value.\n",
            "  warnings.warn(\n",
            "/opt/anaconda3/lib/python3.11/site-packages/sklearn/preprocessing/_encoders.py:868: FutureWarning: `sparse` was renamed to `sparse_output` in version 1.2 and will be removed in 1.4. `sparse_output` is ignored unless you leave `sparse` to its default value.\n",
            "  warnings.warn(\n"
          ]
        },
        {
          "name": "stdout",
          "output_type": "stream",
          "text": [
            "Train metrics\n",
            "              precision    recall  f1-score   support\n",
            "\n",
            "           A       0.50      0.58      0.54      1360\n",
            "           B       0.48      0.39      0.43      1360\n",
            "           C       0.60      0.60      0.60      1360\n",
            "           D       0.66      0.68      0.67      1360\n",
            "\n",
            "    accuracy                           0.56      5440\n",
            "   macro avg       0.56      0.56      0.56      5440\n",
            "weighted avg       0.56      0.56      0.56      5440\n",
            "\n",
            "Test metrics\n",
            "              precision    recall  f1-score   support\n",
            "\n",
            "           A       0.41      0.47      0.44       789\n",
            "           B       0.39      0.33      0.36       743\n",
            "           C       0.55      0.55      0.55       788\n",
            "           D       0.67      0.69      0.68       908\n",
            "\n",
            "    accuracy                           0.52      3228\n",
            "   macro avg       0.51      0.51      0.51      3228\n",
            "weighted avg       0.52      0.52      0.52      3228\n",
            "\n"
          ]
        }
      ],
      "source": [
        "model_svc_2.fit(train_X_smote, train_target_smote)\n",
        "getPredictAndMetrics(model_svc_2, train_X_smote, train_target_smote, test_X, test_target)"
      ]
    },
    {
      "cell_type": "markdown",
      "metadata": {
        "id": "ja4w_GgmT4D0"
      },
      "source": [
        "**Завдання 3**.\n",
        "  1. Навчіть модель логістичної регресії з використанням стратегії One-vs-Rest з логістичною регресією на оригінальних даних, збалансованих з SMOTE, збалансованих з Smote-Tomek.  \n",
        "  2. Виміряйте якість кожної з натренованих моделей використовуючи `sklearn.metrics.classification_report`.\n",
        "  3. Напишіть, яку метрику ви обрали для порівняння моделей.\n",
        "  4. Яка модель найкраща?\n",
        "  5. Якщо немає суттєвої різниці між моделями - напишіть свою гіпотезу, чому?"
      ]
    },
    {
      "cell_type": "code",
      "execution_count": 191,
      "metadata": {
        "id": "nxWVeRan5JBh"
      },
      "outputs": [
        {
          "name": "stdout",
          "output_type": "stream",
          "text": [
            "Train metrics\n",
            "              precision    recall  f1-score   support\n",
            "\n",
            "           A       0.43      0.46      0.44      1183\n",
            "           B       0.39      0.15      0.22      1115\n",
            "           C       0.48      0.66      0.56      1182\n",
            "           D       0.63      0.71      0.67      1360\n",
            "\n",
            "    accuracy                           0.51      4840\n",
            "   macro avg       0.48      0.49      0.47      4840\n",
            "weighted avg       0.49      0.51      0.48      4840\n",
            "\n",
            "Test metrics\n",
            "              precision    recall  f1-score   support\n",
            "\n",
            "           A       0.43      0.45      0.44       789\n",
            "           B       0.39      0.15      0.22       743\n",
            "           C       0.46      0.63      0.53       788\n",
            "           D       0.65      0.74      0.69       908\n",
            "\n",
            "    accuracy                           0.51      3228\n",
            "   macro avg       0.48      0.49      0.47      3228\n",
            "weighted avg       0.49      0.51      0.48      3228\n",
            "\n"
          ]
        }
      ],
      "source": [
        "logReg = LogisticRegression(solver=\"liblinear\")\n",
        "ovr_model = OneVsRestClassifier(logReg)\n",
        "ovr_model.fit(train_x_encoded, train_target)\n",
        "getPredictAndMetrics(ovr_model, train_x_encoded, train_target, test_x_encoded, test_target)"
      ]
    },
    {
      "cell_type": "code",
      "execution_count": 211,
      "metadata": {},
      "outputs": [
        {
          "name": "stdout",
          "output_type": "stream",
          "text": [
            "Train metrics\n",
            "              precision    recall  f1-score   support\n",
            "\n",
            "           A       0.44      0.50      0.47      1360\n",
            "           B       0.41      0.24      0.30      1360\n",
            "           C       0.50      0.61      0.55      1360\n",
            "           D       0.62      0.66      0.64      1360\n",
            "\n",
            "    accuracy                           0.50      5440\n",
            "   macro avg       0.49      0.50      0.49      5440\n",
            "weighted avg       0.49      0.50      0.49      5440\n",
            "\n",
            "Test metrics\n",
            "              precision    recall  f1-score   support\n",
            "\n",
            "           A       0.41      0.47      0.44       789\n",
            "           B       0.38      0.25      0.30       743\n",
            "           C       0.48      0.56      0.52       788\n",
            "           D       0.67      0.69      0.68       908\n",
            "\n",
            "    accuracy                           0.50      3228\n",
            "   macro avg       0.49      0.49      0.48      3228\n",
            "weighted avg       0.49      0.50      0.49      3228\n",
            "\n"
          ]
        },
        {
          "name": "stderr",
          "output_type": "stream",
          "text": [
            "/opt/anaconda3/lib/python3.11/site-packages/sklearn/preprocessing/_encoders.py:868: FutureWarning: `sparse` was renamed to `sparse_output` in version 1.2 and will be removed in 1.4. `sparse_output` is ignored unless you leave `sparse` to its default value.\n",
            "  warnings.warn(\n",
            "/opt/anaconda3/lib/python3.11/site-packages/sklearn/preprocessing/_encoders.py:868: FutureWarning: `sparse` was renamed to `sparse_output` in version 1.2 and will be removed in 1.4. `sparse_output` is ignored unless you leave `sparse` to its default value.\n",
            "  warnings.warn(\n"
          ]
        }
      ],
      "source": [
        "train_X_smote_encoded = preprocessor_model.fit_transform(train_X_smote, train_target)\n",
        "test_X_smote_encoded = preprocessor_model.fit_transform(test_X_smote, test_target)\n",
        "ovr_model2 = OneVsRestClassifier(logReg)\n",
        "ovr_model2.fit(train_X_smote_encoded, train_target_smote)\n",
        "getPredictAndMetrics(ovr_model2, train_X_smote_encoded, train_target_smote, test_x_encoded, test_target)"
      ]
    },
    {
      "cell_type": "code",
      "execution_count": 212,
      "metadata": {},
      "outputs": [
        {
          "name": "stdout",
          "output_type": "stream",
          "text": [
            "Train metrics\n",
            "              precision    recall  f1-score   support\n",
            "\n",
            "           A       0.46      0.49      0.47      1010\n",
            "           B       0.41      0.23      0.29      1038\n",
            "           C       0.52      0.67      0.59      1089\n",
            "           D       0.67      0.72      0.69      1085\n",
            "\n",
            "    accuracy                           0.53      4222\n",
            "   macro avg       0.51      0.53      0.51      4222\n",
            "weighted avg       0.52      0.53      0.51      4222\n",
            "\n",
            "Test metrics\n",
            "              precision    recall  f1-score   support\n",
            "\n",
            "           A       0.40      0.44      0.42       789\n",
            "           B       0.36      0.22      0.28       743\n",
            "           C       0.47      0.60      0.53       788\n",
            "           D       0.68      0.68      0.68       908\n",
            "\n",
            "    accuracy                           0.50      3228\n",
            "   macro avg       0.48      0.49      0.48      3228\n",
            "weighted avg       0.49      0.50      0.49      3228\n",
            "\n"
          ]
        }
      ],
      "source": [
        "\n",
        "ovr_model2 = OneVsRestClassifier(logReg)\n",
        "ovr_model2.fit(train_x_smote_tomek, train_target_smote_tomek)\n",
        "getPredictAndMetrics(ovr_model2, train_x_smote_tomek, train_target_smote_tomek, test_x_encoded, test_target)"
      ]
    },
    {
      "cell_type": "markdown",
      "metadata": {},
      "source": [
        "Точність всіх моделей не висока, найкраща з них - це SVC на SMOTE даних model_svc_2 (судячи по F1 та recall ан тестових даних)\n",
        "Найнижча точність моделей на класі В. Можливо варто викоритсовувати інший поріг входження для цього класу (якщо є така опція)"
      ]
    },
    {
      "cell_type": "markdown",
      "metadata": {},
      "source": []
    }
  ],
  "metadata": {
    "colab": {
      "provenance": []
    },
    "kernelspec": {
      "display_name": "Python 3",
      "name": "python3"
    },
    "language_info": {
      "codemirror_mode": {
        "name": "ipython",
        "version": 3
      },
      "file_extension": ".py",
      "mimetype": "text/x-python",
      "name": "python",
      "nbconvert_exporter": "python",
      "pygments_lexer": "ipython3",
      "version": "3.11.7"
    }
  },
  "nbformat": 4,
  "nbformat_minor": 0
}
